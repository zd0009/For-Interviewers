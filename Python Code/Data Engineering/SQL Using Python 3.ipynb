{
 "cells": [
  {
   "cell_type": "markdown",
   "metadata": {},
   "source": [
    "## DATA ENGINEERING PLATFORMS (MSCA 31012)\n",
    "## Assignment 4 \n",
    "## Student: Duo Zhou"
   ]
  },
  {
   "cell_type": "code",
   "execution_count": 1,
   "metadata": {},
   "outputs": [],
   "source": [
    "#import libraries\n",
    "import pymongo\n",
    "import json\n",
    "from pymongo import MongoClient\n",
    "from pprint import pprint\n",
    "import pandas as pd"
   ]
  },
  {
   "cell_type": "code",
   "execution_count": 2,
   "metadata": {},
   "outputs": [],
   "source": [
    "#connect to local database server\n",
    "client = MongoClient()\n",
    "\n",
    "#switch to test DB\n",
    "db = client.sakila"
   ]
  },
  {
   "cell_type": "code",
   "execution_count": 3,
   "metadata": {},
   "outputs": [],
   "source": [
    "# function to print only first n documents (to avoid perf/memory issues)\n",
    "def printhead(cursor, n):\n",
    "    for idx,document in enumerate(cursor):\n",
    "        if idx < n: \n",
    "            pprint(document)\n",
    "        else:\n",
    "            break"
   ]
  },
  {
   "cell_type": "markdown",
   "metadata": {},
   "source": [
    "# Part A"
   ]
  },
  {
   "cell_type": "code",
   "execution_count": 4,
   "metadata": {},
   "outputs": [
    {
     "name": "stderr",
     "output_type": "stream",
     "text": [
      "C:\\Users\\zd000\\Anaconda3\\lib\\site-packages\\ipykernel_launcher.py:2: DeprecationWarning: count is deprecated. Use Collection.count_documents instead.\n",
      "  \n"
     ]
    },
    {
     "data": {
      "text/plain": [
       "9"
      ]
     },
     "execution_count": 4,
     "metadata": {},
     "output_type": "execute_result"
    }
   ],
   "source": [
    "# 1. List total number of customers living in california ?\n",
    "db.customers.find({ \"District\" : \"California\" }).count()"
   ]
  },
  {
   "cell_type": "code",
   "execution_count": 5,
   "metadata": {},
   "outputs": [
    {
     "name": "stderr",
     "output_type": "stream",
     "text": [
      "C:\\Users\\zd000\\Anaconda3\\lib\\site-packages\\ipykernel_launcher.py:3: DeprecationWarning: count is deprecated. Use Collection.count_documents instead.\n",
      "  This is separate from the ipykernel package so we can avoid doing imports until\n"
     ]
    },
    {
     "name": "stdout",
     "output_type": "stream",
     "text": [
      "Total Number of films that are rated Nc17 are 210\n",
      "We only print out the first 5 on the list\n",
      "{'Actors': [{'First name': 'NICK', 'Last name': 'WAHLBERG', 'actorId': 2.0},\n",
      "            {'First name': 'BOB', 'Last name': 'FAWCETT', 'actorId': 19.0},\n",
      "            {'First name': 'CAMERON', 'Last name': 'STREEP', 'actorId': 24.0},\n",
      "            {'First name': 'RAY', 'Last name': 'JOHANSSON', 'actorId': 64.0},\n",
      "            {'First name': 'JULIANNE', 'Last name': 'DENCH', 'actorId': 123.0}],\n",
      " 'Category': 'Documentary',\n",
      " 'Description': 'A Astounding Reflection of a Lumberjack And a Car who must '\n",
      "                'Sink a Lumberjack in A Baloon Factory',\n",
      " 'Length': '50',\n",
      " 'Rating': 'NC-17',\n",
      " 'Rental Duration': '7',\n",
      " 'Replacement Cost': '18.99',\n",
      " 'Special Features': 'Trailers,Deleted Scenes',\n",
      " 'Title': 'ADAPTATION HOLES',\n",
      " '_id': 3.0}\n",
      "{'Actors': [{'First name': 'ALEC', 'Last name': 'WAYNE', 'actorId': 29.0},\n",
      "            {'First name': 'JUDY', 'Last name': 'DEAN', 'actorId': 35.0},\n",
      "            {'First name': 'VAL', 'Last name': 'BOLGER', 'actorId': 37.0},\n",
      "            {'First name': 'RAY', 'Last name': 'JOHANSSON', 'actorId': 64.0},\n",
      "            {'First name': 'RENEE', 'Last name': 'TRACY', 'actorId': 117.0},\n",
      "            {'First name': 'JADA', 'Last name': 'RYDER', 'actorId': 142.0},\n",
      "            {'First name': 'GRETA', 'Last name': 'MALDEN', 'actorId': 157.0},\n",
      "            {'First name': 'ROCK', 'Last name': 'DUKAKIS', 'actorId': 188.0}],\n",
      " 'Category': 'Sports',\n",
      " 'Description': 'A Action-Packed Tale of a Man And a Lumberjack who must Reach '\n",
      "                'a Feminist in Ancient China',\n",
      " 'Length': '63',\n",
      " 'Rating': 'NC-17',\n",
      " 'Rental Duration': '6',\n",
      " 'Replacement Cost': '24.99',\n",
      " 'Special Features': 'Trailers,Deleted Scenes',\n",
      " 'Title': 'ALADDIN CALENDAR',\n",
      " '_id': 10.0}\n",
      "{'Actors': [{'First name': 'WOODY', 'Last name': 'HOFFMAN', 'actorId': 28.0},\n",
      "            {'First name': 'MINNIE', 'Last name': 'ZELLWEGER', 'actorId': 85.0},\n",
      "            {'First name': 'MORGAN', 'Last name': 'WILLIAMS', 'actorId': 137.0},\n",
      "            {'First name': 'ROCK', 'Last name': 'DUKAKIS', 'actorId': 188.0}],\n",
      " 'Category': 'Classics',\n",
      " 'Description': 'A Emotional Drama of a A Shark And a Database Administrator '\n",
      "                'who must Vanquish a Pioneer in Soviet Georgia',\n",
      " 'Length': '94',\n",
      " 'Rating': 'NC-17',\n",
      " 'Rental Duration': '6',\n",
      " 'Replacement Cost': '23.99',\n",
      " 'Special Features': 'Trailers,Deleted Scenes,Behind the Scenes',\n",
      " 'Title': 'ALICE FANTASIA',\n",
      " '_id': 14.0}\n",
      "{'Actors': [{'First name': 'BURT', 'Last name': 'DUKAKIS', 'actorId': 36.0},\n",
      "            {'First name': 'KENNETH', 'Last name': 'PALTROW', 'actorId': 69.0},\n",
      "            {'First name': 'SIDNEY', 'Last name': 'CROWE', 'actorId': 105.0},\n",
      "            {'First name': 'RENEE', 'Last name': 'TRACY', 'actorId': 117.0},\n",
      "            {'First name': 'HUMPHREY', 'Last name': 'WILLIS', 'actorId': 164.0},\n",
      "            {'First name': 'MENA', 'Last name': 'HOPPER', 'actorId': 170.0}],\n",
      " 'Category': 'Foreign',\n",
      " 'Description': 'A Brilliant Drama of a Cat And a Mad Scientist who must '\n",
      "                'Battle a Feminist in A MySQL Convention',\n",
      " 'Length': '46',\n",
      " 'Rating': 'NC-17',\n",
      " 'Rental Duration': '5',\n",
      " 'Replacement Cost': '10.99',\n",
      " 'Special Features': 'Trailers,Commentaries,Behind the Scenes',\n",
      " 'Title': 'ALIEN CENTER',\n",
      " '_id': 15.0}\n",
      "{'Actors': [{'First name': 'KARL', 'Last name': 'BERRY', 'actorId': 12.0},\n",
      "            {'First name': 'JUDE', 'Last name': 'CRUISE', 'actorId': 57.0},\n",
      "            {'First name': 'ALBERT',\n",
      "             'Last name': 'JOHANSSON',\n",
      "             'actorId': 146.0},\n",
      "            {'First name': 'GREGORY', 'Last name': 'GOODING', 'actorId': 191.0},\n",
      "            {'First name': 'JOHN', 'Last name': 'SUVARI', 'actorId': 192.0}],\n",
      " 'Category': 'Foreign',\n",
      " 'Description': 'A Fast-Paced Drama of a Robot And a Composer who must Battle '\n",
      "                'a Astronaut in New Orleans',\n",
      " 'Length': '180',\n",
      " 'Rating': 'NC-17',\n",
      " 'Rental Duration': '6',\n",
      " 'Replacement Cost': '23.99',\n",
      " 'Special Features': 'Trailers,Commentaries',\n",
      " 'Title': 'ALLEY EVOLUTION',\n",
      " '_id': 16.0}\n"
     ]
    }
   ],
   "source": [
    "# 2. List all movies that are rated NC-17. Only First 5 films rated NC17 are printed\n",
    "NC17=db.films.find({\"Rating\" : \"NC-17\"})\n",
    "Count2 = db.films.find({\"Rating\" : \"NC-17\"}).count()\n",
    "print('Total Number of films that are rated Nc17 are',Count2)\n",
    "print(\"We only print out the first 5 on the list\")\n",
    "printhead(NC17, 5)"
   ]
  },
  {
   "cell_type": "code",
   "execution_count": 7,
   "metadata": {},
   "outputs": [
    {
     "name": "stdout",
     "output_type": "stream",
     "text": [
      "{'_id': 'Family', 'counter': 69}\n",
      "{'_id': 'Children', 'counter': 60}\n",
      "{'_id': 'Documentary', 'counter': 68}\n",
      "{'_id': 'Foreign', 'counter': 73}\n",
      "{'_id': 'Horror', 'counter': 56}\n",
      "{'_id': 'Sci-Fi', 'counter': 61}\n",
      "{'_id': 'Animation', 'counter': 66}\n",
      "{'_id': 'Sports', 'counter': 74}\n",
      "{'_id': 'Games', 'counter': 61}\n",
      "{'_id': 'Music', 'counter': 51}\n",
      "{'_id': 'Drama', 'counter': 62}\n",
      "{'_id': 'Action', 'counter': 64}\n",
      "{'_id': 'New', 'counter': 63}\n",
      "{'_id': 'Travel', 'counter': 57}\n",
      "{'_id': 'Comedy', 'counter': 58}\n",
      "{'_id': 'Classics', 'counter': 57}\n"
     ]
    }
   ],
   "source": [
    "#3. List the count of movies by category\n",
    "Q3=db.films.aggregate([{\"$group\":{\"_id\":\"$Category\",\"counter\":{\"$sum\": 1}}}])\n",
    "printhead(Q3,20)"
   ]
  },
  {
   "cell_type": "code",
   "execution_count": 8,
   "metadata": {},
   "outputs": [
    {
     "name": "stdout",
     "output_type": "stream",
     "text": [
      "{'Actors': [{'First name': 'ANGELA', 'Last name': 'HUDSON', 'actorId': 65.0},\n",
      "            {'First name': 'JAMES', 'Last name': 'PITT', 'actorId': 84.0},\n",
      "            {'First name': 'PENELOPE', 'Last name': 'CRONYN', 'actorId': 104.0},\n",
      "            {'First name': 'CUBA', 'Last name': 'ALLEN', 'actorId': 118.0},\n",
      "            {'First name': 'KIM', 'Last name': 'ALLEN', 'actorId': 145.0},\n",
      "            {'First name': 'GENE', 'Last name': 'MCKELLEN', 'actorId': 177.0},\n",
      "            {'First name': 'GREGORY',\n",
      "             'Last name': 'GOODING',\n",
      "             'actorId': 191.0}],\n",
      " 'Category': 'Sci-Fi',\n",
      " 'Description': 'A Fast-Paced Tale of a Boat And a Teacher who must Succumb a '\n",
      "                'Composer in An Abandoned Mine Shaft',\n",
      " 'Length': '99',\n",
      " 'Rating': 'G',\n",
      " 'Rental Duration': '5',\n",
      " 'Replacement Cost': '10.99',\n",
      " 'Special Features': 'Trailers',\n",
      " 'Title': 'ARMAGEDDON LOST',\n",
      " '_id': 39.0}\n",
      "{'Actors': [{'First name': 'GENE', 'Last name': 'WILLIS', 'actorId': 96.0},\n",
      "            {'First name': 'GINA', 'Last name': 'DEGENERES', 'actorId': 107.0}],\n",
      " 'Category': 'Drama',\n",
      " 'Description': 'A Touching Documentary of a Husband And a Hunter who must '\n",
      "                'Escape a Boy in The Sahara Desert',\n",
      " 'Length': '99',\n",
      " 'Rating': 'NC-17',\n",
      " 'Rental Duration': '6',\n",
      " 'Replacement Cost': '24.99',\n",
      " 'Special Features': 'Deleted Scenes,Behind the Scenes',\n",
      " 'Title': 'DARKNESS WAR',\n",
      " '_id': 209.0}\n"
     ]
    }
   ],
   "source": [
    "# 4.  Find the top 2 movies with movie length greater than 25mins OR which has commentaries as a special feature\n",
    "#Assumption: Sorted by Movie Length\n",
    "Q4=db.films.find({\"$or\":[{\"Length\":{\"$gt\": \"25\" }}, {\"Special Features\": \"/Commentaries/\"}]}).sort(\"Length\",-1)\n",
    "printhead(Q4,2)"
   ]
  },
  {
   "cell_type": "code",
   "execution_count": 9,
   "metadata": {},
   "outputs": [
    {
     "name": "stdout",
     "output_type": "stream",
     "text": [
      "{'Number of rentals': 46, '_id': {'First Name': 'ELEANOR', 'Last Name': 'HUNT'}}\n",
      "{'Number of rentals': 45, '_id': {'First Name': 'KARL', 'Last Name': 'SEAL'}}\n",
      "{'Number of rentals': 42, '_id': {'First Name': 'MARCIA', 'Last Name': 'DEAN'}}\n",
      "{'Number of rentals': 42, '_id': {'First Name': 'CLARA', 'Last Name': 'SHAW'}}\n",
      "{'Number of rentals': 41,\n",
      " '_id': {'First Name': 'TAMMY', 'Last Name': 'SANDERS'}}\n",
      "{'Number of rentals': 40, '_id': {'First Name': 'SUE', 'Last Name': 'PETERS'}}\n",
      "{'Number of rentals': 40, '_id': {'First Name': 'WESLEY', 'Last Name': 'BULL'}}\n",
      "{'Number of rentals': 39,\n",
      " '_id': {'First Name': 'RHONDA', 'Last Name': 'KENNEDY'}}\n",
      "{'Number of rentals': 39,\n",
      " '_id': {'First Name': 'MARION', 'Last Name': 'SNYDER'}}\n",
      "{'Number of rentals': 39, '_id': {'First Name': 'TIM', 'Last Name': 'CARY'}}\n"
     ]
    }
   ],
   "source": [
    "# 5. Find the top 10 customers based on number of rentals\n",
    "Q5=db.customers.aggregate([{\"$group\": {\"_id\": {\"First Name\":\"$First Name\",\"Last Name\":\"$Last Name\" },\n",
    "\"Number of rentals\": {\"$sum\": {\"$size\":\"$Rentals.rentalId\"}}}}, {\"$sort\":{\"Number of rentals\" : -1}}])\n",
    "printhead(Q5,10)"
   ]
  },
  {
   "cell_type": "markdown",
   "metadata": {},
   "source": [
    "##### 6. Provide 5 additional queries and indicate the specific business use cases they address\n",
    "###### Note: Insights should not be a flavor of the previously addressed queries within Assignment 4."
   ]
  },
  {
   "cell_type": "code",
   "execution_count": 10,
   "metadata": {},
   "outputs": [
    {
     "name": "stdout",
     "output_type": "stream",
     "text": [
      "{'Number of actors': 15, '_id': 'LAMBS CINCINATTI'}\n",
      "{'Number of actors': 13, '_id': 'MUMMY CREATURES'}\n",
      "{'Number of actors': 13, '_id': 'BOONDOCK BALLROOM'}\n",
      "{'Number of actors': 13, '_id': 'CHITTY LOCK'}\n",
      "{'Number of actors': 13, '_id': 'RANDOM GO'}\n",
      "{'Number of actors': 13, '_id': 'CRAZY HOME'}\n",
      "{'Number of actors': 13, '_id': 'DRACULA CRYSTAL'}\n",
      "{'Number of actors': 12, '_id': 'TITANIC BOONDOCK'}\n",
      "{'Number of actors': 12, '_id': 'HELLFIGHTERS SIERRA'}\n",
      "{'Number of actors': 12, '_id': 'LONELY ELEPHANT'}\n"
     ]
    }
   ],
   "source": [
    "# 6.1 Find top 10 movies with most actors\n",
    "Q61=db.films.aggregate([{\"$group\": {\"_id\":\"$Title\",\"Number of actors\": {\"$sum\": {\"$size\":\"$Actors.actorId\"}}}}, \n",
    "{\"$sort\":{\"Number of actors\" : -1}}])\n",
    "printhead(Q61,10)"
   ]
  },
  {
   "cell_type": "code",
   "execution_count": 11,
   "metadata": {},
   "outputs": [
    {
     "name": "stdout",
     "output_type": "stream",
     "text": [
      "{'Address': '920 Kumbakonam Loop',\n",
      " 'Country': 'United States',\n",
      " 'Full Name': 'CASSANDRA WALTERS',\n",
      " '_id': 269.0}\n",
      "{'Address': '913 Coacalco de Berriozbal Loop',\n",
      " 'Country': 'United States',\n",
      " 'Full Name': 'RICHARD MCCRARY',\n",
      " '_id': 305.0}\n"
     ]
    }
   ],
   "source": [
    "# 6.2 Find all the customer that lives in the a loop address and from the United States\n",
    "#Concat first and last name as full name\n",
    "Q62=db.customers.aggregate([{\"$match\":{\"$and\":[{\"Country\":\"United States\" },\n",
    "{\"Address\":{\"$regex\": \"Loop\"}}]}}, {\"$project\":\n",
    "{ \"Full Name\": {\"$concat\": [ \"$First Name\", \" \", \"$Last Name\" ]},\"Address\":1,\"Country\":1}}])\n",
    "printhead(Q62,10)"
   ]
  },
  {
   "cell_type": "code",
   "execution_count": 12,
   "metadata": {},
   "outputs": [
    {
     "name": "stdout",
     "output_type": "stream",
     "text": [
      "{'Number of customers': 60, '_id': 'India'}\n",
      "{'Number of customers': 53, '_id': 'China'}\n",
      "{'Number of customers': 36, '_id': 'United States'}\n",
      "{'Number of customers': 31, '_id': 'Japan'}\n",
      "{'Number of customers': 30, '_id': 'Mexico'}\n",
      "{'Number of customers': 28, '_id': 'Brazil'}\n",
      "{'Number of customers': 28, '_id': 'Russian Federation'}\n",
      "{'Number of customers': 20, '_id': 'Philippines'}\n",
      "{'Number of customers': 15, '_id': 'Turkey'}\n",
      "{'Number of customers': 14, '_id': 'Indonesia'}\n"
     ]
    }
   ],
   "source": [
    "# 6.3 Find top 10 countries with most customers\n",
    "Q63=db.customers.aggregate([{\"$group\": {\"_id\":\"$Country\",\n",
    "\"Number of customers\": {\"$sum\": 1}}}, {\"$sort\":{\"Number of customers\" : -1}}])\n",
    "printhead(Q63,10)"
   ]
  },
  {
   "cell_type": "code",
   "execution_count": 13,
   "metadata": {},
   "outputs": [
    {
     "name": "stdout",
     "output_type": "stream",
     "text": [
      "{'Description': 'A Thrilling Panorama of a Database Administrator And a '\n",
      "                'Astronaut who must Challenge a Lumberjack in A Baloon',\n",
      " 'Length': '98',\n",
      " 'Title': 'BOUND CHEAPER',\n",
      " '_id': 91.0}\n",
      "{'Description': 'A Beautiful Documentary of a Astronaut And a Moose who must '\n",
      "                'Pursue a Monkey in A Shark Tank',\n",
      " 'Length': '94',\n",
      " 'Title': 'FULL FLATLINERS',\n",
      " '_id': 343.0}\n",
      "{'Description': 'A Intrepid Drama of a Astronaut And a Crocodile who must Find '\n",
      "                'a Boat in Soviet Georgia',\n",
      " 'Length': '94',\n",
      " 'Title': 'STONE FIRE',\n",
      " '_id': 848.0}\n",
      "{'Description': 'A Fateful Story of a Robot And a Dentist who must Defeat a '\n",
      "                'Astronaut in New Orleans',\n",
      " 'Length': '89',\n",
      " 'Title': 'DARES PLUTO',\n",
      " '_id': 208.0}\n",
      "{'Description': 'A Amazing Display of a Robot And a Astronaut who must Fight a '\n",
      "                'Womanizer in Berlin',\n",
      " 'Length': '86',\n",
      " 'Title': 'YENTL IDAHO',\n",
      " '_id': 995.0}\n",
      "{'Description': 'A Intrepid Story of a Madman And a Secret Agent who must '\n",
      "                'Outrace a Astronaut in An Abandoned Amusement Park',\n",
      " 'Length': '85',\n",
      " 'Title': 'EGYPT TENENBAUMS',\n",
      " '_id': 275.0}\n",
      "{'Description': 'A Action-Packed Character Study of a Astronaut And a Explorer '\n",
      "                'who must Reach a Monkey in A MySQL Convention',\n",
      " 'Length': '85',\n",
      " 'Title': 'VARSITY TRIP',\n",
      " '_id': 937.0}\n",
      "{'Description': 'A Awe-Inspiring Tale of a Astronaut And a Database '\n",
      "                'Administrator who must Chase a Secret Agent in The Gulf of '\n",
      "                'Mexico',\n",
      " 'Length': '84',\n",
      " 'Title': 'SAVANNAH TOWN',\n",
      " '_id': 766.0}\n",
      "{'Description': 'A Beautiful Tale of a Astronaut And a Mad Cow who must '\n",
      "                'Challenge a Cat in A Baloon Factory',\n",
      " 'Length': '83',\n",
      " 'Title': 'MOON BUNCH',\n",
      " '_id': 595.0}\n",
      "{'Description': 'A Boring Reflection of a Secret Agent And a Astronaut who '\n",
      "                'must Face a Composer in A Manhattan Penthouse',\n",
      " 'Length': '83',\n",
      " 'Title': 'NONE SPIKING',\n",
      " '_id': 625.0}\n"
     ]
    }
   ],
   "source": [
    "# 6.4 Find the top 10 longest movies with Astronaut in the description\n",
    "Q64=db.films.aggregate([{\"$match\":{\"Description\":{\"$regex\": \"Astronaut\"}}},\n",
    "{\"$project\":{\"Length\":1,\"Title\":1,\"Description\":1}},{\"$sort\":{\"Length\" : -1}}])\n",
    "printhead(Q64,10)"
   ]
  },
  {
   "cell_type": "code",
   "execution_count": 14,
   "metadata": {},
   "outputs": [
    {
     "name": "stdout",
     "output_type": "stream",
     "text": [
      "{'Number of Inventories': 2270, '_id': 1.0}\n",
      "{'Number of Inventories': 2311, '_id': 2.0}\n"
     ]
    }
   ],
   "source": [
    "#6.5 Number of inventories of each store\n",
    "Q65=db.stores.aggregate([{\"$group\": {\"_id\":\"$_id\",\n",
    "\"Number of Inventories\": {\"$sum\": {\"$size\":\"$Inventory.inventoryId\"}}}}])\n",
    "printhead(Q65,10)"
   ]
  },
  {
   "cell_type": "markdown",
   "metadata": {},
   "source": [
    "# Part B"
   ]
  },
  {
   "cell_type": "code",
   "execution_count": 1,
   "metadata": {},
   "outputs": [],
   "source": [
    "from py2neo import Graph\n",
    "from py2neo import Node\n",
    "from py2neo import Relationship\n",
    "import networkx as nx\n",
    "from py2neo import Graph as PGraph\n",
    "from neo4j import GraphDatabase"
   ]
  },
  {
   "cell_type": "code",
   "execution_count": 2,
   "metadata": {},
   "outputs": [],
   "source": [
    "graph = Graph(\"http://localhost:7474/browser/\", auth=(\"neo4j\", \"rootroot\"))"
   ]
  },
  {
   "cell_type": "code",
   "execution_count": 5,
   "metadata": {},
   "outputs": [],
   "source": [
    "graph.delete_all()"
   ]
  },
  {
   "cell_type": "code",
   "execution_count": 69,
   "metadata": {},
   "outputs": [
    {
     "name": "stdout",
     "output_type": "stream",
     "text": [
      "<Record producers.name='Nora Ephron'>\n",
      "<Record producers.name='Rob Reiner'>\n"
     ]
    }
   ],
   "source": [
    "#Q1. Find all Producers that produced the movie When Harry Met Sally\n",
    "query = \"\"\"\n",
    "MATCH (WHMS {title: \"When Harry Met Sally\"})<-[:PRODUCED]-(producers) RETURN producers.name\n",
    "\"\"\"\n",
    "\n",
    "data = graph.run(query)\n",
    "\n",
    "for d in data:\n",
    "    print(d)"
   ]
  },
  {
   "cell_type": "code",
   "execution_count": 70,
   "metadata": {},
   "outputs": [
    {
     "name": "stdout",
     "output_type": "stream",
     "text": [
      "<Record director.name='Andy Wachowski'>\n",
      "<Record director.name='Lana Wachowski'>\n",
      "<Record director.name='Rob Reiner'>\n",
      "<Record director.name='Ron Howard'>\n"
     ]
    }
   ],
   "source": [
    "#Q2 Find directors who have directed more than 2 movies\n",
    "query = \"\"\"\n",
    "MATCH (director:Person)-[:DIRECTED]->(m) WITH director,\n",
    "COUNT(m) AS CountMovie WHERE CountMovie>2 RETURN\n",
    "DISTINCT director.name\n",
    "\"\"\"\n",
    "\n",
    "data = graph.run(query)\n",
    "\n",
    "for d in data:\n",
    "    print(d)"
   ]
  },
  {
   "cell_type": "code",
   "execution_count": 71,
   "metadata": {},
   "outputs": [
    {
     "name": "stdout",
     "output_type": "stream",
     "text": [
      "<Record actor.name='Hugo Weaving' movies=['The Matrix', 'The Matrix Reloaded', 'The Matrix Revolutions', 'Cloud Atlas', 'V for Vendetta']> \n",
      "\n",
      "<Record actor.name='Keanu Reeves' movies=['The Matrix', 'The Matrix Reloaded', 'The Matrix Revolutions', \"The Devil's Advocate\", 'The Replacements', 'Johnny Mnemonic', \"Something's Gotta Give\"]> \n",
      "\n",
      "<Record actor.name='Jack Nicholson' movies=['A Few Good Men', 'As Good as It Gets', 'Hoffa', \"One Flew Over the Cuckoo's Nest\", \"Something's Gotta Give\"]> \n",
      "\n",
      "<Record actor.name='Meg Ryan' movies=['Top Gun', \"You've Got Mail\", 'Sleepless in Seattle', 'Joe Versus the Volcano', 'When Harry Met Sally']> \n",
      "\n",
      "<Record actor.name='Tom Hanks' movies=[\"You've Got Mail\", 'Sleepless in Seattle', 'Joe Versus the Volcano', 'That Thing You Do', 'Cloud Atlas', 'The Da Vinci Code', 'The Green Mile', 'Apollo 13', 'Cast Away', \"Charlie Wilson's War\", 'The Polar Express', 'A League of Their Own']> \n",
      "\n"
     ]
    }
   ],
   "source": [
    "#Q3  Find the actors with 5+ movies, and the movies in which they acted\n",
    "query = \"\"\"\n",
    "match(actor:Person)-[:ACTED_IN]->(movie:Movie) with actor,\n",
    "collect(movie.title) as movies, count(movie) as mc where mc >= 5 return\n",
    "actor.name, movies\n",
    "\"\"\"\n",
    "\n",
    "data = graph.run(query)\n",
    "\n",
    "for d in data:\n",
    "    print(d,'\\n')"
   ]
  },
  {
   "cell_type": "code",
   "execution_count": 73,
   "metadata": {},
   "outputs": [
    {
     "name": "stdout",
     "output_type": "stream",
     "text": [
      "<Record hollywood=(_53:Person {born: 1963, name: 'Helen Hunt'})>\n",
      "<Record hollywood=(_55:Person {born: 1940, name: 'James L. Brooks'})>\n",
      "<Record hollywood=(_22:Person {born: 1968, name: 'Cuba Gooding Jr.'})>\n",
      "<Record hollywood=(_54:Person {born: 1963, name: 'Greg Kinnear'})>\n",
      "<Record hollywood=(_156:Person {born: 1949, name: 'Nancy Meyers'})>\n",
      "<Record hollywood=(_1:Person {born: 1964, name: 'Keanu Reeves'})>\n",
      "<Record hollywood=(_155:Person {born: 1946, name: 'Diane Keaton'})>\n",
      "<Record hollywood=(_28:Person {born: 1961, name: 'Aaron Sorkin'})>\n",
      "<Record hollywood=(_23:Person {born: 1957, name: 'Kevin Pollak'})>\n",
      "<Record hollywood=(_18:Person {born: 1962, name: 'Demi Moore'})>\n",
      "<Record hollywood=(_16:Person {born: 1962, name: 'Tom Cruise'})>\n",
      "<Record hollywood=(_25:Person {born: 1967, name: 'James Marshall'})>\n",
      "<Record hollywood=(_19:Person {born: 1958, name: 'Kevin Bacon'})>\n",
      "<Record hollywood=(_20:Person {born: 1966, name: 'Kiefer Sutherland'})>\n",
      "<Record hollywood=(_26:Person {born: 1948, name: 'Christopher Guest'})>\n",
      "<Record hollywood=(_27:Person {born: 1947, name: 'Rob Reiner'})>\n",
      "<Record hollywood=(_24:Person {born: 1943, name: 'J.T. Walsh'})>\n",
      "<Record hollywood=(_21:Person {born: 1971, name: 'Noah Wyle'})>\n",
      "<Record hollywood=(_153:Person {born: 1932, name: 'Milos Forman'})>\n",
      "<Record hollywood=(_142:Person {born: 1944, name: 'Danny DeVito'})>\n",
      "<Record hollywood=(_17:Person {born: 1937, name: 'Jack Nicholson'})>\n",
      "<Record hollywood=(_143:Person {born: 1965, name: 'John C. Reilly'})>\n"
     ]
    }
   ],
   "source": [
    "#Q4 Movies and actors exactly 3 \"hops\" away from the movie Hoffa\n",
    "query = \"\"\"\n",
    "MATCH (Hoffa:Movie {title:\"Hoffa\"})-[*3]-(hollywood)\n",
    "RETURN DISTINCT hollywood\n",
    "\"\"\"\n",
    "\n",
    "data = graph.run(query)\n",
    "\n",
    "for d in data:\n",
    "    print(d)"
   ]
  },
  {
   "cell_type": "code",
   "execution_count": 74,
   "metadata": {},
   "outputs": [
    {
     "name": "stdout",
     "output_type": "stream",
     "text": [
      "<Record Actor_Director='Tom Hanks' Movie_Directed='That Thing You Do'>\n",
      "<Record Actor_Director='Werner Herzog' Movie_Directed='RescueDawn'>\n",
      "<Record Actor_Director='Clint Eastwood' Movie_Directed='Unforgiven'>\n",
      "<Record Actor_Director='James Marshall' Movie_Directed='V for Vendetta'>\n",
      "<Record Actor_Director='James Marshall' Movie_Directed='Ninja Assassin'>\n",
      "<Record Actor_Director='Danny DeVito' Movie_Directed='Hoffa'>\n"
     ]
    }
   ],
   "source": [
    "#Q5 Find all actors who have also directed movies and the movies that they directed\n",
    "query = \"\"\"\n",
    "MATCH (m:Movie)<-[:DIRECTED]-(actor_dir)-[:ACTED_IN]->(m2)\n",
    "RETURN DISTINCT actor_dir.name AS Actor_Director\n",
    ", m.title AS Movie_Directed\n",
    "\"\"\"\n",
    "\n",
    "data = graph.run(query)\n",
    "\n",
    "for d in data:\n",
    "    print(d)"
   ]
  },
  {
   "cell_type": "markdown",
   "metadata": {},
   "source": [
    "### 6. Provide 5 additional queries and indicate the specific business use cases theyaddress\n",
    "#### Note: Insights should not be a flavor of the previously addressed queries within Assignment 4"
   ]
  },
  {
   "cell_type": "code",
   "execution_count": 76,
   "metadata": {},
   "outputs": [
    {
     "name": "stdout",
     "output_type": "stream",
     "text": [
      "<Record Matrix_Actors.name='Laurence Fishburne' Also_Acted_In=['The Matrix Reloaded', 'The Matrix Reloaded', 'The Matrix Reloaded', 'The Matrix Revolutions', 'The Matrix Revolutions', 'The Matrix Revolutions'] CoStars=['Keanu Reeves', 'Hugo Weaving', 'Carrie-Anne Moss']> \n",
      "\n",
      "<Record Matrix_Actors.name='Hugo Weaving' Also_Acted_In=['Cloud Atlas', 'Cloud Atlas', 'Cloud Atlas', 'V for Vendetta', 'V for Vendetta', 'V for Vendetta', 'V for Vendetta', 'The Matrix Revolutions', 'The Matrix Revolutions', 'The Matrix Revolutions', 'The Matrix Reloaded', 'The Matrix Reloaded', 'The Matrix Reloaded'] CoStars=['Tom Hanks', 'Jim Broadbent', 'Halle Berry', 'Natalie Portman', 'Stephen Rea', 'John Hurt', 'Ben Miles', 'Keanu Reeves', 'Carrie-Anne Moss', 'Laurence Fishburne']> \n",
      "\n",
      "<Record Matrix_Actors.name='Carrie-Anne Moss' Also_Acted_In=['The Matrix Revolutions', 'The Matrix Revolutions', 'The Matrix Revolutions', 'The Matrix Reloaded', 'The Matrix Reloaded', 'The Matrix Reloaded'] CoStars=['Keanu Reeves', 'Hugo Weaving', 'Laurence Fishburne']> \n",
      "\n",
      "<Record Matrix_Actors.name='Keanu Reeves' Also_Acted_In=['The Matrix Revolutions', 'The Matrix Revolutions', 'The Matrix Revolutions', 'The Matrix Reloaded', 'The Matrix Reloaded', 'The Matrix Reloaded', \"Something's Gotta Give\", \"Something's Gotta Give\", \"The Devil's Advocate\", \"The Devil's Advocate\", 'The Replacements', 'The Replacements', 'The Replacements', 'Johnny Mnemonic', 'Johnny Mnemonic', 'Johnny Mnemonic'] CoStars=['Hugo Weaving', 'Carrie-Anne Moss', 'Laurence Fishburne', 'Jack Nicholson', 'Diane Keaton', 'Charlize Theron', 'Al Pacino', 'Gene Hackman', 'Orlando Jones', 'Brooke Langton', 'Dina Meyer', 'Ice-T', 'Takeshi Kitano']> \n",
      "\n"
     ]
    }
   ],
   "source": [
    "#Q6.1 .Find all the title of movies that an actor in “The Matrix” acted in. \n",
    "# For each movie title, also return the name of these co-actors\n",
    "query = \"\"\"\n",
    "MATCH (matrix:Movie {title:\"The Matrix\"})<-[:ACTED_IN]-(Matrix_Actors)-\n",
    "[:ACTED_IN]->(films)<-[:ACTED_IN]-(coactors)\n",
    "RETURN Matrix_Actors.name, collect(films.title) as Also_Acted_In, collect( DISTINCT coactors.name) AS CoStars\n",
    "\"\"\"\n",
    "\n",
    "data = graph.run(query)\n",
    "\n",
    "for d in data:\n",
    "    print(d,'\\n')"
   ]
  },
  {
   "cell_type": "code",
   "execution_count": 77,
   "metadata": {},
   "outputs": [
    {
     "name": "stdout",
     "output_type": "stream",
     "text": [
      "<Record actor.name='Meg Ryan' roles=['DeDe', 'Angelica Graynamore', 'Patricia Graynamore'] film.title='Joe Versus the Volcano'> \n",
      "\n",
      "<Record actor.name='Hugo Weaving' roles=['Bill Smoke', 'Haskell Moore', 'Tadeusz Kesselring', 'Nurse Noakes', 'Boardman Mephi', 'Old Georgie'] film.title='Cloud Atlas'> \n",
      "\n",
      "<Record actor.name='Tom Hanks' roles=['Zachry', 'Dr. Henry Goose', 'Isaac Sachs', 'Dermot Hoggins'] film.title='Cloud Atlas'> \n",
      "\n",
      "<Record actor.name='Jim Broadbent' roles=['Vyvyan Ayrs', 'Captain Molyneux', 'Timothy Cavendish'] film.title='Cloud Atlas'> \n",
      "\n",
      "<Record actor.name='Halle Berry' roles=['Luisa Rey', 'Jocasta Ayrs', 'Ovid', 'Meronym'] film.title='Cloud Atlas'> \n",
      "\n",
      "<Record actor.name='Tom Hanks' roles=['Hero Boy', 'Father', 'Conductor', 'Hobo', 'Scrooge', 'Santa Claus'] film.title='The Polar Express'> \n",
      "\n"
     ]
    }
   ],
   "source": [
    "#Q6.2 Find the actors acted more than one role in a movie. Return all the role names and the movie titles\n",
    "query = \"\"\"\n",
    "MATCH (actor:Person)-[act:ACTED_IN]-(film:Movie)\n",
    "WITH actor, act.roles as roles, film\n",
    "WHERE size(roles) > 1\n",
    "RETURN actor.name, roles, film.title\n",
    "\"\"\"\n",
    "\n",
    "data = graph.run(query)\n",
    "\n",
    "for d in data:\n",
    "    print(d,'\\n')\n"
   ]
  },
  {
   "cell_type": "code",
   "execution_count": 20,
   "metadata": {},
   "outputs": [
    {
     "name": "stdout",
     "output_type": "stream",
     "text": [
      "<Record JNMovies=(_141:Movie {released: 1992, tagline: \"He didn't want law. He wanted justice.\", title: 'Hoffa'})> \n",
      "\n",
      "<Record JNMovies=(_52:Movie {released: 1997, tagline: 'A comedy from the heart that goes for the throat.', title: 'As Good as It Gets'})> \n",
      "\n",
      "<Record JNMovies=(_15:Movie {released: 1992, tagline: \"In the heart of the nation's capital, in a courthouse of the U.S. government, one man will stop at nothing to keep his honor, and one will stop at nothing to find the truth.\", title: 'A Few Good Men'})> \n",
      "\n",
      "<Record JNMovies=(_223:Movie {released: 1997, tagline: 'A comedy from the heart that goes for the throat.', title: 'As Good as It Gets'})> \n",
      "\n",
      "<Record JNMovies=(_312:Movie {released: 1992, tagline: \"He didn't want law. He wanted justice.\", title: 'Hoffa'})> \n",
      "\n",
      "<Record JNMovies=(_186:Movie {released: 1992, tagline: \"In the heart of the nation's capital, in a courthouse of the U.S. government, one man will stop at nothing to keep his honor, and one will stop at nothing to find the truth.\", title: 'A Few Good Men'})> \n",
      "\n"
     ]
    }
   ],
   "source": [
    "#Q6.3 Find all the movies Jack Nicholson played in the 90s\n",
    "\n",
    "query = \"\"\"\n",
    "MATCH(JN:Person {name:\"Jack Nicholson\"})-[:ACTED_IN]->(JNMovies)\n",
    "WHERE JNMovies.released >= 1990 AND JNMovies.released < 2000\n",
    "Return JNMovies\n",
    "\"\"\"\n",
    "\n",
    "data = graph.run(query)\n",
    "\n",
    "for d in data:\n",
    "    print(d,'\\n')"
   ]
  },
  {
   "cell_type": "code",
   "execution_count": 88,
   "metadata": {},
   "outputs": [
    {
     "name": "stdout",
     "output_type": "stream",
     "text": [
      "<Record THCoStars.name='Meg Ryan' Num_Movies_Worked_Togather=3> \n",
      "\n",
      "<Record THCoStars.name='Bill Paxton' Num_Movies_Worked_Togather=2> \n",
      "\n",
      "<Record THCoStars.name=\"Rosie O'Donnell\" Num_Movies_Worked_Togather=2> \n",
      "\n",
      "<Record THCoStars.name='Gary Sinise' Num_Movies_Worked_Togather=2> \n",
      "\n",
      "<Record THCoStars.name='Madonna' Num_Movies_Worked_Togather=1> \n",
      "\n"
     ]
    }
   ],
   "source": [
    "#Q6.4 List Top 5 Tom Hank's costars ordered by number of movies they worked togather \n",
    "\n",
    "query = \"\"\"\n",
    "MATCH(TH:Person {name:\"Tom Hanks\"})-[:ACTED_IN]->(THMovies)<-[:ACTED_IN]-(THCoStars)\n",
    "With THCoStars, COUNT(THMovies) AS Num_Movies_Worked_Togather\n",
    "Return THCoStars.name, Num_Movies_Worked_Togather\n",
    "ORDER BY Num_Movies_Worked_Togather DESC Limit 5\n",
    "\"\"\"\n",
    "\n",
    "data = graph.run(query)\n",
    "\n",
    "for d in data:\n",
    "    print(d,'\\n')"
   ]
  },
  {
   "cell_type": "code",
   "execution_count": 89,
   "metadata": {},
   "outputs": [
    {
     "name": "stdout",
     "output_type": "stream",
     "text": [
      "<Record directors.name='Lana Wachowski' Number_of_Movies_Directed=5> \n",
      "\n",
      "<Record directors.name='Andy Wachowski' Number_of_Movies_Directed=5> \n",
      "\n",
      "<Record directors.name='Rob Reiner' Number_of_Movies_Directed=3> \n",
      "\n",
      "<Record directors.name='Ron Howard' Number_of_Movies_Directed=3> \n",
      "\n",
      "<Record directors.name='Nora Ephron' Number_of_Movies_Directed=2> \n",
      "\n"
     ]
    }
   ],
   "source": [
    "#Q6.5 List Top 5 directors who directed most movies in the database\n",
    "query = \"\"\"\n",
    "MATCH(directors:Person)-[:DIRECTED]->(films)\n",
    "With directors, COUNT(DISTINCT films) AS Number_of_Movies_Directed\n",
    "Return directors.name, Number_of_Movies_Directed\n",
    "ORDER BY Number_of_Movies_Directed DESC Limit 5\n",
    "\"\"\"\n",
    "\n",
    "data = graph.run(query)\n",
    "\n",
    "for d in data:\n",
    "    print(d,'\\n')\n",
    "\n"
   ]
  },
  {
   "cell_type": "code",
   "execution_count": null,
   "metadata": {},
   "outputs": [],
   "source": []
  }
 ],
 "metadata": {
  "kernelspec": {
   "display_name": "Python 3",
   "language": "python",
   "name": "python3"
  },
  "language_info": {
   "codemirror_mode": {
    "name": "ipython",
    "version": 3
   },
   "file_extension": ".py",
   "mimetype": "text/x-python",
   "name": "python",
   "nbconvert_exporter": "python",
   "pygments_lexer": "ipython3",
   "version": "3.7.4"
  }
 },
 "nbformat": 4,
 "nbformat_minor": 2
}
