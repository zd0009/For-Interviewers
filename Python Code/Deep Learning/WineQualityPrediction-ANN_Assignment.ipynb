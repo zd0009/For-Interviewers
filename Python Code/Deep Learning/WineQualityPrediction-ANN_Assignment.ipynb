{
 "cells": [
  {
   "cell_type": "markdown",
   "metadata": {},
   "source": [
    "# Deep Learning and Image Recognition Assignment\n",
    "\n",
    "## Assignment - ANN Regression - to predict wine quality\n",
    "\n",
    "### Duo Zhou\n",
    "\n",
    "Use ANN to make predictions on stuructured data and then increase the complexity of the model."
   ]
  },
  {
   "cell_type": "code",
   "execution_count": 1,
   "metadata": {},
   "outputs": [
    {
     "name": "stderr",
     "output_type": "stream",
     "text": [
      "Using TensorFlow backend.\n"
     ]
    }
   ],
   "source": [
    "import pandas as pd\n",
    "import numpy as np\n",
    "import matplotlib.pyplot as plt\n",
    "%matplotlib inline\n",
    "plt.rcParams['figure.figsize'] = (7,7)\n",
    "from keras.models import Sequential\n",
    "from keras.layers import Dense\n",
    "from keras.callbacks import EarlyStopping, ModelCheckpoint, TensorBoard\n",
    "from keras.utils import to_categorical"
   ]
  },
  {
   "cell_type": "markdown",
   "metadata": {},
   "source": [
    "### Read Dataset, Describe"
   ]
  },
  {
   "cell_type": "code",
   "execution_count": 2,
   "metadata": {},
   "outputs": [
    {
     "name": "stderr",
     "output_type": "stream",
     "text": [
      "  % Total    % Received % Xferd  Average Speed   Time    Time     Time  Current\n",
      "                                 Dload  Upload   Total   Spent    Left  Speed\n",
      "\n",
      "  0     0    0     0    0     0      0      0 --:--:-- --:--:-- --:--:--     0\n",
      "  0     0    0     0    0     0      0      0 --:--:-- --:--:-- --:--:--     0\n",
      "100 84199  100 84199    0     0  71903      0  0:00:01  0:00:01 --:--:-- 72026\n",
      "  % Total    % Received % Xferd  Average Speed   Time    Time     Time  Current\n",
      "                                 Dload  Upload   Total   Spent    Left  Speed\n",
      "\n",
      "  0     0    0     0    0     0      0      0 --:--:-- --:--:-- --:--:--     0\n",
      " 24  258k   24 63488    0     0  90438      0  0:00:02 --:--:--  0:00:02 90310\n",
      "100  258k  100  258k    0     0   276k      0 --:--:-- --:--:-- --:--:--  276k\n"
     ]
    }
   ],
   "source": [
    "!curl https://archive.ics.uci.edu/ml/machine-learning-databases/wine-quality/winequality-red.csv -o ../winequality-red.csv\n",
    "!curl https://archive.ics.uci.edu/ml/machine-learning-databases/wine-quality/winequality-white.csv -o ../winequality-white.csv"
   ]
  },
  {
   "cell_type": "code",
   "execution_count": 3,
   "metadata": {},
   "outputs": [],
   "source": [
    "white_wine = pd.read_csv('../winequality-white.csv', sep=';')\n",
    "red_wine = pd.read_csv('../winequality-red.csv', sep=';')"
   ]
  },
  {
   "cell_type": "code",
   "execution_count": 4,
   "metadata": {},
   "outputs": [
    {
     "data": {
      "text/html": [
       "<div>\n",
       "<style scoped>\n",
       "    .dataframe tbody tr th:only-of-type {\n",
       "        vertical-align: middle;\n",
       "    }\n",
       "\n",
       "    .dataframe tbody tr th {\n",
       "        vertical-align: top;\n",
       "    }\n",
       "\n",
       "    .dataframe thead th {\n",
       "        text-align: right;\n",
       "    }\n",
       "</style>\n",
       "<table border=\"1\" class=\"dataframe\">\n",
       "  <thead>\n",
       "    <tr style=\"text-align: right;\">\n",
       "      <th></th>\n",
       "      <th>fixed acidity</th>\n",
       "      <th>volatile acidity</th>\n",
       "      <th>citric acid</th>\n",
       "      <th>residual sugar</th>\n",
       "      <th>chlorides</th>\n",
       "      <th>free sulfur dioxide</th>\n",
       "      <th>total sulfur dioxide</th>\n",
       "      <th>density</th>\n",
       "      <th>pH</th>\n",
       "      <th>sulphates</th>\n",
       "      <th>alcohol</th>\n",
       "      <th>quality</th>\n",
       "      <th>wine_type</th>\n",
       "      <th>quality_label</th>\n",
       "    </tr>\n",
       "  </thead>\n",
       "  <tbody>\n",
       "    <tr>\n",
       "      <td>0</td>\n",
       "      <td>7.0</td>\n",
       "      <td>0.17</td>\n",
       "      <td>0.74</td>\n",
       "      <td>12.8</td>\n",
       "      <td>0.045</td>\n",
       "      <td>24.0</td>\n",
       "      <td>126.0</td>\n",
       "      <td>0.99420</td>\n",
       "      <td>3.26</td>\n",
       "      <td>0.38</td>\n",
       "      <td>12.2</td>\n",
       "      <td>8</td>\n",
       "      <td>1</td>\n",
       "      <td>2</td>\n",
       "    </tr>\n",
       "    <tr>\n",
       "      <td>1</td>\n",
       "      <td>7.7</td>\n",
       "      <td>0.64</td>\n",
       "      <td>0.21</td>\n",
       "      <td>2.2</td>\n",
       "      <td>0.077</td>\n",
       "      <td>32.0</td>\n",
       "      <td>133.0</td>\n",
       "      <td>0.99560</td>\n",
       "      <td>3.27</td>\n",
       "      <td>0.45</td>\n",
       "      <td>9.9</td>\n",
       "      <td>5</td>\n",
       "      <td>0</td>\n",
       "      <td>0</td>\n",
       "    </tr>\n",
       "    <tr>\n",
       "      <td>2</td>\n",
       "      <td>6.8</td>\n",
       "      <td>0.39</td>\n",
       "      <td>0.34</td>\n",
       "      <td>7.4</td>\n",
       "      <td>0.020</td>\n",
       "      <td>38.0</td>\n",
       "      <td>133.0</td>\n",
       "      <td>0.99212</td>\n",
       "      <td>3.18</td>\n",
       "      <td>0.44</td>\n",
       "      <td>12.0</td>\n",
       "      <td>7</td>\n",
       "      <td>1</td>\n",
       "      <td>1</td>\n",
       "    </tr>\n",
       "    <tr>\n",
       "      <td>3</td>\n",
       "      <td>6.3</td>\n",
       "      <td>0.28</td>\n",
       "      <td>0.47</td>\n",
       "      <td>11.2</td>\n",
       "      <td>0.040</td>\n",
       "      <td>61.0</td>\n",
       "      <td>183.0</td>\n",
       "      <td>0.99592</td>\n",
       "      <td>3.12</td>\n",
       "      <td>0.51</td>\n",
       "      <td>9.5</td>\n",
       "      <td>6</td>\n",
       "      <td>1</td>\n",
       "      <td>1</td>\n",
       "    </tr>\n",
       "    <tr>\n",
       "      <td>4</td>\n",
       "      <td>7.4</td>\n",
       "      <td>0.35</td>\n",
       "      <td>0.20</td>\n",
       "      <td>13.9</td>\n",
       "      <td>0.054</td>\n",
       "      <td>63.0</td>\n",
       "      <td>229.0</td>\n",
       "      <td>0.99888</td>\n",
       "      <td>3.11</td>\n",
       "      <td>0.50</td>\n",
       "      <td>8.9</td>\n",
       "      <td>6</td>\n",
       "      <td>1</td>\n",
       "      <td>1</td>\n",
       "    </tr>\n",
       "  </tbody>\n",
       "</table>\n",
       "</div>"
      ],
      "text/plain": [
       "   fixed acidity  volatile acidity  citric acid  residual sugar  chlorides  \\\n",
       "0            7.0              0.17         0.74            12.8      0.045   \n",
       "1            7.7              0.64         0.21             2.2      0.077   \n",
       "2            6.8              0.39         0.34             7.4      0.020   \n",
       "3            6.3              0.28         0.47            11.2      0.040   \n",
       "4            7.4              0.35         0.20            13.9      0.054   \n",
       "\n",
       "   free sulfur dioxide  total sulfur dioxide  density    pH  sulphates  \\\n",
       "0                 24.0                 126.0  0.99420  3.26       0.38   \n",
       "1                 32.0                 133.0  0.99560  3.27       0.45   \n",
       "2                 38.0                 133.0  0.99212  3.18       0.44   \n",
       "3                 61.0                 183.0  0.99592  3.12       0.51   \n",
       "4                 63.0                 229.0  0.99888  3.11       0.50   \n",
       "\n",
       "   alcohol  quality  wine_type  quality_label  \n",
       "0     12.2        8          1              2  \n",
       "1      9.9        5          0              0  \n",
       "2     12.0        7          1              1  \n",
       "3      9.5        6          1              1  \n",
       "4      8.9        6          1              1  "
      ]
     },
     "execution_count": 4,
     "metadata": {},
     "output_type": "execute_result"
    }
   ],
   "source": [
    "# store wine type as an attribute\n",
    "red_wine['wine_type'] = 0   \n",
    "white_wine['wine_type'] = 1\n",
    "\n",
    "# merge red and white wine datasets\n",
    "wines = pd.concat([red_wine, white_wine])\n",
    "\n",
    "#Add a new column to convert the wine quality into a categorical variable\n",
    "wines['quality_label'] = wines['quality'].apply(lambda value: 0 #low\n",
    "                                                              if value <= 5 else 1 # medium\n",
    "                                                                  if value <= 7 else 2) #high\n",
    "\n",
    "# re-shuffle records just to randomize data points\n",
    "wines = wines.sample(frac=1, random_state=42).reset_index(drop=True)\n",
    "\n",
    "#inspect data\n",
    "wines.head()"
   ]
  },
  {
   "cell_type": "code",
   "execution_count": 5,
   "metadata": {},
   "outputs": [],
   "source": [
    "#select features and label\n",
    "X = wines.drop(columns=['quality','quality_label'])\n",
    "y = wines['quality']\n",
    "\n",
    "#get number of columns in training data\n",
    "n_cols = X.shape[1]"
   ]
  },
  {
   "cell_type": "code",
   "execution_count": 6,
   "metadata": {},
   "outputs": [
    {
     "data": {
      "text/plain": [
       "array([[0., 0., 0., 0., 0., 0., 0., 0., 1., 0.],\n",
       "       [0., 0., 0., 0., 0., 1., 0., 0., 0., 0.],\n",
       "       [0., 0., 0., 0., 0., 0., 0., 1., 0., 0.],\n",
       "       [0., 0., 0., 0., 0., 0., 1., 0., 0., 0.],\n",
       "       [0., 0., 0., 0., 0., 0., 1., 0., 0., 0.]], dtype=float32)"
      ]
     },
     "execution_count": 6,
     "metadata": {},
     "output_type": "execute_result"
    }
   ],
   "source": [
    "y_cat = to_categorical(y)\n",
    "y_cat[0:5]"
   ]
  },
  {
   "cell_type": "markdown",
   "metadata": {},
   "source": [
    "## Build Models"
   ]
  },
  {
   "cell_type": "code",
   "execution_count": 7,
   "metadata": {},
   "outputs": [],
   "source": [
    "#set early stopping monitor so the model stops training when it won't improve anymore\n",
    "EPOCHS = 20\n",
    "early_stopping_monitor = EarlyStopping(patience=3)"
   ]
  },
  {
   "cell_type": "code",
   "execution_count": 8,
   "metadata": {},
   "outputs": [],
   "source": [
    "#create model\n",
    "model = Sequential()\n",
    "\n",
    "#get number of columns in training data\n",
    "n_cols = X.shape[1]\n",
    "\n",
    "#add layers to model\n",
    "model.add(Dense(20, activation='sigmoid', input_shape=(n_cols,)))\n",
    "model.add(Dense(20, activation='relu'))\n",
    "model.add(Dense(20, activation='sigmoid'))\n",
    "model.add(Dense(20, activation='relu'))\n",
    "model.add(Dense(20, activation='tanh'))\n",
    "model.add(Dense(20, activation='relu'))\n",
    "model.add(Dense(10, activation='softmax'))\n",
    "\n",
    "#compile model using accuracy to measure model performance\n",
    "model.compile(optimizer='adam', loss='categorical_crossentropy', metrics=['accuracy'])\n",
    "\n",
    "#set early stopping monitor so the model stops training when it won't improve anymore\n",
    "early_stopping_monitor = EarlyStopping(patience=3)"
   ]
  },
  {
   "cell_type": "code",
   "execution_count": 9,
   "metadata": {},
   "outputs": [
    {
     "data": {
      "text/plain": [
       "12"
      ]
     },
     "execution_count": 9,
     "metadata": {},
     "output_type": "execute_result"
    }
   ],
   "source": [
    "n_cols"
   ]
  },
  {
   "cell_type": "code",
   "execution_count": 10,
   "metadata": {},
   "outputs": [],
   "source": [
    "my_callbacks = [\n",
    "    EarlyStopping(patience=2),\n",
    "    #ModelCheckpoint(filepath='model.{epoch:02d}-{val_loss:.2f}.h5'),\n",
    "    #TensorBoard(log_dir='logs'),\n",
    "]"
   ]
  },
  {
   "cell_type": "code",
   "execution_count": 11,
   "metadata": {},
   "outputs": [
    {
     "name": "stdout",
     "output_type": "stream",
     "text": [
      "Train on 5197 samples, validate on 1300 samples\n",
      "Epoch 1/50\n",
      "5197/5197 [==============================] - 3s 496us/step - loss: 1.5688 - accuracy: 0.3548 - val_loss: 1.2879 - val_accuracy: 0.4362\n",
      "Epoch 2/50\n",
      "5197/5197 [==============================] - 0s 40us/step - loss: 1.2829 - accuracy: 0.4366 - val_loss: 1.2739 - val_accuracy: 0.4362\n",
      "Epoch 3/50\n",
      "5197/5197 [==============================] - 0s 40us/step - loss: 1.2761 - accuracy: 0.4379 - val_loss: 1.2638 - val_accuracy: 0.4362\n",
      "Epoch 4/50\n",
      "5197/5197 [==============================] - 0s 40us/step - loss: 1.2623 - accuracy: 0.4416 - val_loss: 1.2512 - val_accuracy: 0.4454\n",
      "Epoch 5/50\n",
      "5197/5197 [==============================] - 0s 43us/step - loss: 1.2427 - accuracy: 0.4480 - val_loss: 1.2548 - val_accuracy: 0.4508\n",
      "Epoch 6/50\n",
      "5197/5197 [==============================] - 0s 44us/step - loss: 1.2269 - accuracy: 0.4568 - val_loss: 1.2141 - val_accuracy: 0.4500\n",
      "Epoch 7/50\n",
      "5197/5197 [==============================] - 0s 40us/step - loss: 1.2000 - accuracy: 0.4649 - val_loss: 1.1875 - val_accuracy: 0.4808\n",
      "Epoch 8/50\n",
      "5197/5197 [==============================] - 0s 42us/step - loss: 1.1911 - accuracy: 0.4657 - val_loss: 1.1765 - val_accuracy: 0.4977\n",
      "Epoch 9/50\n",
      "5197/5197 [==============================] - 0s 40us/step - loss: 1.1708 - accuracy: 0.4886 - val_loss: 1.2002 - val_accuracy: 0.4685\n",
      "Epoch 10/50\n",
      "5197/5197 [==============================] - 0s 40us/step - loss: 1.1562 - accuracy: 0.4909 - val_loss: 1.1563 - val_accuracy: 0.4977\n",
      "Epoch 11/50\n",
      "5197/5197 [==============================] - 0s 41us/step - loss: 1.1487 - accuracy: 0.4984 - val_loss: 1.1522 - val_accuracy: 0.4946\n",
      "Epoch 12/50\n",
      "5197/5197 [==============================] - 0s 41us/step - loss: 1.1432 - accuracy: 0.4997 - val_loss: 1.1523 - val_accuracy: 0.4977\n",
      "Epoch 13/50\n",
      "5197/5197 [==============================] - 0s 40us/step - loss: 1.1410 - accuracy: 0.4926 - val_loss: 1.1406 - val_accuracy: 0.5062\n",
      "Epoch 14/50\n",
      "5197/5197 [==============================] - 0s 37us/step - loss: 1.1352 - accuracy: 0.5049 - val_loss: 1.1322 - val_accuracy: 0.5123\n",
      "Epoch 15/50\n",
      "5197/5197 [==============================] - 0s 37us/step - loss: 1.1270 - accuracy: 0.5030 - val_loss: 1.1353 - val_accuracy: 0.4985\n",
      "Epoch 16/50\n",
      "5197/5197 [==============================] - 0s 37us/step - loss: 1.1268 - accuracy: 0.5068 - val_loss: 1.1256 - val_accuracy: 0.5062\n",
      "Epoch 17/50\n",
      "5197/5197 [==============================] - 0s 44us/step - loss: 1.1230 - accuracy: 0.4945 - val_loss: 1.1256 - val_accuracy: 0.5131\n",
      "Epoch 18/50\n",
      "5197/5197 [==============================] - 0s 43us/step - loss: 1.1209 - accuracy: 0.5047 - val_loss: 1.1286 - val_accuracy: 0.5038\n",
      "Epoch 19/50\n",
      "5197/5197 [==============================] - 0s 49us/step - loss: 1.1205 - accuracy: 0.5061 - val_loss: 1.1143 - val_accuracy: 0.5123\n",
      "Epoch 20/50\n",
      "5197/5197 [==============================] - 0s 42us/step - loss: 1.1175 - accuracy: 0.5070 - val_loss: 1.1132 - val_accuracy: 0.5031\n",
      "Epoch 21/50\n",
      "5197/5197 [==============================] - 0s 40us/step - loss: 1.1140 - accuracy: 0.5093 - val_loss: 1.1071 - val_accuracy: 0.5077\n",
      "Epoch 22/50\n",
      "5197/5197 [==============================] - 0s 41us/step - loss: 1.1131 - accuracy: 0.5095 - val_loss: 1.1136 - val_accuracy: 0.5231\n",
      "Epoch 23/50\n",
      "5197/5197 [==============================] - 0s 43us/step - loss: 1.1086 - accuracy: 0.5191 - val_loss: 1.1484 - val_accuracy: 0.4854\n"
     ]
    }
   ],
   "source": [
    "#train model\n",
    "history = model.fit(X, y_cat, epochs=50, validation_split=0.2, callbacks=my_callbacks)"
   ]
  },
  {
   "cell_type": "code",
   "execution_count": 12,
   "metadata": {},
   "outputs": [
    {
     "data": {
      "text/plain": [
       "Text(0.5, 1.0, 'Loss Curves')"
      ]
     },
     "execution_count": 12,
     "metadata": {},
     "output_type": "execute_result"
    },
    {
     "data": {
      "image/png": "[encoded data removed]",
      "text/plain": [
       "<Figure size 720x576 with 1 Axes>"
      ]
     },
     "metadata": {
      "needs_background": "light"
     },
     "output_type": "display_data"
    }
   ],
   "source": [
    "plt.figure(figsize=[10,8])\n",
    "plt.plot(history.history['loss'],'r',linewidth=3.0)\n",
    "plt.plot(history.history['val_loss'],'b',linewidth=3.0)\n",
    "plt.legend(['Training loss', 'Validation Loss'],fontsize=18)\n",
    "plt.xlabel('Epochs ',fontsize=16)\n",
    "plt.ylabel('Loss',fontsize=16)\n",
    "plt.title('Loss Curves',fontsize=16)"
   ]
  }
 ],
 "metadata": {
  "kernelspec": {
   "display_name": "Python 3",
   "language": "python",
   "name": "python3"
  },
  "language_info": {
   "codemirror_mode": {
    "name": "ipython",
    "version": 3
   },
   "file_extension": ".py",
   "mimetype": "text/x-python",
   "name": "python",
   "nbconvert_exporter": "python",
   "pygments_lexer": "ipython3",
   "version": "3.7.4"
  }
 },
 "nbformat": 4,
 "nbformat_minor": 2
}
