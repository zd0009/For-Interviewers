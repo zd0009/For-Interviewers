{
 "cells": [
  {
   "cell_type": "markdown",
   "metadata": {},
   "source": [
    "## MSCA 31009 Machine Learning & Predictive Analytics\n",
    "## Assignment 3\n",
    "## Duo Zhou"
   ]
  },
  {
   "cell_type": "markdown",
   "metadata": {},
   "source": [
    "#### Random Forest Binary Classification: \n",
    "\n",
    "For assignment #4 we will be working with a credit default data set. The data includes various features around financial history and demographic information. The target variable is \"default payment next week\", which is just a binary flag of whether a customer defaults on a payment in the next week.\n",
    "\n",
    "You will need to use the Random Forest Classifier from sklearn in order to build a classifier to predict if a customer is likely to default. You will also need to use the GridSearch CV for this assignment."
   ]
  },
  {
   "cell_type": "code",
   "execution_count": 34,
   "metadata": {},
   "outputs": [],
   "source": [
    "%matplotlib inline\n",
    "\n",
    "import numpy as np\n",
    "import pandas as pd\n",
    "import matplotlib.pyplot as plt"
   ]
  },
  {
   "cell_type": "markdown",
   "metadata": {},
   "source": [
    "#### 1. Data Processing:\n",
    "\n",
    "a) Import the data: shape should be (30000,24)"
   ]
  },
  {
   "cell_type": "code",
   "execution_count": 35,
   "metadata": {},
   "outputs": [
    {
     "data": {
      "text/plain": [
       "(30000, 24)"
      ]
     },
     "execution_count": 35,
     "metadata": {},
     "output_type": "execute_result"
    }
   ],
   "source": [
    "df = pd.read_excel('data/default of credit card clients.xls',index_col=0)\n",
    "df.shape"
   ]
  },
  {
   "cell_type": "markdown",
   "metadata": {},
   "source": [
    "b) Remove any rows that have missing data."
   ]
  },
  {
   "cell_type": "code",
   "execution_count": 36,
   "metadata": {},
   "outputs": [
    {
     "data": {
      "text/plain": [
       "(30000, 24)"
      ]
     },
     "execution_count": 36,
     "metadata": {},
     "output_type": "execute_result"
    }
   ],
   "source": [
    "df.dropna(how='any', axis = 0, inplace=True)\n",
    "df.shape"
   ]
  },
  {
   "cell_type": "markdown",
   "metadata": {},
   "source": [
    "c) The target / y variable is \"default payment next month\" column. Keep all predictors for the X df except for the target variable. "
   ]
  },
  {
   "cell_type": "code",
   "execution_count": 37,
   "metadata": {},
   "outputs": [
    {
     "name": "stdout",
     "output_type": "stream",
     "text": [
      "(30000, 23) (30000,)\n"
     ]
    }
   ],
   "source": [
    "X = df.drop(columns='default payment next month')\n",
    "y = df['default payment next month']\n",
    "print(X.shape,y.shape)"
   ]
  },
  {
   "cell_type": "markdown",
   "metadata": {},
   "source": [
    "d) Split data into train / test set using an 70/30 split. Recall that you should be generating an X_train, X_test, y_train, and y_test."
   ]
  },
  {
   "cell_type": "code",
   "execution_count": 38,
   "metadata": {},
   "outputs": [],
   "source": [
    "from sklearn.model_selection import train_test_split"
   ]
  },
  {
   "cell_type": "code",
   "execution_count": 39,
   "metadata": {},
   "outputs": [
    {
     "name": "stdout",
     "output_type": "stream",
     "text": [
      "(21000, 23) (9000, 23) (21000,) (9000,)\n"
     ]
    }
   ],
   "source": [
    "X_train, X_test, y_train, y_test = train_test_split(X, y, test_size=0.3, random_state=12345)\n",
    "print(X_train.shape, X_test.shape, y_train.shape, y_test.shape)"
   ]
  },
  {
   "cell_type": "markdown",
   "metadata": {},
   "source": [
    "#### 2. Random Forest Classifier - Base Model:\n",
    "\n",
    "Start by creating a simple Random Forest only using default parameters.\n",
    "\n",
    "a) Use the RandomForestClassifier in sklearn. Fit your model on the training data & make sure to add a random_state (check documentation to confirm how to do this). "
   ]
  },
  {
   "cell_type": "code",
   "execution_count": 40,
   "metadata": {},
   "outputs": [],
   "source": [
    "from sklearn.ensemble import RandomForestClassifier\n",
    "from sklearn import metrics as skm"
   ]
  },
  {
   "cell_type": "code",
   "execution_count": 41,
   "metadata": {},
   "outputs": [
    {
     "name": "stderr",
     "output_type": "stream",
     "text": [
      "C:\\Users\\zd000\\Anaconda3\\lib\\site-packages\\sklearn\\ensemble\\forest.py:245: FutureWarning: The default value of n_estimators will change from 10 in version 0.20 to 100 in 0.22.\n",
      "  \"10 in version 0.20 to 100 in 0.22.\", FutureWarning)\n"
     ]
    },
    {
     "data": {
      "text/plain": [
       "RandomForestClassifier(bootstrap=True, class_weight=None, criterion='gini',\n",
       "                       max_depth=None, max_features='auto', max_leaf_nodes=None,\n",
       "                       min_impurity_decrease=0.0, min_impurity_split=None,\n",
       "                       min_samples_leaf=1, min_samples_split=2,\n",
       "                       min_weight_fraction_leaf=0.0, n_estimators=10,\n",
       "                       n_jobs=None, oob_score=False, random_state=None,\n",
       "                       verbose=0, warm_start=False)"
      ]
     },
     "execution_count": 41,
     "metadata": {},
     "output_type": "execute_result"
    }
   ],
   "source": [
    "clf = RandomForestClassifier()\n",
    "clf.fit(X_train, y_train)"
   ]
  },
  {
   "cell_type": "markdown",
   "metadata": {},
   "source": [
    "b) Use the fitted model to predict on test data. Use the .predict_proba() and the .predict() methods to get predicted probabilities as well as predicted classes."
   ]
  },
  {
   "cell_type": "code",
   "execution_count": 42,
   "metadata": {},
   "outputs": [],
   "source": [
    "y_test_pred = clf.predict(X_test)\n",
    "y_test_proba = clf.predict_proba(X_test)"
   ]
  },
  {
   "cell_type": "markdown",
   "metadata": {},
   "source": [
    "c) Calculate the confusion matrix and classification report (both are in sklearn.metrics). \n",
    "\n",
    "d) Calculate the roc_auc_score for this model. There are many ways to do this, but an example is to use the probabilities from step B and utilize the roc_auc_score from sklearn."
   ]
  },
  {
   "cell_type": "code",
   "execution_count": 43,
   "metadata": {
    "scrolled": true
   },
   "outputs": [
    {
     "name": "stdout",
     "output_type": "stream",
     "text": [
      "Test Score: 0.8045555555555556\n",
      "\n",
      "Test Confusion Matrix\n",
      "[[6600  437]\n",
      " [1322  641]]\n",
      "\n",
      "Test Classification Report\n",
      "              precision    recall  f1-score   support\n",
      "\n",
      "           0       0.83      0.94      0.88      7037\n",
      "           1       0.59      0.33      0.42      1963\n",
      "\n",
      "    accuracy                           0.80      9000\n",
      "   macro avg       0.71      0.63      0.65      9000\n",
      "weighted avg       0.78      0.80      0.78      9000\n",
      "\n",
      "\n",
      "Test ROC AUC\n",
      "0.7253645330471041\n"
     ]
    }
   ],
   "source": [
    "print(\"Test Score:\", clf.score(X_test, y_test))\n",
    "print(\"\\nTest Confusion Matrix\")\n",
    "print(skm.confusion_matrix(y_test, y_test_pred))\n",
    "print(\"\\nTest Classification Report\")\n",
    "print(skm.classification_report(y_test, y_test_pred))\n",
    "print(\"\\nTest ROC AUC\")\n",
    "# limit to probability for class = 1 \n",
    "print(skm.roc_auc_score(y_test, y_test_proba[:,1]))"
   ]
  },
  {
   "cell_type": "markdown",
   "metadata": {},
   "source": [
    "e) Calculate predictions for the training data & build the classification report & roc_auc_score. Are there signs of overfitting? Why or why not?"
   ]
  },
  {
   "cell_type": "code",
   "execution_count": 44,
   "metadata": {},
   "outputs": [],
   "source": [
    "y_train_pred = clf.predict(X_train)\n",
    "y_train_proba = clf.predict_proba(X_train)"
   ]
  },
  {
   "cell_type": "code",
   "execution_count": 45,
   "metadata": {
    "scrolled": true
   },
   "outputs": [
    {
     "name": "stdout",
     "output_type": "stream",
     "text": [
      "Train Score: 0.9799523809523809\n",
      "\n",
      "Train Confusion Matrix\n",
      "[[16294    33]\n",
      " [  388  4285]]\n",
      "\n",
      "Train Classification Report\n",
      "              precision    recall  f1-score   support\n",
      "\n",
      "           0       0.98      1.00      0.99     16327\n",
      "           1       0.99      0.92      0.95      4673\n",
      "\n",
      "    accuracy                           0.98     21000\n",
      "   macro avg       0.98      0.96      0.97     21000\n",
      "weighted avg       0.98      0.98      0.98     21000\n",
      "\n",
      "\n",
      "Train ROC AUC\n",
      "0.9990750441133462\n"
     ]
    }
   ],
   "source": [
    "print(\"Train Score:\", clf.score(X_train, y_train))\n",
    "print(\"\\nTrain Confusion Matrix\")\n",
    "print(skm.confusion_matrix(y_train, y_train_pred))\n",
    "print(\"\\nTrain Classification Report\")\n",
    "print(skm.classification_report(y_train, y_train_pred))\n",
    "print(\"\\nTrain ROC AUC\")\n",
    "# limit to probability for class = 1 \n",
    "print(skm.roc_auc_score(y_train, y_train_proba[:,1]))"
   ]
  },
  {
   "cell_type": "markdown",
   "metadata": {},
   "source": [
    "Based on the result above, we can see that for default prediction(y=1) training f1_score is 0.95 and test f1-score is 0.42. The overall accuracy is 0.98 for training set and 0.8 for test set. The training ROC AUC score is 0.9991 and test ROC AUC score is 0.7254. All three scores are very close to 1 in the training set, but drop drastically in the test set. This is a clear sign of overfitting since the model performance droped a lot when applied to new unseen data."
   ]
  },
  {
   "cell_type": "markdown",
   "metadata": {},
   "source": [
    "#### 3. Random Forest Classifier - Grid Search:<br>\n",
    "<br>\n",
    "Start by creating a simple Random Forest only using default parameters.<br>\n",
    "<br>\n",
    "a) Use the RandomForestClassifier along with the GridSearchCV tool. Run the GridSearchCV using the following: <br>\n",
    "<br>\n",
    "n_estimators: 50, 100, 500<br>\n",
    "max_features: 2, 4, sqrt<br>\n",
    "max_depth: 6, 8, 10, 12<br>\n",
    "Note: Feel free to try out more parameters, the above is the bare minimum for this assignment. The goal of the above parameters are to try a large but fairly fast grid search. This took about 8 minutes to run on your TAs computer but that time will vary greatly based on computational resources. <br>\n",
    "<br>\n",
    "Use 5 cross-fold and for scoring use \"roc_auc\" (this is the score that will be referenced when identifying the best parameters). "
   ]
  },
  {
   "cell_type": "code",
   "execution_count": 47,
   "metadata": {},
   "outputs": [],
   "source": [
    "from sklearn.model_selection import GridSearchCV"
   ]
  },
  {
   "cell_type": "code",
   "execution_count": 66,
   "metadata": {},
   "outputs": [
    {
     "name": "stdout",
     "output_type": "stream",
     "text": [
      "Fitting 5 folds for each of 48 candidates, totalling 240 fits\n"
     ]
    },
    {
     "name": "stderr",
     "output_type": "stream",
     "text": [
      "[Parallel(n_jobs=-1)]: Using backend LokyBackend with 8 concurrent workers.\n",
      "[Parallel(n_jobs=-1)]: Done  34 tasks      | elapsed:   50.8s\n",
      "[Parallel(n_jobs=-1)]: Done 184 tasks      | elapsed:  8.5min\n",
      "[Parallel(n_jobs=-1)]: Done 240 out of 240 | elapsed: 13.9min finished\n"
     ]
    },
    {
     "data": {
      "text/plain": [
       "GridSearchCV(cv=5, error_score='raise-deprecating',\n",
       "             estimator=RandomForestClassifier(bootstrap=True, class_weight=None,\n",
       "                                              criterion='gini', max_depth=None,\n",
       "                                              max_features='auto',\n",
       "                                              max_leaf_nodes=None,\n",
       "                                              min_impurity_decrease=0.0,\n",
       "                                              min_impurity_split=None,\n",
       "                                              min_samples_leaf=1,\n",
       "                                              min_samples_split=2,\n",
       "                                              min_weight_fraction_leaf=0.0,\n",
       "                                              n_estimators='warn', n_jobs=None,\n",
       "                                              oob_score=False,\n",
       "                                              random_state=None, verbose=0,\n",
       "                                              warm_start=False),\n",
       "             iid='warn', n_jobs=-1,\n",
       "             param_grid={'max_depth': [6, 8, 10, 12],\n",
       "                         'max_features': [2, 4, 'sqrt'],\n",
       "                         'n_estimators': [50, 100, 500, 2000]},\n",
       "             pre_dispatch='2*n_jobs', refit=True, return_train_score=False,\n",
       "             scoring='roc_auc', verbose=1)"
      ]
     },
     "execution_count": 66,
     "metadata": {},
     "output_type": "execute_result"
    }
   ],
   "source": [
    "parameters = {\n",
    "    'n_estimators': [50, 100, 500,2000],\n",
    "    'max_features': [2, 4, 'sqrt'],\n",
    "    'max_depth': [6, 8, 10, 12]\n",
    "}\n",
    "\n",
    "clf1 = RandomForestClassifier()\n",
    "\n",
    "grid_search = GridSearchCV(clf1, parameters, cv=5, scoring='roc_auc',refit=True, n_jobs=-1, verbose=1)\n",
    "\n",
    "grid_search.fit(X_train, y_train)"
   ]
  },
  {
   "cell_type": "markdown",
   "metadata": {},
   "source": [
    "b) Identify the best performing model:"
   ]
  },
  {
   "cell_type": "code",
   "execution_count": 68,
   "metadata": {},
   "outputs": [
    {
     "data": {
      "text/plain": [
       "{'max_depth': 12, 'max_features': 2, 'n_estimators': 500}"
      ]
     },
     "execution_count": 68,
     "metadata": {},
     "output_type": "execute_result"
    }
   ],
   "source": [
    "grid_search.best_params_"
   ]
  },
  {
   "cell_type": "code",
   "execution_count": 69,
   "metadata": {},
   "outputs": [
    {
     "data": {
      "text/plain": [
       "RandomForestClassifier(bootstrap=True, class_weight=None, criterion='gini',\n",
       "                       max_depth=12, max_features=2, max_leaf_nodes=None,\n",
       "                       min_impurity_decrease=0.0, min_impurity_split=None,\n",
       "                       min_samples_leaf=1, min_samples_split=2,\n",
       "                       min_weight_fraction_leaf=0.0, n_estimators=500,\n",
       "                       n_jobs=None, oob_score=False, random_state=None,\n",
       "                       verbose=0, warm_start=False)"
      ]
     },
     "execution_count": 69,
     "metadata": {},
     "output_type": "execute_result"
    }
   ],
   "source": [
    "grid_search.best_estimator_"
   ]
  },
  {
   "cell_type": "markdown",
   "metadata": {},
   "source": [
    "--------------------------------------------\n",
    "c) Use the best estimator model to predict on test data. Use the .predict_proba() and the .predict() methods to get predicted probabilities as well as predicted classes.\n",
    "\n",
    "d) Calculate the confusion matrix and classification report (both are in sklearn.metrics). \n",
    "\n",
    "e) Calculate the roc_auc_score for this model.\n",
    "\n",
    "f) Calculate predictions for the training data & build the confusion matrix, classification report & roc_auc_score. Are there signs of overfitting? Why or why not?"
   ]
  },
  {
   "cell_type": "code",
   "execution_count": 70,
   "metadata": {},
   "outputs": [],
   "source": [
    "bm = grid_search.best_estimator_\n",
    "\n",
    "y_train_pred1 = bm.predict(X_train)\n",
    "y_test_pred1 = bm.predict(X_test)\n",
    "\n",
    "y_train_proba1 = bm.predict_proba(X_train)\n",
    "y_test_proba1 = bm.predict_proba(X_test)"
   ]
  },
  {
   "cell_type": "code",
   "execution_count": 71,
   "metadata": {},
   "outputs": [
    {
     "name": "stdout",
     "output_type": "stream",
     "text": [
      "Train Score: 0.8774285714285714\n",
      "\n",
      "Train Confusion Matrix\n",
      "[[16167   160]\n",
      " [ 2414  2259]]\n",
      "\n",
      "Train Classification Report\n",
      "              precision    recall  f1-score   support\n",
      "\n",
      "           0       0.87      0.99      0.93     16327\n",
      "           1       0.93      0.48      0.64      4673\n",
      "\n",
      "    accuracy                           0.88     21000\n",
      "   macro avg       0.90      0.74      0.78     21000\n",
      "weighted avg       0.88      0.88      0.86     21000\n",
      "\n",
      "\n",
      "Train ROC AUC: 0.91\n",
      "-----------------------------------------------------------\n",
      "Test Score: 0.8174444444444444\n",
      "\n",
      "Test Confusion Matrix\n",
      "[[6713  324]\n",
      " [1319  644]]\n",
      "\n",
      "Test Classification Report\n",
      "              precision    recall  f1-score   support\n",
      "\n",
      "           0       0.84      0.95      0.89      7037\n",
      "           1       0.67      0.33      0.44      1963\n",
      "\n",
      "    accuracy                           0.82      9000\n",
      "   macro avg       0.75      0.64      0.67      9000\n",
      "weighted avg       0.80      0.82      0.79      9000\n",
      "\n",
      "\n",
      "Test ROC AUC: 0.78\n"
     ]
    }
   ],
   "source": [
    "print(\"Train Score:\", bm.score(X_train, y_train))\n",
    "print(\"\\nTrain Confusion Matrix\")\n",
    "print(skm.confusion_matrix(y_train, y_train_pred1))\n",
    "print(\"\\nTrain Classification Report\")\n",
    "print(skm.classification_report(y_train, y_train_pred1))\n",
    "print(\"\\nTrain ROC AUC:\", round(skm.roc_auc_score(y_train, y_train_proba1[:,1]), 2))\n",
    "print(\"-----------------------------------------------------------\")\n",
    "\n",
    "print(\"Test Score:\", bm.score(X_test, y_test))\n",
    "print(\"\\nTest Confusion Matrix\")\n",
    "print(skm.confusion_matrix(y_test, y_test_pred1))\n",
    "print(\"\\nTest Classification Report\")\n",
    "print(skm.classification_report(y_test, y_test_pred1))\n",
    "print(\"\\nTest ROC AUC:\", round(skm.roc_auc_score(y_test, y_test_proba1[:,1]), 2))"
   ]
  },
  {
   "cell_type": "markdown",
   "metadata": {},
   "source": [
    "##### Are there signs of overfitting? Why or why not?\n",
    "Comapre to base model in Question 2, all three scores we discussed in Question 2, default prediction(y=1) f1_score, over all accuracy and  ROC AUC score, are lower when applying our best Q3 model to training data set. However, all three scores increased when applying Q3 best model to the test data set. The difference between train and test scores are much smaller when applying Q3 best model. This clearly indicates that Q3 best model overfit less than Q2 base model. If we deploy Q3 best model, it will perform much better than Q2 base model when applied to new unseen data. Since all three scores are reasonably close between train and test in Q3 model, we can say that overfitting is not that significant."
   ]
  },
  {
   "cell_type": "markdown",
   "metadata": {},
   "source": [
    "#### 4. Create a feature importance plot for your best performing model.\n",
    "\n",
    "a) What are the top 5 features for this model?"
   ]
  },
  {
   "cell_type": "code",
   "execution_count": 80,
   "metadata": {},
   "outputs": [
    {
     "data": {
      "text/plain": [
       "<matplotlib.axes._subplots.AxesSubplot at 0x263936c1448>"
      ]
     },
     "execution_count": 80,
     "metadata": {},
     "output_type": "execute_result"
    },
    {
     "data": {
      "image/png": "[encoded data removed]",
      "text/plain": [
       "<Figure size 720x360 with 1 Axes>"
      ]
     },
     "metadata": {
      "needs_background": "light"
     },
     "output_type": "display_data"
    }
   ],
   "source": [
    "fi = pd.DataFrame({'name': X.columns, 'importance': bm.feature_importances_})\n",
    "fi.sort_values('importance', ascending=False, inplace=True)\n",
    "fi.plot.bar(x='name', y='importance',title='Feature Importance Ranking of Q3 Best Model',figsize=(10,5))"
   ]
  },
  {
   "cell_type": "markdown",
   "metadata": {},
   "source": [
    "Based on the graph above, top 5 features for this model are PAY_0, PAY_2, PAY_3, PAY_4, PAY_5."
   ]
  },
  {
   "cell_type": "markdown",
   "metadata": {},
   "source": [
    "#### 5. Conceptual Questions:\n",
    "\n",
    "##### a) What are the best parameters from the Grid Search in Question # 3? Does the Model from #3 outperform Model #2? Explain why <br>\n",
    "<br>\n",
    "The best parameters from the Grid Search in Question #3 are 'max_depth': 12, 'max_features': 2, 'n_estimators': 500.<br>\n",
    "\n",
    "Model #3 performed better when applied to test data and Model #2 performed better when applied to training data. Since Model #3 performs better when applied to new unseen data, we can say that Model #3 outperformed Model #2. Please see my discussion on overfitting in Q2 and Q3. <br>\n",
    "<br>\n",
    "\n",
    "##### b) Overfitting is always a concern in ML problems. Does Model #3 overfit data more or less than Model #2? Explain why you think this is the case.  <br>\n",
    "\n",
    "Comapre to base model in Question 2, all three scores we discussed in Question 2, default prediction(y=1) f1_score, over all accuracy and ROC AUC score, are lower when applying our best Q3 model to training data set. However, all three scores increased when applying Q3 best model to the test data set. The difference between train and test scores are much smaller when applying Q3 best model. This clearly indicates that Q3 best model overfit less than Q2 base model. <br>\n",
    "<br>\n",
    "\n",
    "##### c) The lecture notes describe the Gini Index which is the default criterion used for splitting in sklearn's version of RandomForestClassifier. How does the Gini Index work? (i.e. How is it used to build a top-performing model?). \n",
    "\n",
    "Gini Index, also known as Gini impurity, calculates the amount of probability of a specific feature that is classified incorrectly when selected randomly. If all the elements are linked with a single class then it can be called pure. <br>\n",
    "\n",
    "The Gini index varies between values 0 and 1, where 0 expresses the purity of classification, i.e. All the elements belong to a specified class or only one class exists there. And 1 indicates the random distribution of elements across various classes. The value of 0.5 of the Gini Index shows an equal distribution of elements over some classes.<br>\n",
    "\n",
    "While splitting a node, the features possessing the least value of the Gini Index would get chosen.<br>\n",
    "\n",
    "\n",
    "$G = \\sum_{k=1}^{k} p_{mk}(1-p_{mk})$ <br>\n",
    "\n",
    "where $p_{mk}$ is the proportion of training observations in the mth region that are from the kth class.\n",
    "\n",
    "The purer(smaller Gini Index) each terminal node gets, the better final model perfoms.\n",
    "\n",
    "##### d) Describe how Random Forest is different from bagging & why this difference can yield improved results.\n",
    "\n",
    "The bagging algorithm draws random bootstrap samples from your training set and we provide each tree with the full set of features. However, in addition to the bootstrap samples, Random Forest also draws random subsets of features for training the individual trees. Due to the random feature selection, the trees are more independent of each other compared to regular bagging, which often results in better predictive performance (due to better variance-bias trade-offs), and I’d say that it’s also faster than bagging, because each tree learns only from a subset of features.\n",
    "\n",
    "##### e) Describe the importance of the max_depth parameter in Random Forest. Do not just provide a definition, rather think through how bias-variance tradeoff might be impacted by the max_depth parameter.\n",
    "\n",
    "max_depth is the how many splits deep you want each tree to go. max_depth = 10, for example, would limit trees to at most 10 splits down any given branch. Samller max_depth has the consequence that our Random Forest can no longer fit the training data as closely, and is therefore more stable and can prevent overfitting. It also creates lower variance, giving our model higher bias. However severely constraining max_depth could increase the bias of each tree given that they may not be able to capture certain patterns in the data before hitting their max_depth limit. \n",
    "\n",
    "##### f) In this homework we used k-fold cross-validation while determining the optimal hyperparameters for our Random Forest model. 1) Describe how k-fold cross-validation works. 2) What benefit do we gain by using k-fold cross-validation when tuning our Random Forest model versus only using the train-test split approach?\n",
    "1)<br>\n",
    "Split the entire data randomly into K folds. The higher value of K leads to less biased model (but large variance might lead to over-fit), where as the lower value of K(k=1) is similar to the train-test split. Then validate the model using each of the K folds while train the model using the remaining folds. Records the scores/errors. Repeat this process until every K-fold serve as the test set. Then take the average of your recorded scores. That will be the performance metric for the model.<br>\n",
    "\n",
    "2)<br>\n",
    "\n",
    "K-Folds technique generally results in a less biased model compare to single train-test split. Because it ensures that every observation from the original dataset has the chance of appearing in training and test set. It is especially useful when we have a limited input data. In addition, when we tune our model, train-test split may encounter a situation where extreme outliers are all grouped into either train or test, which will cause high bias in our training model parameters or test performance. In summary, Cross-validation is usually the preferred method because it gives your model the opportunity to train on multiple train-test splits and model&test across all data points. This will capture more information from the entire data set and gives you a better indication of how well your model will perform on different unseen data. "
   ]
  },
  {
   "cell_type": "code",
   "execution_count": null,
   "metadata": {},
   "outputs": [],
   "source": []
  }
 ],
 "metadata": {
  "kernelspec": {
   "display_name": "Python 3",
   "language": "python",
   "name": "python3"
  },
  "language_info": {
   "codemirror_mode": {
    "name": "ipython",
    "version": 3
   },
   "file_extension": ".py",
   "mimetype": "text/x-python",
   "name": "python",
   "nbconvert_exporter": "python",
   "pygments_lexer": "ipython3",
   "version": "3.7.4"
  }
 },
 "nbformat": 4,
 "nbformat_minor": 2
}
