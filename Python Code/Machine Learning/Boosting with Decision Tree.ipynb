{
 "cells": [
  {
   "cell_type": "markdown",
   "metadata": {},
   "source": [
    "## MSCA 31009 Machine Learning & Predictive Analytics\n",
    "## Assignment 4\n",
    "## Duo Zhou"
   ]
  },
  {
   "cell_type": "code",
   "execution_count": 31,
   "metadata": {},
   "outputs": [],
   "source": [
    "import pandas as pd\n",
    "import numpy as np\n",
    "import matplotlib.pyplot as plt\n",
    "%matplotlib inline\n",
    "\n",
    "from sklearn import metrics as skm\n",
    "from sklearn.model_selection import train_test_split"
   ]
  },
  {
   "cell_type": "markdown",
   "metadata": {},
   "source": [
    "## Boosting and Classification:\n",
    "\n",
    "Data: The data we will use has been taken from here: https://archive.ics.uci.edu/ml/datasets/Adult (Links to an external site.)\n",
    "\n",
    "There will be some basic preprocessing work to do, some of which is outlined. But please post on Canvas as questions arise. The goal of this homework is to take census data and predict whether an individual would have an income that exceeds $50k/yr. This is a binary classification problem.\n",
    "\n"
   ]
  },
  {
   "cell_type": "markdown",
   "metadata": {},
   "source": [
    "### 1. Data Processing\n",
    "\n",
    "a) Import the data from the website directly: https://archive.ics.uci.edu/ml/machine-learning-databases/adult/adult.data (Links to an external site.)\n",
    "\n",
    "We can use pandas to read the data that is stored in csv format. Please note there is no header, so we will build column names in a later step. Also, we are going to remove leading white spaces (which just make things tough later)"
   ]
  },
  {
   "cell_type": "code",
   "execution_count": 32,
   "metadata": {},
   "outputs": [],
   "source": [
    "df = pd.read_csv('https://archive.ics.uci.edu/ml/machine-learning-databases/adult/adult.data', header = None, skipinitialspace=True)"
   ]
  },
  {
   "cell_type": "markdown",
   "metadata": {},
   "source": [
    "b) There is no header included, but information on column names is here: https://archive.ics.uci.edu/ml/machine-learning-databases/adult/adult.names (Links to an external site.)\n",
    "\n",
    "Scroll to the bottom of that link to see the explanation of the columns. You need to build the column names for your dataframe. It is highly encouraged to not include spaces in column names. Finally, call your target variable (the last column of \">50K\" or \"<=50k\") \"salary\".\n",
    "\n",
    "An easy way to do this is to build a list of column names, and pass those into the .columns() attribute.\n",
    "\n",
    "Example below:\n",
    "\n",
    "list_of_columns = [\"column_a\", \"column_b\", \"column_c\"]\n",
    "my_dataframe.columns = list_of_columns\n",
    "Resource: https://stackoverflow.com/questions/11346283/renaming-columns-in-pandas"
   ]
  },
  {
   "cell_type": "code",
   "execution_count": 33,
   "metadata": {},
   "outputs": [],
   "source": [
    "cols = [\n",
    "    'age',\n",
    "    'workclass',\n",
    "    'fnlwgt',\n",
    "    'education',\n",
    "    'education_num',\n",
    "    'marital_status',\n",
    "    'occupation',\n",
    "    'relationship',\n",
    "    'race',\n",
    "    'sex',\n",
    "    'capital_gain',\n",
    "    'capital_loss',\n",
    "    'hours_per_week',\n",
    "    'native_country',\n",
    "    'salary'\n",
    "]\n",
    "\n",
    "df.columns = cols"
   ]
  },
  {
   "cell_type": "markdown",
   "metadata": {},
   "source": [
    "c) Check your dataframe shape to verify that you have the correct # of rows and columns. Run the following command:\n",
    "\n",
    "adult_df.shape\n",
    "You should get a shape of: (32561, 15)"
   ]
  },
  {
   "cell_type": "code",
   "execution_count": 34,
   "metadata": {},
   "outputs": [
    {
     "data": {
      "text/plain": [
       "(32561, 15)"
      ]
     },
     "execution_count": 34,
     "metadata": {},
     "output_type": "execute_result"
    }
   ],
   "source": [
    "df.shape"
   ]
  },
  {
   "cell_type": "markdown",
   "metadata": {},
   "source": [
    "d) Drop the 3rd column from the data (it is referred to as \"fnlwgt\" on UCI's website and is not necessary in this homework)\n",
    "\n",
    "e) Note: There are random values of  '?' that show up in the data - this is fine! These just refer to \"unknown\" and can be left as is. This data has no true NA values, so no need to check.\n",
    "\n",
    "f) Use the .replace() method to make the following changes to the \"salary\" column:\n",
    "\n",
    " \"<=50K\" should become 0\n",
    "\">50K\" should become 1\n",
    "Note: This step is essential to calculate the ROC_AUC score in model evaluation steps.\n",
    "\n",
    "Resource: https://stackoverflow.com/questions/51672709/converting-no-and-yes-into-0-and-1-in-pandas-dataframe"
   ]
  },
  {
   "cell_type": "code",
   "execution_count": 35,
   "metadata": {},
   "outputs": [],
   "source": [
    "# drop \"fnlwgt\"\n",
    "df.drop(columns='fnlwgt', inplace=True)\n",
    "\n",
    "# Revalue the target variable\n",
    "df.salary.replace({'<=50K':0, '>50K':1}, inplace=True)"
   ]
  },
  {
   "cell_type": "code",
   "execution_count": 36,
   "metadata": {},
   "outputs": [
    {
     "data": {
      "text/html": [
       "<div>\n",
       "<style scoped>\n",
       "    .dataframe tbody tr th:only-of-type {\n",
       "        vertical-align: middle;\n",
       "    }\n",
       "\n",
       "    .dataframe tbody tr th {\n",
       "        vertical-align: top;\n",
       "    }\n",
       "\n",
       "    .dataframe thead th {\n",
       "        text-align: right;\n",
       "    }\n",
       "</style>\n",
       "<table border=\"1\" class=\"dataframe\">\n",
       "  <thead>\n",
       "    <tr style=\"text-align: right;\">\n",
       "      <th></th>\n",
       "      <th>age</th>\n",
       "      <th>workclass</th>\n",
       "      <th>education</th>\n",
       "      <th>education_num</th>\n",
       "      <th>marital_status</th>\n",
       "      <th>occupation</th>\n",
       "      <th>relationship</th>\n",
       "      <th>race</th>\n",
       "      <th>sex</th>\n",
       "      <th>capital_gain</th>\n",
       "      <th>capital_loss</th>\n",
       "      <th>hours_per_week</th>\n",
       "      <th>native_country</th>\n",
       "      <th>salary</th>\n",
       "    </tr>\n",
       "  </thead>\n",
       "  <tbody>\n",
       "    <tr>\n",
       "      <td>0</td>\n",
       "      <td>39</td>\n",
       "      <td>State-gov</td>\n",
       "      <td>Bachelors</td>\n",
       "      <td>13</td>\n",
       "      <td>Never-married</td>\n",
       "      <td>Adm-clerical</td>\n",
       "      <td>Not-in-family</td>\n",
       "      <td>White</td>\n",
       "      <td>Male</td>\n",
       "      <td>2174</td>\n",
       "      <td>0</td>\n",
       "      <td>40</td>\n",
       "      <td>United-States</td>\n",
       "      <td>0</td>\n",
       "    </tr>\n",
       "    <tr>\n",
       "      <td>1</td>\n",
       "      <td>50</td>\n",
       "      <td>Self-emp-not-inc</td>\n",
       "      <td>Bachelors</td>\n",
       "      <td>13</td>\n",
       "      <td>Married-civ-spouse</td>\n",
       "      <td>Exec-managerial</td>\n",
       "      <td>Husband</td>\n",
       "      <td>White</td>\n",
       "      <td>Male</td>\n",
       "      <td>0</td>\n",
       "      <td>0</td>\n",
       "      <td>13</td>\n",
       "      <td>United-States</td>\n",
       "      <td>0</td>\n",
       "    </tr>\n",
       "    <tr>\n",
       "      <td>2</td>\n",
       "      <td>38</td>\n",
       "      <td>Private</td>\n",
       "      <td>HS-grad</td>\n",
       "      <td>9</td>\n",
       "      <td>Divorced</td>\n",
       "      <td>Handlers-cleaners</td>\n",
       "      <td>Not-in-family</td>\n",
       "      <td>White</td>\n",
       "      <td>Male</td>\n",
       "      <td>0</td>\n",
       "      <td>0</td>\n",
       "      <td>40</td>\n",
       "      <td>United-States</td>\n",
       "      <td>0</td>\n",
       "    </tr>\n",
       "    <tr>\n",
       "      <td>3</td>\n",
       "      <td>53</td>\n",
       "      <td>Private</td>\n",
       "      <td>11th</td>\n",
       "      <td>7</td>\n",
       "      <td>Married-civ-spouse</td>\n",
       "      <td>Handlers-cleaners</td>\n",
       "      <td>Husband</td>\n",
       "      <td>Black</td>\n",
       "      <td>Male</td>\n",
       "      <td>0</td>\n",
       "      <td>0</td>\n",
       "      <td>40</td>\n",
       "      <td>United-States</td>\n",
       "      <td>0</td>\n",
       "    </tr>\n",
       "    <tr>\n",
       "      <td>4</td>\n",
       "      <td>28</td>\n",
       "      <td>Private</td>\n",
       "      <td>Bachelors</td>\n",
       "      <td>13</td>\n",
       "      <td>Married-civ-spouse</td>\n",
       "      <td>Prof-specialty</td>\n",
       "      <td>Wife</td>\n",
       "      <td>Black</td>\n",
       "      <td>Female</td>\n",
       "      <td>0</td>\n",
       "      <td>0</td>\n",
       "      <td>40</td>\n",
       "      <td>Cuba</td>\n",
       "      <td>0</td>\n",
       "    </tr>\n",
       "    <tr>\n",
       "      <td>...</td>\n",
       "      <td>...</td>\n",
       "      <td>...</td>\n",
       "      <td>...</td>\n",
       "      <td>...</td>\n",
       "      <td>...</td>\n",
       "      <td>...</td>\n",
       "      <td>...</td>\n",
       "      <td>...</td>\n",
       "      <td>...</td>\n",
       "      <td>...</td>\n",
       "      <td>...</td>\n",
       "      <td>...</td>\n",
       "      <td>...</td>\n",
       "      <td>...</td>\n",
       "    </tr>\n",
       "    <tr>\n",
       "      <td>32556</td>\n",
       "      <td>27</td>\n",
       "      <td>Private</td>\n",
       "      <td>Assoc-acdm</td>\n",
       "      <td>12</td>\n",
       "      <td>Married-civ-spouse</td>\n",
       "      <td>Tech-support</td>\n",
       "      <td>Wife</td>\n",
       "      <td>White</td>\n",
       "      <td>Female</td>\n",
       "      <td>0</td>\n",
       "      <td>0</td>\n",
       "      <td>38</td>\n",
       "      <td>United-States</td>\n",
       "      <td>0</td>\n",
       "    </tr>\n",
       "    <tr>\n",
       "      <td>32557</td>\n",
       "      <td>40</td>\n",
       "      <td>Private</td>\n",
       "      <td>HS-grad</td>\n",
       "      <td>9</td>\n",
       "      <td>Married-civ-spouse</td>\n",
       "      <td>Machine-op-inspct</td>\n",
       "      <td>Husband</td>\n",
       "      <td>White</td>\n",
       "      <td>Male</td>\n",
       "      <td>0</td>\n",
       "      <td>0</td>\n",
       "      <td>40</td>\n",
       "      <td>United-States</td>\n",
       "      <td>1</td>\n",
       "    </tr>\n",
       "    <tr>\n",
       "      <td>32558</td>\n",
       "      <td>58</td>\n",
       "      <td>Private</td>\n",
       "      <td>HS-grad</td>\n",
       "      <td>9</td>\n",
       "      <td>Widowed</td>\n",
       "      <td>Adm-clerical</td>\n",
       "      <td>Unmarried</td>\n",
       "      <td>White</td>\n",
       "      <td>Female</td>\n",
       "      <td>0</td>\n",
       "      <td>0</td>\n",
       "      <td>40</td>\n",
       "      <td>United-States</td>\n",
       "      <td>0</td>\n",
       "    </tr>\n",
       "    <tr>\n",
       "      <td>32559</td>\n",
       "      <td>22</td>\n",
       "      <td>Private</td>\n",
       "      <td>HS-grad</td>\n",
       "      <td>9</td>\n",
       "      <td>Never-married</td>\n",
       "      <td>Adm-clerical</td>\n",
       "      <td>Own-child</td>\n",
       "      <td>White</td>\n",
       "      <td>Male</td>\n",
       "      <td>0</td>\n",
       "      <td>0</td>\n",
       "      <td>20</td>\n",
       "      <td>United-States</td>\n",
       "      <td>0</td>\n",
       "    </tr>\n",
       "    <tr>\n",
       "      <td>32560</td>\n",
       "      <td>52</td>\n",
       "      <td>Self-emp-inc</td>\n",
       "      <td>HS-grad</td>\n",
       "      <td>9</td>\n",
       "      <td>Married-civ-spouse</td>\n",
       "      <td>Exec-managerial</td>\n",
       "      <td>Wife</td>\n",
       "      <td>White</td>\n",
       "      <td>Female</td>\n",
       "      <td>15024</td>\n",
       "      <td>0</td>\n",
       "      <td>40</td>\n",
       "      <td>United-States</td>\n",
       "      <td>1</td>\n",
       "    </tr>\n",
       "  </tbody>\n",
       "</table>\n",
       "<p>32561 rows × 14 columns</p>\n",
       "</div>"
      ],
      "text/plain": [
       "       age         workclass   education  education_num      marital_status  \\\n",
       "0       39         State-gov   Bachelors             13       Never-married   \n",
       "1       50  Self-emp-not-inc   Bachelors             13  Married-civ-spouse   \n",
       "2       38           Private     HS-grad              9            Divorced   \n",
       "3       53           Private        11th              7  Married-civ-spouse   \n",
       "4       28           Private   Bachelors             13  Married-civ-spouse   \n",
       "...    ...               ...         ...            ...                 ...   \n",
       "32556   27           Private  Assoc-acdm             12  Married-civ-spouse   \n",
       "32557   40           Private     HS-grad              9  Married-civ-spouse   \n",
       "32558   58           Private     HS-grad              9             Widowed   \n",
       "32559   22           Private     HS-grad              9       Never-married   \n",
       "32560   52      Self-emp-inc     HS-grad              9  Married-civ-spouse   \n",
       "\n",
       "              occupation   relationship   race     sex  capital_gain  \\\n",
       "0           Adm-clerical  Not-in-family  White    Male          2174   \n",
       "1        Exec-managerial        Husband  White    Male             0   \n",
       "2      Handlers-cleaners  Not-in-family  White    Male             0   \n",
       "3      Handlers-cleaners        Husband  Black    Male             0   \n",
       "4         Prof-specialty           Wife  Black  Female             0   \n",
       "...                  ...            ...    ...     ...           ...   \n",
       "32556       Tech-support           Wife  White  Female             0   \n",
       "32557  Machine-op-inspct        Husband  White    Male             0   \n",
       "32558       Adm-clerical      Unmarried  White  Female             0   \n",
       "32559       Adm-clerical      Own-child  White    Male             0   \n",
       "32560    Exec-managerial           Wife  White  Female         15024   \n",
       "\n",
       "       capital_loss  hours_per_week native_country  salary  \n",
       "0                 0              40  United-States       0  \n",
       "1                 0              13  United-States       0  \n",
       "2                 0              40  United-States       0  \n",
       "3                 0              40  United-States       0  \n",
       "4                 0              40           Cuba       0  \n",
       "...             ...             ...            ...     ...  \n",
       "32556             0              38  United-States       0  \n",
       "32557             0              40  United-States       1  \n",
       "32558             0              40  United-States       0  \n",
       "32559             0              20  United-States       0  \n",
       "32560             0              40  United-States       1  \n",
       "\n",
       "[32561 rows x 14 columns]"
      ]
     },
     "execution_count": 36,
     "metadata": {},
     "output_type": "execute_result"
    }
   ],
   "source": [
    "df"
   ]
  },
  {
   "cell_type": "markdown",
   "metadata": {},
   "source": [
    "g) Create your X dataframe (just your predictors). It should include every feature except for the target variable which is \"salary\".\n",
    "\n",
    "You should have the following shape: (32561, 13)\n",
    "\n",
    "h) Create your y dataframe (just your target variable). It should only be \"salary\".\n",
    "\n",
    "You should have the following shape: (32561, )\n",
    "\n",
    "The values should only be 0 and 1."
   ]
  },
  {
   "cell_type": "code",
   "execution_count": 37,
   "metadata": {},
   "outputs": [
    {
     "name": "stdout",
     "output_type": "stream",
     "text": [
      "(32561, 13)\n",
      "(32561,)\n"
     ]
    }
   ],
   "source": [
    "X = df.drop(columns='salary')\n",
    "y = df.salary\n",
    "print(X.shape)\n",
    "print(y.shape)"
   ]
  },
  {
   "cell_type": "markdown",
   "metadata": {},
   "source": [
    "i) For this homework we will try converting columns with factors to separate columns (i.e. one-hot encoding). It is not necessary for trees, but can be a very powerful tool to use. There are a variety of ways to do this, but we can use Pandas built-in method .get_dummies(). Pandas will automatically split out columns that are categorical. For now, just run across your full X dataframe.\n",
    "\n",
    "X_encoded = pd.get_dummies(X)\n",
    "Your updated X dataframe should have the following shape: (32561, 107)"
   ]
  },
  {
   "cell_type": "code",
   "execution_count": 38,
   "metadata": {},
   "outputs": [
    {
     "data": {
      "text/plain": [
       "(32561, 107)"
      ]
     },
     "execution_count": 38,
     "metadata": {},
     "output_type": "execute_result"
    }
   ],
   "source": [
    "X_encoded = pd.get_dummies(X)\n",
    "X_encoded.shape"
   ]
  },
  {
   "cell_type": "markdown",
   "metadata": {},
   "source": [
    "j) Split data into train / test set using an 70/30 split. Verify that you have the same number of columns in your X_train and X_test."
   ]
  },
  {
   "cell_type": "code",
   "execution_count": 39,
   "metadata": {},
   "outputs": [
    {
     "name": "stdout",
     "output_type": "stream",
     "text": [
      "(22792, 107)\n",
      "(9769, 107)\n"
     ]
    }
   ],
   "source": [
    "X_train, X_test, y_train, y_test = train_test_split(X_encoded, y, test_size=0.3, random_state=12345)\n",
    "\n",
    "print(X_train.shape)\n",
    "print(X_test.shape)"
   ]
  },
  {
   "cell_type": "markdown",
   "metadata": {},
   "source": [
    "### 2. Random Forest Classifier - Base Model:\n",
    "\n",
    "Start by creating a simple Random Forest only using default parameters - this will let us compare Boosting methods to Random Forest in binary classification problems.\n",
    "\n",
    "a) Use the RandomForestClassifier in sklearn. Fit your model on the training data.\n",
    "\n",
    "b) Use the fitted model to predict on test data. Use the .predict_proba() and the .predict() methods to get predicted probabilities as well as predicted classes.\n",
    "\n",
    "c) Calculate the confusion matrix and classification report (both are in sklearn.metrics).\n",
    "\n",
    "d) Calculate the AUC score (we did this in HW #4 many times)."
   ]
  },
  {
   "cell_type": "code",
   "execution_count": 40,
   "metadata": {},
   "outputs": [],
   "source": [
    "from sklearn.ensemble import RandomForestClassifier"
   ]
  },
  {
   "cell_type": "code",
   "execution_count": 41,
   "metadata": {},
   "outputs": [
    {
     "name": "stderr",
     "output_type": "stream",
     "text": [
      "C:\\Users\\zd000\\Anaconda3\\lib\\site-packages\\sklearn\\ensemble\\forest.py:245: FutureWarning: The default value of n_estimators will change from 10 in version 0.20 to 100 in 0.22.\n",
      "  \"10 in version 0.20 to 100 in 0.22.\", FutureWarning)\n"
     ]
    },
    {
     "name": "stdout",
     "output_type": "stream",
     "text": [
      "Random Forest Test Score: 0.8393899068481933\n",
      "Random Forest Test Confusion Matrix\n",
      "[[6803  629]\n",
      " [ 940 1397]]\n",
      "\n",
      "Random Forest Test Classification Report\n",
      "              precision    recall  f1-score   support\n",
      "\n",
      "           0       0.88      0.92      0.90      7432\n",
      "           1       0.69      0.60      0.64      2337\n",
      "\n",
      "    accuracy                           0.84      9769\n",
      "   macro avg       0.78      0.76      0.77      9769\n",
      "weighted avg       0.83      0.84      0.84      9769\n",
      "\n",
      "\n",
      "Random Forest Test ROC AUC\n",
      "0.8671592341667\n"
     ]
    }
   ],
   "source": [
    "# Note I use the default hyperparameters in random forest as a base model\n",
    "rf = RandomForestClassifier()\n",
    "\n",
    "rf.fit(X_train, y_train)\n",
    "\n",
    "y_test_rf_pred  = rf.predict(X_test)\n",
    "y_test_rf_proba = rf.predict_proba(X_test)\n",
    "\n",
    "print(\"Random Forest Test Score:\", rf.score(X_test, y_test))\n",
    "print(\"Random Forest Test Confusion Matrix\")\n",
    "print(skm.confusion_matrix(y_test, y_test_rf_pred))\n",
    "print(\"\\nRandom Forest Test Classification Report\")\n",
    "print(skm.classification_report(y_test, y_test_rf_pred))\n",
    "print(\"\\nRandom Forest Test ROC AUC\")\n",
    "print(skm.roc_auc_score(y_test, y_test_rf_proba[:,1]))"
   ]
  },
  {
   "cell_type": "markdown",
   "metadata": {},
   "source": [
    "e) Identify the top 5 features. Feel free to print a list OR to make a plot."
   ]
  },
  {
   "cell_type": "code",
   "execution_count": 42,
   "metadata": {},
   "outputs": [
    {
     "data": {
      "text/plain": [
       "Text(0, 0.5, 'Feature Importance')"
      ]
     },
     "execution_count": 42,
     "metadata": {},
     "output_type": "execute_result"
    },
    {
     "data": {
      "image/png": "[encoded data removed]",
      "text/plain": [
       "<Figure size 720x360 with 1 Axes>"
      ]
     },
     "metadata": {
      "needs_background": "light"
     },
     "output_type": "display_data"
    }
   ],
   "source": [
    "fi = pd.DataFrame({'name': X_test.columns, 'importance': rf.feature_importances_})\n",
    "fi = fi.sort_values('importance', ascending=False).head(5)\n",
    "fiplot = fi.plot.bar(x='name', y='importance',title='Top 5 Feature Importances of Random Forest Model',figsize=(10,5))\n",
    "fiplot.set_ylabel('Feature Importance')"
   ]
  },
  {
   "cell_type": "markdown",
   "metadata": {},
   "source": [
    "f) Using the model from part B, predict for the train data. Look at the classification report for the train data - is there overfitting for the RandomForest model happening?"
   ]
  },
  {
   "cell_type": "code",
   "execution_count": 43,
   "metadata": {},
   "outputs": [
    {
     "name": "stdout",
     "output_type": "stream",
     "text": [
      "Random Forest Train Score: 0.9707353457353457\n",
      "\n",
      "Random Forest Train Confusion Matrix\n",
      "[[17086   202]\n",
      " [  465  5039]]\n",
      "\n",
      "Random Forest Train Classification Report\n",
      "              precision    recall  f1-score   support\n",
      "\n",
      "           0       0.97      0.99      0.98     17288\n",
      "           1       0.96      0.92      0.94      5504\n",
      "\n",
      "    accuracy                           0.97     22792\n",
      "   macro avg       0.97      0.95      0.96     22792\n",
      "weighted avg       0.97      0.97      0.97     22792\n",
      "\n",
      "\n",
      "Random Forest Train ROC AUC\n",
      "0.995885758991988\n",
      "\n"
     ]
    }
   ],
   "source": [
    "y_train_rf_pred  = rf.predict(X_train)\n",
    "y_train_rf_proba = rf.predict_proba(X_train)\n",
    "\n",
    "print(\"Random Forest Train Score:\", rf.score(X_train, y_train))\n",
    "print(\"\\nRandom Forest Train Confusion Matrix\")\n",
    "print(skm.confusion_matrix(y_train, y_train_rf_pred))\n",
    "print(\"\\nRandom Forest Train Classification Report\")\n",
    "print(skm.classification_report(y_train, y_train_rf_pred))\n",
    "print(\"\\nRandom Forest Train ROC AUC\")\n",
    "print(skm.roc_auc_score(y_train, y_train_rf_proba[:,1]))\n",
    "print(\"\")"
   ]
  },
  {
   "cell_type": "markdown",
   "metadata": {},
   "source": [
    "The overall accuracy is 0.97 for training set and 0.84 for test set. The training ROC AUC score is 0.996 and test ROC AUC score is 0.87. Both scores are very close to 1 in the training set, but drop drastically in the test set. This is a clear sign of overfitting since the model performance droped a lot when applied to new unseen data."
   ]
  },
  {
   "cell_type": "markdown",
   "metadata": {},
   "source": [
    "### 3. AdaBoost Classifier - GridSearch:\n",
    "\n",
    "Start by creating a simple AdaBoostClassifier only using default parameters.\n",
    "\n",
    "(Note: sklearn defaults to a max_depth of 1 for AdaBoost. Read more in the documentation: http://scikit-learn.org/stable/modules/generated/sklearn.ensemble.AdaBoostClassifier.html (Links to an external site.))."
   ]
  },
  {
   "cell_type": "code",
   "execution_count": 44,
   "metadata": {},
   "outputs": [],
   "source": [
    "from sklearn.ensemble import AdaBoostClassifier\n",
    "from sklearn.model_selection import GridSearchCV"
   ]
  },
  {
   "cell_type": "markdown",
   "metadata": {},
   "source": [
    "a) Use the AdaBoostClassifier along with the GridSearchCV tool. Run the GridSearchCV using the following:\n",
    "\n",
    "n_estimators: 100, 200, 300, 400\n",
    "\n",
    "learning_rate: 0.2,0.4,0.6,0.8,1, 1.2\n",
    "\n",
    "Note: Feel free to try out more parameters, the above is the bare minimum for this assignment.\n",
    "\n",
    "Use 5 cross-fold and for scoring use \"roc_auc\" (this is the score that will be referenced when identifying the best parameters).\n",
    "\n",
    "This run took 8 minutes for your TA."
   ]
  },
  {
   "cell_type": "code",
   "execution_count": 16,
   "metadata": {},
   "outputs": [
    {
     "name": "stdout",
     "output_type": "stream",
     "text": [
      "Fitting 5 folds for each of 24 candidates, totalling 120 fits\n"
     ]
    },
    {
     "name": "stderr",
     "output_type": "stream",
     "text": [
      "[Parallel(n_jobs=-1)]: Using backend LokyBackend with 8 concurrent workers.\n",
      "[Parallel(n_jobs=-1)]: Done  34 tasks      | elapsed:  1.6min\n",
      "[Parallel(n_jobs=-1)]: Done 120 out of 120 | elapsed:  5.5min finished\n"
     ]
    },
    {
     "data": {
      "text/plain": [
       "GridSearchCV(cv=5, error_score='raise-deprecating',\n",
       "             estimator=AdaBoostClassifier(algorithm='SAMME.R',\n",
       "                                          base_estimator=None,\n",
       "                                          learning_rate=1.0, n_estimators=50,\n",
       "                                          random_state=None),\n",
       "             iid='warn', n_jobs=-1,\n",
       "             param_grid={'learning_rate': [0.2, 0.4, 0.6, 0.8, 1, 1.2],\n",
       "                         'n_estimators': [100, 200, 300, 400],\n",
       "                         'random_state': [12345]},\n",
       "             pre_dispatch='2*n_jobs', refit=True, return_train_score=False,\n",
       "             scoring='roc_auc', verbose=1)"
      ]
     },
     "execution_count": 16,
     "metadata": {},
     "output_type": "execute_result"
    }
   ],
   "source": [
    "\n",
    "parameters = {\n",
    "    'n_estimators': [100, 200, 300, 400],\n",
    "    'learning_rate': [0.2,0.4,0.6,0.8,1, 1.2],\n",
    "    'random_state' : [12345]\n",
    "}\n",
    "\n",
    "abc = AdaBoostClassifier()\n",
    "\n",
    "grid_search_ab = GridSearchCV(abc, parameters, cv=5, scoring='roc_auc',refit=True, n_jobs=-1, verbose=1)\n",
    "\n",
    "grid_search_ab.fit(X_train, y_train)"
   ]
  },
  {
   "cell_type": "code",
   "execution_count": 46,
   "metadata": {},
   "outputs": [
    {
     "data": {
      "text/plain": [
       "AdaBoostClassifier(algorithm='SAMME.R', base_estimator=None, learning_rate=1.2,\n",
       "                   n_estimators=300, random_state=12345)"
      ]
     },
     "execution_count": 46,
     "metadata": {},
     "output_type": "execute_result"
    }
   ],
   "source": [
    "ab_best=grid_search_ab.best_estimator_\n",
    "ab_best"
   ]
  },
  {
   "cell_type": "markdown",
   "metadata": {},
   "source": [
    "b) Use the best estimator from GridSearchCV to predict on test data. Use the .predict_proba() and the .predict() methods to get predicted probabilities as well as predicted classes.\n",
    "\n",
    "c) Calculate the confusion matrix and classification report (both are in sklearn.metrics).\n",
    "\n",
    "d) Calculate the AUC score"
   ]
  },
  {
   "cell_type": "code",
   "execution_count": 47,
   "metadata": {},
   "outputs": [
    {
     "name": "stdout",
     "output_type": "stream",
     "text": [
      "AdaBoost Test Score: 0.8699969290613164\n",
      "\n",
      "AdaBoost Test Confusion Matrix\n",
      "[[6982  450]\n",
      " [ 820 1517]]\n",
      "\n",
      "AdaBoost Test Classification Report\n",
      "              precision    recall  f1-score   support\n",
      "\n",
      "           0       0.89      0.94      0.92      7432\n",
      "           1       0.77      0.65      0.70      2337\n",
      "\n",
      "    accuracy                           0.87      9769\n",
      "   macro avg       0.83      0.79      0.81      9769\n",
      "weighted avg       0.87      0.87      0.87      9769\n",
      "\n",
      "\n",
      "AdaBoost Test ROC AUC\n",
      "0.9274579608792519\n",
      "\n"
     ]
    }
   ],
   "source": [
    "y_test_ab_pred  = ab_best.predict(X_test)\n",
    "y_test_ab_proba = ab_best.predict_proba(X_test)\n",
    "\n",
    "print(\"AdaBoost Test Score:\", ab_best.score(X_test, y_test))\n",
    "print(\"\\nAdaBoost Test Confusion Matrix\")\n",
    "print(skm.confusion_matrix(y_test, y_test_ab_pred))\n",
    "print(\"\\nAdaBoost Test Classification Report\")\n",
    "print(skm.classification_report(y_test, y_test_ab_pred))\n",
    "print(\"\\nAdaBoost Test ROC AUC\")\n",
    "print(skm.roc_auc_score(y_test, y_test_ab_proba[:,1]))\n",
    "print(\"\")"
   ]
  },
  {
   "cell_type": "markdown",
   "metadata": {},
   "source": [
    "e) Identify the top 5 features. Feel free to print a list OR to make a plot."
   ]
  },
  {
   "cell_type": "code",
   "execution_count": 48,
   "metadata": {},
   "outputs": [
    {
     "data": {
      "text/plain": [
       "Text(0, 0.5, 'Feature Importance')"
      ]
     },
     "execution_count": 48,
     "metadata": {},
     "output_type": "execute_result"
    },
    {
     "data": {
      "image/png": "[encoded data removed]",
      "text/plain": [
       "<Figure size 720x360 with 1 Axes>"
      ]
     },
     "metadata": {
      "needs_background": "light"
     },
     "output_type": "display_data"
    }
   ],
   "source": [
    "fi1 = pd.DataFrame({'name': X_test.columns, 'importance': ab_best.feature_importances_})\n",
    "fi1 = fi1.sort_values('importance', ascending=False).head(5)\n",
    "fiplot1 = fi1.plot.bar(x='name', y='importance',title='Top 5 Feature Importances of Best AdaBoost Model',figsize=(10,5))\n",
    "fiplot1.set_ylabel('Feature Importance')"
   ]
  },
  {
   "cell_type": "markdown",
   "metadata": {},
   "source": [
    "f) Using the model from part (b), predict for the train data. Look at the classification report for the train data - is there overfitting for the best estimator?"
   ]
  },
  {
   "cell_type": "code",
   "execution_count": 49,
   "metadata": {},
   "outputs": [
    {
     "name": "stdout",
     "output_type": "stream",
     "text": [
      "AdaBoost Train Score: 0.8717093717093717\n",
      "\n",
      "AdaBoost Train Confusion Matrix\n",
      "[[16283  1005]\n",
      " [ 1919  3585]]\n",
      "\n",
      "AdaBoost Train Classification Report\n",
      "              precision    recall  f1-score   support\n",
      "\n",
      "           0       0.89      0.94      0.92     17288\n",
      "           1       0.78      0.65      0.71      5504\n",
      "\n",
      "    accuracy                           0.87     22792\n",
      "   macro avg       0.84      0.80      0.81     22792\n",
      "weighted avg       0.87      0.87      0.87     22792\n",
      "\n",
      "\n",
      "AdaBoost Train ROC AUC\n",
      "0.9290568955613788\n",
      "\n"
     ]
    }
   ],
   "source": [
    "y_train_ab_pred  = ab_best.predict(X_train)\n",
    "y_train_ab_proba = ab_best.predict_proba(X_train)\n",
    "\n",
    "print(\"AdaBoost Train Score:\", ab_best.score(X_train, y_train))\n",
    "print(\"\\nAdaBoost Train Confusion Matrix\")\n",
    "print(skm.confusion_matrix(y_train, y_train_ab_pred))\n",
    "print(\"\\nAdaBoost Train Classification Report\")\n",
    "print(skm.classification_report(y_train, y_train_ab_pred))\n",
    "print(\"\\nAdaBoost Train ROC AUC\")\n",
    "print(skm.roc_auc_score(y_train, y_train_ab_proba[:,1]))\n",
    "print(\"\")"
   ]
  },
  {
   "cell_type": "markdown",
   "metadata": {},
   "source": [
    "The overall accuracy is 0.87 for training set and 0.87 for test set. The training ROC AUC score is 0.929 and test ROC AUC score is 0.927. Both scores barely changed from train to test. There is no overfitting, because the model performance did not change when applied to new unseen data."
   ]
  },
  {
   "cell_type": "markdown",
   "metadata": {},
   "source": [
    "### 4. Gradient Boosting Classifier - GridSearch:"
   ]
  },
  {
   "cell_type": "code",
   "execution_count": 50,
   "metadata": {},
   "outputs": [],
   "source": [
    "from sklearn.ensemble import GradientBoostingClassifier"
   ]
  },
  {
   "cell_type": "markdown",
   "metadata": {},
   "source": [
    "a) Use GradientBoostingClassifier along with the GridSearchCV tool. Run the GridSearchCV using the following hyperparameters:\n",
    "\n",
    "n_estimators: 100,200, 300 & 400\n",
    "\n",
    "learning_rate: choose 3 learning rates of your choice\n",
    "\n",
    "max_depth: 1, 2 (you can try deeper, but remember part of the value of boosting stems from minimal complexity of trees)\n",
    "Note: Feel free to try out more parameters, the above is the bare minimum for this assignment.\n",
    "\n",
    "Use 5 cross-fold and for scoring use \"roc_auc\" (this is the score that will be referenced when identifying the best parameters).\n",
    "\n",
    "This run took 6.5 minutes for your TA."
   ]
  },
  {
   "cell_type": "code",
   "execution_count": 51,
   "metadata": {},
   "outputs": [
    {
     "name": "stdout",
     "output_type": "stream",
     "text": [
      "Fitting 5 folds for each of 24 candidates, totalling 120 fits\n"
     ]
    },
    {
     "name": "stderr",
     "output_type": "stream",
     "text": [
      "[Parallel(n_jobs=-1)]: Using backend LokyBackend with 8 concurrent workers.\n",
      "[Parallel(n_jobs=-1)]: Done  34 tasks      | elapsed:  1.0min\n",
      "[Parallel(n_jobs=-1)]: Done 120 out of 120 | elapsed:  3.1min finished\n"
     ]
    },
    {
     "data": {
      "text/plain": [
       "GridSearchCV(cv=5, error_score='raise-deprecating',\n",
       "             estimator=GradientBoostingClassifier(criterion='friedman_mse',\n",
       "                                                  init=None, learning_rate=0.1,\n",
       "                                                  loss='deviance', max_depth=3,\n",
       "                                                  max_features=None,\n",
       "                                                  max_leaf_nodes=None,\n",
       "                                                  min_impurity_decrease=0.0,\n",
       "                                                  min_impurity_split=None,\n",
       "                                                  min_samples_leaf=1,\n",
       "                                                  min_samples_split=2,\n",
       "                                                  min_weight_fraction_leaf=0.0,\n",
       "                                                  n_estimators=100,\n",
       "                                                  n_iter_no_change=None,\n",
       "                                                  presort='auto',\n",
       "                                                  random_state=None,\n",
       "                                                  subsample=1.0, tol=0.0001,\n",
       "                                                  validation_fraction=0.1,\n",
       "                                                  verbose=0, warm_start=False),\n",
       "             iid='warn', n_jobs=-1,\n",
       "             param_grid={'learning_rate': [0.2, 0.8, 1.2], 'max_depth': [1, 2],\n",
       "                         'n_estimators': [100, 200, 300, 400],\n",
       "                         'random_state': [12345]},\n",
       "             pre_dispatch='2*n_jobs', refit=True, return_train_score=False,\n",
       "             scoring='roc_auc', verbose=1)"
      ]
     },
     "execution_count": 51,
     "metadata": {},
     "output_type": "execute_result"
    }
   ],
   "source": [
    "parameters = {\n",
    "    'n_estimators': [100, 200, 300, 400],\n",
    "    'learning_rate': [0.2,0.8,1.2],\n",
    "    'max_depth': [1,2],\n",
    "    'random_state' : [12345]\n",
    "}\n",
    "\n",
    "gb = GradientBoostingClassifier()\n",
    "\n",
    "grid_search_gb = GridSearchCV(gb, parameters, cv=5, scoring='roc_auc',refit=True, n_jobs=-1, verbose=1)\n",
    "\n",
    "grid_search_gb.fit(X_train, y_train)"
   ]
  },
  {
   "cell_type": "code",
   "execution_count": 52,
   "metadata": {},
   "outputs": [
    {
     "data": {
      "text/plain": [
       "GradientBoostingClassifier(criterion='friedman_mse', init=None,\n",
       "                           learning_rate=0.2, loss='deviance', max_depth=2,\n",
       "                           max_features=None, max_leaf_nodes=None,\n",
       "                           min_impurity_decrease=0.0, min_impurity_split=None,\n",
       "                           min_samples_leaf=1, min_samples_split=2,\n",
       "                           min_weight_fraction_leaf=0.0, n_estimators=400,\n",
       "                           n_iter_no_change=None, presort='auto',\n",
       "                           random_state=12345, subsample=1.0, tol=0.0001,\n",
       "                           validation_fraction=0.1, verbose=0,\n",
       "                           warm_start=False)"
      ]
     },
     "execution_count": 52,
     "metadata": {},
     "output_type": "execute_result"
    }
   ],
   "source": [
    "gb_best = grid_search_gb.best_estimator_\n",
    "gb_best"
   ]
  },
  {
   "cell_type": "markdown",
   "metadata": {},
   "source": [
    "b) Use the best estimator from GridSearchCV to predict on test data. Use the .predict_proba() and the .predict() methods to get predicted probabilities as well as predicted classes.\n",
    "\n",
    "c) Calculate the confusion matrix and classification report (both are in sklearn.metrics).\n",
    "\n",
    "d) Calculate the AUC score"
   ]
  },
  {
   "cell_type": "code",
   "execution_count": 53,
   "metadata": {},
   "outputs": [
    {
     "name": "stdout",
     "output_type": "stream",
     "text": [
      "Gradient Boosting Test Score: 0.8703040229296755\n",
      "Gradient Boosting Test Confusion Matrix\n",
      "[[6989  443]\n",
      " [ 824 1513]]\n",
      "\n",
      "Gradient Boosting Test Classification Report\n",
      "              precision    recall  f1-score   support\n",
      "\n",
      "           0       0.89      0.94      0.92      7432\n",
      "           1       0.77      0.65      0.70      2337\n",
      "\n",
      "    accuracy                           0.87      9769\n",
      "   macro avg       0.83      0.79      0.81      9769\n",
      "weighted avg       0.87      0.87      0.87      9769\n",
      "\n",
      "\n",
      "Gradient Boosting Test ROC AUC\n",
      "0.9294407074289994\n",
      "\n"
     ]
    }
   ],
   "source": [
    "y_test_gb_pred  = gb_best.predict(X_test)\n",
    "y_test_gb_proba = gb_best.predict_proba(X_test)\n",
    "\n",
    "print(\"Gradient Boosting Test Score:\", gb_best.score(X_test, y_test))\n",
    "print(\"Gradient Boosting Test Confusion Matrix\")\n",
    "print(skm.confusion_matrix(y_test, y_test_gb_pred))\n",
    "print(\"\\nGradient Boosting Test Classification Report\")\n",
    "print(skm.classification_report(y_test, y_test_gb_pred))\n",
    "print(\"\\nGradient Boosting Test ROC AUC\")\n",
    "print(skm.roc_auc_score(y_test, y_test_gb_proba[:,1]))\n",
    "print(\"\")"
   ]
  },
  {
   "cell_type": "markdown",
   "metadata": {},
   "source": [
    "e) Identify the top 5 features. Feel free to print a list OR to make a plot."
   ]
  },
  {
   "cell_type": "code",
   "execution_count": 54,
   "metadata": {},
   "outputs": [
    {
     "data": {
      "text/plain": [
       "Text(0, 0.5, 'Feature Importance')"
      ]
     },
     "execution_count": 54,
     "metadata": {},
     "output_type": "execute_result"
    },
    {
     "data": {
      "image/png": "[encoded data removed]",
      "text/plain": [
       "<Figure size 720x360 with 1 Axes>"
      ]
     },
     "metadata": {
      "needs_background": "light"
     },
     "output_type": "display_data"
    }
   ],
   "source": [
    "fi2 = pd.DataFrame({'name': X_test.columns, 'importance': gb_best.feature_importances_})\n",
    "fi2 = fi2.sort_values('importance', ascending=False).head(5)\n",
    "fiplot2 = fi2.plot.bar(x='name', y='importance',title='Top 5 Feature Importances of Best GB Model',figsize=(10,5))\n",
    "fiplot2.set_ylabel('Feature Importance')"
   ]
  },
  {
   "cell_type": "markdown",
   "metadata": {},
   "source": [
    "f) Using the model from part (b), predict for the train data. Look at the classification report for the train data - is there overfitting for the best estimator?"
   ]
  },
  {
   "cell_type": "code",
   "execution_count": 55,
   "metadata": {},
   "outputs": [
    {
     "name": "stdout",
     "output_type": "stream",
     "text": [
      "Gradient Boosting Train Score: 0.8798262548262549\n",
      "Gradient Boosting Train Confusion Matrix\n",
      "[[16394   894]\n",
      " [ 1845  3659]]\n",
      "\n",
      "Gradient Boosting Train Classification Report\n",
      "              precision    recall  f1-score   support\n",
      "\n",
      "           0       0.90      0.95      0.92     17288\n",
      "           1       0.80      0.66      0.73      5504\n",
      "\n",
      "    accuracy                           0.88     22792\n",
      "   macro avg       0.85      0.81      0.83     22792\n",
      "weighted avg       0.88      0.88      0.88     22792\n",
      "\n",
      "\\Gradient Boosting Train ROC AUC\n",
      "0.9370223174530257\n",
      "\n"
     ]
    }
   ],
   "source": [
    "y_train_gb_pred  = gb_best.predict(X_train)\n",
    "y_train_gb_proba = gb_best.predict_proba(X_train)\n",
    "\n",
    "print(\"Gradient Boosting Train Score:\", gb_best.score(X_train, y_train))\n",
    "print(\"Gradient Boosting Train Confusion Matrix\")\n",
    "print(skm.confusion_matrix(y_train, y_train_gb_pred))\n",
    "print(\"\\nGradient Boosting Train Classification Report\")\n",
    "print(skm.classification_report(y_train, y_train_gb_pred))\n",
    "print(\"\\Gradient Boosting Train ROC AUC\")\n",
    "print(skm.roc_auc_score(y_train, y_train_gb_proba[:,1]))\n",
    "print(\"\")"
   ]
  },
  {
   "cell_type": "markdown",
   "metadata": {},
   "source": [
    "The overall accuracy is 0.88 for training set and 0.87 for test set. The training ROC AUC score is 0.937 and test ROC AUC score is 0.929. Both scores barely changed from train to test. There is no overfitting, because the model performance did not change when applied to new unseen data."
   ]
  },
  {
   "cell_type": "markdown",
   "metadata": {},
   "source": [
    "### 5. XGBoost - RandomizedSearchCV"
   ]
  },
  {
   "cell_type": "code",
   "execution_count": 21,
   "metadata": {},
   "outputs": [],
   "source": [
    "import xgboost as xgb\n",
    "from sklearn.model_selection import RandomizedSearchCV"
   ]
  },
  {
   "cell_type": "markdown",
   "metadata": {},
   "source": [
    "Repeat 4(a) - 4(f) with xgboost and RandomizedSearchCV.\n",
    "\n",
    "For 4a use the following parameters: \n",
    "\n",
    "n_estimators: 100-1000 in increments of 50  (i.e. 100,150,200,.....1000)\n",
    "\n",
    "learning_rate: 0.1 - 1.6 in increments of 0.1\n",
    "\n",
    "max_depth: 1, 2\n",
    "\n",
    "gamma: 0 - 5 in increments of 0.25\n",
    "\n",
    "Note: For parameters with increments please don't feel the need to type each value by hand. There are better ways to handle this. Post in discussion thread if you are struggling.\n",
    "\n",
    "For RandomizedSearchCV make sure to still use cv = 5 and for scoring use \"roc_auc\"."
   ]
  },
  {
   "cell_type": "code",
   "execution_count": 22,
   "metadata": {},
   "outputs": [
    {
     "name": "stdout",
     "output_type": "stream",
     "text": [
      "Fitting 5 folds for each of 10 candidates, totalling 50 fits\n"
     ]
    },
    {
     "name": "stderr",
     "output_type": "stream",
     "text": [
      "[Parallel(n_jobs=-1)]: Using backend LokyBackend with 8 concurrent workers.\n",
      "[Parallel(n_jobs=-1)]: Done  34 tasks      | elapsed:  1.8min\n",
      "[Parallel(n_jobs=-1)]: Done  50 out of  50 | elapsed:  2.4min finished\n"
     ]
    },
    {
     "data": {
      "text/plain": [
       "RandomizedSearchCV(cv=5, error_score='raise-deprecating',\n",
       "                   estimator=XGBClassifier(base_score=None, booster=None,\n",
       "                                           colsample_bylevel=None,\n",
       "                                           colsample_bynode=None,\n",
       "                                           colsample_bytree=None, gamma=None,\n",
       "                                           gpu_id=None, importance_type='gain',\n",
       "                                           interaction_constraints=None,\n",
       "                                           learning_rate=None,\n",
       "                                           max_delta_step=None, max_depth=None,\n",
       "                                           min_child_weight=None, missing=nan,\n",
       "                                           monotone_co...\n",
       "                                                          0.7000000000000001,\n",
       "                                                          0.8, 0.9, 1.0, 1.1,\n",
       "                                                          1.2000000000000002,\n",
       "                                                          1.3000000000000003,\n",
       "                                                          1.4000000000000001,\n",
       "                                                          1.5000000000000002,\n",
       "                                                          1.6],\n",
       "                                        'max_depth': [1, 2],\n",
       "                                        'n_estimators': [100, 150, 200, 250,\n",
       "                                                         300, 350, 400, 450,\n",
       "                                                         500, 550, 600, 650,\n",
       "                                                         700, 750, 800, 850,\n",
       "                                                         900, 950, 1000],\n",
       "                                        'random_state': [12345]},\n",
       "                   pre_dispatch='2*n_jobs', random_state=None, refit=True,\n",
       "                   return_train_score=False, scoring='roc_auc', verbose=1)"
      ]
     },
     "execution_count": 22,
     "metadata": {},
     "output_type": "execute_result"
    }
   ],
   "source": [
    "parameters = {\n",
    "    'n_estimators': list(np.arange(100, 1050, 50)),\n",
    "    'learning_rate': list(np.arange(0.1, 1.7, 0.1)),\n",
    "    'max_depth': [1,2],\n",
    "    'gamma': list(np.arange(0, 5.25, 0.25)),\n",
    "    'random_state' : [12345]\n",
    "}\n",
    "\n",
    "xgbc = xgb.XGBClassifier()\n",
    "\n",
    "grid_search_xgb = RandomizedSearchCV(xgbc, parameters, cv=5, scoring='roc_auc',refit=True, n_jobs=-1, verbose=1)\n",
    "\n",
    "grid_search_xgb.fit(X_train, y_train)"
   ]
  },
  {
   "cell_type": "code",
   "execution_count": 23,
   "metadata": {},
   "outputs": [
    {
     "data": {
      "text/plain": [
       "XGBClassifier(base_score=0.5, booster='gbtree', colsample_bylevel=1,\n",
       "              colsample_bynode=1, colsample_bytree=1, gamma=0.5, gpu_id=-1,\n",
       "              importance_type='gain', interaction_constraints='',\n",
       "              learning_rate=1.3000000000000003, max_delta_step=0, max_depth=1,\n",
       "              min_child_weight=1, missing=nan, monotone_constraints='()',\n",
       "              n_estimators=950, n_jobs=0, num_parallel_tree=1,\n",
       "              objective='binary:logistic', random_state=12345, reg_alpha=0,\n",
       "              reg_lambda=1, scale_pos_weight=1, subsample=1,\n",
       "              tree_method='exact', validate_parameters=1, verbosity=None)"
      ]
     },
     "execution_count": 23,
     "metadata": {},
     "output_type": "execute_result"
    }
   ],
   "source": [
    "xgb_best = grid_search_xgb.best_estimator_\n",
    "xgb_best"
   ]
  },
  {
   "cell_type": "code",
   "execution_count": 24,
   "metadata": {},
   "outputs": [
    {
     "name": "stdout",
     "output_type": "stream",
     "text": [
      "XGB Test Score: 0.8716347630258983\n",
      "XGB Test Confusion Matrix\n",
      "[[6997  435]\n",
      " [ 819 1518]]\n",
      "\n",
      "XGB Test Classification Report\n",
      "              precision    recall  f1-score   support\n",
      "\n",
      "           0       0.90      0.94      0.92      7432\n",
      "           1       0.78      0.65      0.71      2337\n",
      "\n",
      "    accuracy                           0.87      9769\n",
      "   macro avg       0.84      0.80      0.81      9769\n",
      "weighted avg       0.87      0.87      0.87      9769\n",
      "\n",
      "\\XGB Test ROC AUC\n",
      "0.9295670850312265\n",
      "\n"
     ]
    }
   ],
   "source": [
    "y_test_xgb_pred  = xgb_best.predict(X_test)\n",
    "y_test_xgb_proba = xgb_best.predict_proba(X_test)\n",
    "\n",
    "print(\"XGB Test Score:\", xgb_best.score(X_test, y_test))\n",
    "print(\"XGB Test Confusion Matrix\")\n",
    "print(skm.confusion_matrix(y_test, y_test_xgb_pred))\n",
    "print(\"\\nXGB Test Classification Report\")\n",
    "print(skm.classification_report(y_test, y_test_xgb_pred))\n",
    "print(\"\\XGB Test ROC AUC\")\n",
    "print(skm.roc_auc_score(y_test, y_test_xgb_proba[:,1]))\n",
    "print(\"\")"
   ]
  },
  {
   "cell_type": "code",
   "execution_count": 26,
   "metadata": {},
   "outputs": [
    {
     "data": {
      "text/plain": [
       "Text(0, 0.5, 'Feature Importance')"
      ]
     },
     "execution_count": 26,
     "metadata": {},
     "output_type": "execute_result"
    },
    {
     "data": {
      "image/png": "[encoded data removed]",
      "text/plain": [
       "<Figure size 720x360 with 1 Axes>"
      ]
     },
     "metadata": {
      "needs_background": "light"
     },
     "output_type": "display_data"
    }
   ],
   "source": [
    "fi3 = pd.DataFrame({'name': X_test.columns, 'importance': xgb_best.feature_importances_})\n",
    "fi3 = fi3.sort_values('importance', ascending=False).head(5)\n",
    "fiplot3 = fi3.plot.bar(x='name', y='importance',title='Top 5 Feature Importances of Best XGB Model',figsize=(10,5))\n",
    "fiplot3.set_ylabel('Feature Importance')"
   ]
  },
  {
   "cell_type": "code",
   "execution_count": 25,
   "metadata": {},
   "outputs": [
    {
     "name": "stdout",
     "output_type": "stream",
     "text": [
      "XGB Train Score: 0.8736837486837487\n",
      "XGB Train Confusion Matrix\n",
      "[[16327   961]\n",
      " [ 1918  3586]]\n",
      "\n",
      "XGB Train Classification Report\n",
      "              precision    recall  f1-score   support\n",
      "\n",
      "           0       0.89      0.94      0.92     17288\n",
      "           1       0.79      0.65      0.71      5504\n",
      "\n",
      "    accuracy                           0.87     22792\n",
      "   macro avg       0.84      0.80      0.82     22792\n",
      "weighted avg       0.87      0.87      0.87     22792\n",
      "\n",
      "\n",
      "XGB Train ROC AUC\n",
      "0.9300419128522405\n",
      "\n"
     ]
    }
   ],
   "source": [
    "y_train_xgb_pred  = xgb_best.predict(X_train)\n",
    "y_train_xgb_proba = xgb_best.predict_proba(X_train)\n",
    "\n",
    "print(\"XGB Train Score:\", xgb_best.score(X_train, y_train))\n",
    "print(\"XGB Train Confusion Matrix\")\n",
    "print(skm.confusion_matrix(y_train, y_train_xgb_pred))\n",
    "print(\"\\nXGB Train Classification Report\")\n",
    "print(skm.classification_report(y_train, y_train_xgb_pred))\n",
    "print(\"\\nXGB Train ROC AUC\")\n",
    "print(skm.roc_auc_score(y_train, y_train_xgb_proba[:,1]))\n",
    "print(\"\")"
   ]
  },
  {
   "cell_type": "markdown",
   "metadata": {},
   "source": [
    "The overall accuracy is 0.874 for training set and 0.872 for test set. The training ROC AUC score is 0.930 and test ROC AUC score is 0.9296. Both scores barely changed from train to test. There is no overfitting, becasue the model performance did not change when applied to new unseen data. Notice that the differences between train and test in both scores are the smallest in the best XGB model. "
   ]
  },
  {
   "cell_type": "markdown",
   "metadata": {},
   "source": [
    "### 6. Moving into Conceptual Problems:\n",
    "\n",
    "#### a) What does the alpha parameter represent in AdaBoost? Please refer to chapter 7 of the Hands-On ML book if you are struggling.\n",
    "\n",
    "Alpha in AdaBoost is the final weight of each individual weak predictor (i.e. stump,tree) has in the final ensemble model. \n",
    "$\\alpha_{t}= 0.5*ln((1-\\epsilon_{t})/\\epsilon_{t})$, where $\\epsilon_{t}$ is the error rate of each model. The lower the error rate = the higher the alpha. Alpha is also used to update sample weight of each observation in the next weak predictor. $New sample weight = old sample weight*e^{\\alpha}$. The incorrectly classified observations get bigger sample weights in the next weak predictor. \n",
    "\n",
    "#### b) In AdaBoost explain how the final predicted class is determined. Be sure to reference the alpha term in your explanation.\n",
    "\n",
    "Once all the weak predictor are modeled. Alpha of each individual predictor is the weight of prediction. For regressor, the final result is the weighted average of all the predictions, where weights are alphas from weak predictor. For classifier, the final result is whichever class has the biggest sum of weights in all the predictions.  \n",
    "\n",
    "#### c) In Gradient Boosting, what is the role of the max_depth parameter? Why is it important to tune on this parameter?\n",
    "\n",
    "Max_depth is the maximum depth of each individual tree (Weak Learner) in the Gradient Boosting model. The point of Gradient Boosting is to combine the results of many weak learners using residuals and learning rate to produce the final result. Weak Learners with higher depth learn relations very specific to the training sample, which can lead to overfitting. Tuning this parameter is crucial in preventing overfitting.  \n",
    "\n",
    "#### d) In Part (e) of Steps 2-5 you determined the top 5 predictors across each model. Do any predictors show up in the top 5 predictors for all three models? If so, comment on if this predictor makes sense given what you are attempting to predict. (Note: If you don't have any predictors showing up across all 3 predictors, explain one that shows up in 2 of them).\n",
    "\n",
    "Education_num appeared in the top 5 predictors for all models. It makes sense that people with more years of education tend to have higher salary.\n",
    "\n",
    "#### e) From the models run in steps 2-5, which performs the best based on the Classification Report? Support your reasoning with evidence from your test data and be sure to share the optimal hyperparameters found from your grid search.\n",
    "\n",
    "Based on the test data classfication report, the overall accuracy is 0.872 for XGB best model, which is the highest among all models in this assignment. The best XGB model also has the highest test ROC AUC score of 0.9296. We can say that the XGB model performs best. Notice that there is not much difference in performance among Adaboost, GB and XGB. Their overall f1-scores and ROC AUC scores are very similar.  \n",
    "Best XGB model optimal hyperparameters :\n",
    "\n",
    "base_score=0.5, booster='gbtree', colsample_bylevel=1, colsample_bynode=1, colsample_bytree=1, gamma=0.5, learning_rate=1.3000000000000003, max_delta_step=0, max_depth=1, min_child_weight=1, n_estimators=950, n_jobs=0, num_parallel_tree=1, reg_alpha=0,reg_lambda=1, scale_pos_weight=1, subsample=1\n",
    "\n",
    "#### f) For your best performing model, plot out a ROC curve using your test data. Feel free to use sklearn, matplotlib or any other method in python. Describe what the x-axis & y-axis of the ROC curve tell us about a classifier.\n",
    "\n",
    "\n"
   ]
  },
  {
   "cell_type": "code",
   "execution_count": 79,
   "metadata": {},
   "outputs": [
    {
     "data": {
      "text/plain": [
       "Text(0.5, 0, 'False Positive Rate')"
      ]
     },
     "execution_count": 79,
     "metadata": {},
     "output_type": "execute_result"
    },
    {
     "data": {
      "image/png": "[encoded data removed]",
      "text/plain": [
       "<Figure size 1440x720 with 1 Axes>"
      ]
     },
     "metadata": {
      "needs_background": "light"
     },
     "output_type": "display_data"
    }
   ],
   "source": [
    "fpr, tpr, threshold = skm.roc_curve(y_test, y_test_xgb_proba[:,1])\n",
    "fpr1, tpr1, threshold1 = skm.roc_curve(y_test, y_test_rf_proba[:,1])\n",
    "fpr2, tpr2, threshold2 = skm.roc_curve(y_test, y_test_ab_proba[:,1])\n",
    "fpr3, tpr3, threshold3 = skm.roc_curve(y_test, y_test_gb_proba[:,1])\n",
    "roc_auc = skm.auc(fpr, tpr)\n",
    "\n",
    "\n",
    "plt.figure(figsize=(20,10))\n",
    "plt.plot(fpr, tpr, '-b',label ='XGB')\n",
    "plt.plot(fpr1, tpr1, '-g',label ='RF')\n",
    "plt.plot(fpr2, tpr2, '-k',label ='AdaBoost')\n",
    "plt.plot(fpr3, tpr3, '-m',label ='GB')\n",
    "plt.legend(fontsize=14)\n",
    "plt.title('ROC Curve', fontsize=20)\n",
    "plt.plot([0, 1], [0, 1],'r--')\n",
    "plt.ylabel('True Positive Rate', fontsize=16)\n",
    "plt.xlabel('False Positive Rate', fontsize=16)"
   ]
  },
  {
   "cell_type": "markdown",
   "metadata": {},
   "source": [
    "The X-axis represents the flase positive rate (FP), which is the percentage of 0s that were incorrectly predicted as 1s. The Y-axis represents the true positive rate(TP), which is the percentage of 1s that were correctly predicted. The ROC curve plots TP vs. FP over all possible thresholds for classification. The best threshold to produce the optimal confusion matrix is the one that generated the most upper left point on the ROC curve. The AUC score (Aera Under the Curve) is an indicator of the model performance. The higher the AUC score, the better the model. We can see from the plot above that XGB, Adaboost and GB have very similar ROC&AUC indicating similar model performance. Random Forest has a smaller AUC indicating worse model performance."
   ]
  },
  {
   "cell_type": "code",
   "execution_count": null,
   "metadata": {},
   "outputs": [],
   "source": []
  }
 ],
 "metadata": {
  "kernelspec": {
   "display_name": "Python 3",
   "language": "python",
   "name": "python3"
  },
  "language_info": {
   "codemirror_mode": {
    "name": "ipython",
    "version": 3
   },
   "file_extension": ".py",
   "mimetype": "text/x-python",
   "name": "python",
   "nbconvert_exporter": "python",
   "pygments_lexer": "ipython3",
   "version": "3.7.4"
  }
 },
 "nbformat": 4,
 "nbformat_minor": 2
}
