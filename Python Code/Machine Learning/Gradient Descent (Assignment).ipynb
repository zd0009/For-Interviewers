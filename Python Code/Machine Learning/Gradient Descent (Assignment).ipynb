{
 "cells": [
  {
   "cell_type": "markdown",
   "metadata": {},
   "source": [
    "## MSCA 31009 Machine Learning & Predictive Analytics\n",
    "## Assignment 2\n",
    "## Duo Zhou"
   ]
  },
  {
   "cell_type": "markdown",
   "metadata": {},
   "source": [
    "### Part A: Data Cleaning\n",
    "\n",
    "1) We will increase the complexity of our model slightly by increasing the number of features. Keep the following features:\n",
    "\n",
    "- T_degC (water temperature)\n",
    "- Salnty (salinity of water)\n",
    "- STheta (density of water)\n",
    "- O2ml_L (milliliters of dissolved oxygen per liter of water)\n",
    "- Depthm (depth in meters)\n",
    "\n",
    "2) Remove NaN / NA values from dataset (prior to building train/test sets) (same as HW #1):\n",
    "- Shape of your data should be: (661268, 5)\n",
    "\n",
    "3) Remove any STheta outliers (same as HW #1).\n",
    "- Shape of your data should be: (661268, 5)\n",
    "- Note: Outliers for STheta might have been removed due to NAs in new features. Be sure to verify this on your own."
   ]
  },
  {
   "cell_type": "code",
   "execution_count": 1,
   "metadata": {},
   "outputs": [],
   "source": [
    "import numpy as np\n",
    "import pandas as pd\n",
    "import matplotlib.pyplot as plt \n",
    "import statsmodels.api as sm\n",
    "import time\n",
    "\n",
    "%matplotlib inline"
   ]
  },
  {
   "cell_type": "code",
   "execution_count": 2,
   "metadata": {},
   "outputs": [
    {
     "name": "stderr",
     "output_type": "stream",
     "text": [
      "C:\\Users\\zd000\\Anaconda3\\lib\\site-packages\\IPython\\core\\interactiveshell.py:3058: DtypeWarning: Columns (47,73) have mixed types. Specify dtype option on import or set low_memory=False.\n",
      "  interactivity=interactivity, compiler=compiler, result=result)\n"
     ]
    }
   ],
   "source": [
    "df = pd.read_csv('data/bottle.csv')\n",
    "df = df.loc[:,['Salnty', 'STheta', 'T_degC','O2ml_L','Depthm']]"
   ]
  },
  {
   "cell_type": "code",
   "execution_count": 3,
   "metadata": {},
   "outputs": [
    {
     "data": {
      "text/plain": [
       "(661268, 5)"
      ]
     },
     "execution_count": 3,
     "metadata": {},
     "output_type": "execute_result"
    }
   ],
   "source": [
    "# remove 'NA'\n",
    "df = df[~df.Salnty.isna()]\n",
    "df = df[~df.STheta.isna()]\n",
    "df = df[~df.T_degC.isna()]\n",
    "df = df[~df.O2ml_L.isna()]\n",
    "df = df[~df.Depthm.isna()]\n",
    "df.shape"
   ]
  },
  {
   "cell_type": "code",
   "execution_count": 4,
   "metadata": {},
   "outputs": [
    {
     "data": {
      "text/plain": [
       "<matplotlib.axes._subplots.AxesSubplot at 0x1a2c2e31b48>"
      ]
     },
     "execution_count": 4,
     "metadata": {},
     "output_type": "execute_result"
    },
    {
     "data": {
      "image/png": "[encoded data removed]",
      "text/plain": [
       "<Figure size 432x288 with 1 Axes>"
      ]
     },
     "metadata": {
      "needs_background": "light"
     },
     "output_type": "display_data"
    }
   ],
   "source": [
    "# 5. Remove obvious outliers \n",
    "df.plot(x='STheta', y='T_degC', kind='scatter')"
   ]
  },
  {
   "cell_type": "code",
   "execution_count": 5,
   "metadata": {},
   "outputs": [
    {
     "data": {
      "text/plain": [
       "<matplotlib.axes._subplots.AxesSubplot at 0x1a2b9ab9908>"
      ]
     },
     "execution_count": 5,
     "metadata": {},
     "output_type": "execute_result"
    },
    {
     "data": {
      "image/png": "[encoded data removed]",
      "text/plain": [
       "<Figure size 432x288 with 1 Axes>"
      ]
     },
     "metadata": {
      "needs_background": "light"
     },
     "output_type": "display_data"
    }
   ],
   "source": [
    "df.boxplot(column='STheta')"
   ]
  },
  {
   "cell_type": "code",
   "execution_count": 6,
   "metadata": {},
   "outputs": [
    {
     "data": {
      "text/html": [
       "<div>\n",
       "<style scoped>\n",
       "    .dataframe tbody tr th:only-of-type {\n",
       "        vertical-align: middle;\n",
       "    }\n",
       "\n",
       "    .dataframe tbody tr th {\n",
       "        vertical-align: top;\n",
       "    }\n",
       "\n",
       "    .dataframe thead th {\n",
       "        text-align: right;\n",
       "    }\n",
       "</style>\n",
       "<table border=\"1\" class=\"dataframe\">\n",
       "  <thead>\n",
       "    <tr style=\"text-align: right;\">\n",
       "      <th></th>\n",
       "      <th>Salnty</th>\n",
       "      <th>STheta</th>\n",
       "      <th>T_degC</th>\n",
       "      <th>O2ml_L</th>\n",
       "      <th>Depthm</th>\n",
       "    </tr>\n",
       "  </thead>\n",
       "  <tbody>\n",
       "    <tr>\n",
       "      <td>2160</td>\n",
       "      <td>33.0300</td>\n",
       "      <td>25.36400</td>\n",
       "      <td>10.300</td>\n",
       "      <td>5.900</td>\n",
       "      <td>0</td>\n",
       "    </tr>\n",
       "    <tr>\n",
       "      <td>2161</td>\n",
       "      <td>32.9200</td>\n",
       "      <td>23.56800</td>\n",
       "      <td>18.460</td>\n",
       "      <td>6.020</td>\n",
       "      <td>6</td>\n",
       "    </tr>\n",
       "    <tr>\n",
       "      <td>2162</td>\n",
       "      <td>32.9510</td>\n",
       "      <td>25.30400</td>\n",
       "      <td>10.290</td>\n",
       "      <td>6.040</td>\n",
       "      <td>10</td>\n",
       "    </tr>\n",
       "    <tr>\n",
       "      <td>2163</td>\n",
       "      <td>32.9900</td>\n",
       "      <td>25.33500</td>\n",
       "      <td>10.290</td>\n",
       "      <td>6.060</td>\n",
       "      <td>15</td>\n",
       "    </tr>\n",
       "    <tr>\n",
       "      <td>2164</td>\n",
       "      <td>33.0050</td>\n",
       "      <td>25.33900</td>\n",
       "      <td>10.330</td>\n",
       "      <td>6.040</td>\n",
       "      <td>20</td>\n",
       "    </tr>\n",
       "    <tr>\n",
       "      <td>...</td>\n",
       "      <td>...</td>\n",
       "      <td>...</td>\n",
       "      <td>...</td>\n",
       "      <td>...</td>\n",
       "      <td>...</td>\n",
       "    </tr>\n",
       "    <tr>\n",
       "      <td>864858</td>\n",
       "      <td>33.4083</td>\n",
       "      <td>23.87055</td>\n",
       "      <td>18.744</td>\n",
       "      <td>5.805</td>\n",
       "      <td>0</td>\n",
       "    </tr>\n",
       "    <tr>\n",
       "      <td>864859</td>\n",
       "      <td>33.4083</td>\n",
       "      <td>23.87072</td>\n",
       "      <td>18.744</td>\n",
       "      <td>5.805</td>\n",
       "      <td>2</td>\n",
       "    </tr>\n",
       "    <tr>\n",
       "      <td>864860</td>\n",
       "      <td>33.4150</td>\n",
       "      <td>23.88911</td>\n",
       "      <td>18.692</td>\n",
       "      <td>5.796</td>\n",
       "      <td>5</td>\n",
       "    </tr>\n",
       "    <tr>\n",
       "      <td>864861</td>\n",
       "      <td>33.4062</td>\n",
       "      <td>24.01426</td>\n",
       "      <td>18.161</td>\n",
       "      <td>5.816</td>\n",
       "      <td>10</td>\n",
       "    </tr>\n",
       "    <tr>\n",
       "      <td>864862</td>\n",
       "      <td>33.3880</td>\n",
       "      <td>24.15297</td>\n",
       "      <td>17.533</td>\n",
       "      <td>5.774</td>\n",
       "      <td>15</td>\n",
       "    </tr>\n",
       "  </tbody>\n",
       "</table>\n",
       "<p>660885 rows × 5 columns</p>\n",
       "</div>"
      ],
      "text/plain": [
       "         Salnty    STheta  T_degC  O2ml_L  Depthm\n",
       "2160    33.0300  25.36400  10.300   5.900       0\n",
       "2161    32.9200  23.56800  18.460   6.020       6\n",
       "2162    32.9510  25.30400  10.290   6.040      10\n",
       "2163    32.9900  25.33500  10.290   6.060      15\n",
       "2164    33.0050  25.33900  10.330   6.040      20\n",
       "...         ...       ...     ...     ...     ...\n",
       "864858  33.4083  23.87055  18.744   5.805       0\n",
       "864859  33.4083  23.87072  18.744   5.805       2\n",
       "864860  33.4150  23.88911  18.692   5.796       5\n",
       "864861  33.4062  24.01426  18.161   5.816      10\n",
       "864862  33.3880  24.15297  17.533   5.774      15\n",
       "\n",
       "[660885 rows x 5 columns]"
      ]
     },
     "execution_count": 6,
     "metadata": {},
     "output_type": "execute_result"
    }
   ],
   "source": [
    "# Remove Outlier using wikipedia definition outlier < Q1-1.5*IQR and > Q3+1.5*IQR\n",
    "Q1 = df.STheta.quantile(0.25)\n",
    "Q3 =df.STheta.quantile(0.75)\n",
    "IQR = Q3 - Q1\n",
    "df[~(df.STheta < (Q1 - 1.5 * IQR)) |(df.STheta > (Q3 + 1.5 * IQR))]"
   ]
  },
  {
   "cell_type": "code",
   "execution_count": 7,
   "metadata": {},
   "outputs": [
    {
     "data": {
      "text/plain": [
       "(661268, 5)"
      ]
     },
     "execution_count": 7,
     "metadata": {},
     "output_type": "execute_result"
    }
   ],
   "source": [
    "# Using the same criteria in HW1 to remove outliers\n",
    "df = df.loc[df['STheta']<=200]\n",
    "df.shape"
   ]
  },
  {
   "cell_type": "markdown",
   "metadata": {},
   "source": [
    "### Part B: Train / Test Split & Scaling\n",
    "\n",
    "1) Create X & y objects:\n",
    "\n",
    "- X object should be all 4 predictors. Shape should be: (661268, 4)\n",
    "\n",
    "- y object should be just your target variable (T_degC): Shape should be: (661268, 1)\n",
    "\n",
    "Hint for y: You will need to specify the shape you want. Trying converting y to a numpy array, and then using the .reshape() method.\n",
    "\n",
    "2) Generate X_train, X_test, y_train & y_test. Use 80% for train & 20% for test.\n",
    "\n",
    "3) Scale all features to improve convergence in Gradient Descent. It is highly encouraged that you review the appropriate method of handling scaling with train & test data.\n",
    "\n",
    "Additional info on scaling with train & test sets: https://stats.stackexchange.com/questions/174823/how-to-apply-standardization-normalization-to-train-and-testset-if-prediction-i (Links to an external site.)\n",
    "\n",
    "The easiest approach is to use the sklearn tool \"StandardScaler\" - more info here: http://scikit-learn.org/stable/modules/generated/sklearn.preprocessing.StandardScaler.html (Links to an external site.)\n",
    "\n",
    "You should create two new X objects:\n",
    "- X_train_scaled\n",
    "- X_test_scaled.\n",
    "\n",
    "Note: X_test_scaled must use the scaling parameters learned from training data."
   ]
  },
  {
   "cell_type": "code",
   "execution_count": 13,
   "metadata": {},
   "outputs": [],
   "source": [
    "from sklearn.model_selection import train_test_split"
   ]
  },
  {
   "cell_type": "code",
   "execution_count": 151,
   "metadata": {},
   "outputs": [
    {
     "name": "stdout",
     "output_type": "stream",
     "text": [
      "(661268, 4) (661268,)\n"
     ]
    }
   ],
   "source": [
    "# Train and test split into 80%/20%\n",
    "X= df.loc[:,('Salnty','STheta','O2ml_L','Depthm')]\n",
    "y=df.loc[:,'T_degC']\n",
    "print(X.shape,y.shape)\n",
    "X_train, X_test, y_train, y_test = train_test_split(X, y, test_size=0.2, random_state=42)"
   ]
  },
  {
   "cell_type": "code",
   "execution_count": 15,
   "metadata": {},
   "outputs": [],
   "source": [
    "from sklearn.preprocessing import StandardScaler\n",
    "scaler_X = StandardScaler()\n",
    "\n",
    "# Standardize X_train and X_test\n",
    "scaler_X.fit(X_train)\n",
    "\n",
    "X_train_scaled = scaler_X.transform(X_train)\n",
    "X_test_scaled = scaler_X.transform(X_test)"
   ]
  },
  {
   "cell_type": "markdown",
   "metadata": {},
   "source": [
    "### Part C: Linear Regression with sklearn\n",
    "\n",
    "1) Create an instance of the LinearRegression class called \"lin_reg\". Fit lin_reg using X_train_scaled & y_train.\n",
    "\n",
    "2) Print out the coefficients (including the intercept)\n",
    "\n",
    "3) Predict T_degC for the test data using lin_reg. Make sure to use X_test_scaled!\n",
    "\n",
    "- Call predictions y_pred_sklearn\n",
    "\n",
    "4) Calculate the following for the test data:\n",
    "\n",
    "- mean squared error\n",
    "- r-squared\n",
    "- explained variance\n",
    "\n",
    "5) Create a scatterplot that shows actual versus predicted values for the T_degC.\n",
    "\n",
    " "
   ]
  },
  {
   "cell_type": "code",
   "execution_count": 26,
   "metadata": {},
   "outputs": [],
   "source": [
    "from sklearn import linear_model"
   ]
  },
  {
   "cell_type": "code",
   "execution_count": 177,
   "metadata": {
    "scrolled": true
   },
   "outputs": [
    {
     "name": "stdout",
     "output_type": "stream",
     "text": [
      "Coefficients: \n",
      " [[ 1.63046569 -4.6345913   0.3020677  -0.47495536]]\n",
      "Intercept: \n",
      " [10.91541795]\n"
     ]
    }
   ],
   "source": [
    "# add x0=1 for each row\n",
    "lin_reg = linear_model.LinearRegression()\n",
    "lin_reg.fit(X_train_scaled, y_train)\n",
    "print('Coefficients: \\n', lin_reg.coef_)\n",
    "print('Intercept: \\n', lin_reg.intercept_)"
   ]
  },
  {
   "cell_type": "code",
   "execution_count": 181,
   "metadata": {},
   "outputs": [
    {
     "name": "stdout",
     "output_type": "stream",
     "text": [
      "The Mean Square Error is  0.11101117205433675\n",
      "The Explained Variance is 17.702793702166055\n",
      "R2 is 0.9937682503632344\n"
     ]
    }
   ],
   "source": [
    "y_pred_sklearn = lin_reg.predict(X_test_scaled)\n",
    "MSE_sk=(((y_pred_sklearn - y_test)**2).sum() / len(y_test))[0]\n",
    "print('The Mean Square Error is ',MSE_sk)\n",
    "total_var = (((y_test - y_test.mean())**2).mean())[0]\n",
    "exp_var_sk= total_var-MSE_sk\n",
    "print('The Explained Variance is', exp_var_sk)\n",
    "R2_sk = lin_reg.score(X_test_scaled, y_test)\n",
    "print('R2 is', R2_sk)"
   ]
  },
  {
   "cell_type": "code",
   "execution_count": 29,
   "metadata": {},
   "outputs": [
    {
     "data": {
      "image/png": "[encoded data removed]",
      "text/plain": [
       "<Figure size 1440x720 with 1 Axes>"
      ]
     },
     "metadata": {
      "needs_background": "light"
     },
     "output_type": "display_data"
    }
   ],
   "source": [
    "plt.figure(figsize=(20,10))\n",
    "plt.plot(y_test, y_pred_sklearn,'o')\n",
    "plt.xlabel('Actual T_degC')\n",
    "plt.ylabel('Predicted(sklearn) T_degC');"
   ]
  },
  {
   "cell_type": "markdown",
   "metadata": {},
   "source": [
    "### Part D: Gradient Descent Mini-Batch\n",
    "\n",
    "Please make sure you are using Mini-Batch! Perform the following six steps for mini-batch sizes of: 50, 250, & 2000. Save all outputs\n",
    "\n",
    "1) Similar to HW #1, you will need to add a column of 1s to X_train_scaled and X_test_scaled.\n",
    "\n",
    "2) The cost function we will use for Gradient Descent is MSE (refer to Equation 4-3 in Hands-On Machine Learning Chapter 4).\n",
    "\n",
    "Note: The Hands-on ML Github will be a helpful resource for solving Mini-Batch, but it does include a changing eta through using the learning_schedule function. Do not use a changing eta for this assignment, rather just use a static eta. This means you will need to make changes to the Github example for Mini-Batch.\n",
    "\n",
    "3) Feel free to use any value for eta and epochs, but 0.1 eta and 100 epochs should work fine for this HW.\n",
    "\n",
    "4) Calculate the following for the test data:\n",
    "\n",
    "- mean squared error\n",
    "- r-squared\n",
    "- explained variance\n",
    "\n",
    "5) Create a scatterplot that shows actual versus predicted values for the T_degC for the test data.\n",
    "\n",
    "6) Given we are estimating parameters through gradient descent we also want to check how our error metrics look for training data. Calculate the following for the training data:\n",
    "\n",
    "- mean squared error\n",
    "- r-squared\n",
    "- explained variance\n",
    "\n",
    " "
   ]
  },
  {
   "cell_type": "code",
   "execution_count": 182,
   "metadata": {},
   "outputs": [],
   "source": [
    "#add a column of 1s to X_train_scaled and X_test_scaled\n",
    "X_train_s_1 = np.c_[np.ones((X_train_scaled.shape[0],1)),X_train_scaled]\n",
    "X_test_s_1 = np.c_[np.ones((X_test_scaled.shape[0],1)),X_test_scaled]"
   ]
  },
  {
   "cell_type": "code",
   "execution_count": 71,
   "metadata": {},
   "outputs": [],
   "source": [
    "X_train_s_1=pd.DataFrame(X_train_s_1)\n",
    "X_test_s_1=pd.DataFrame(X_test_s_1)\n",
    "X_train_s_1.columns=['Intercept','Salnty','STheta','O2ml_L','Depthm']\n",
    "X_test_s_1.columns=['Intercept','Salnty','STheta','O2ml_L','Depthm']"
   ]
  },
  {
   "cell_type": "code",
   "execution_count": 75,
   "metadata": {},
   "outputs": [],
   "source": [
    "# Gradien Descent using Mini_Batches. Note: The Loss function used here is MSE.\n",
    "def mini_batch_gradient_descent(X_b, y, n_epochs, minibatch_size, eta):\n",
    "    m = len(X_b)\n",
    "\n",
    "    np.random.seed(123)\n",
    "    theta = np.random.randn(X_b.shape[1],1) \n",
    "    \n",
    "    for epoch in range(n_epochs):\n",
    "        shuffled_indices = np.random.choice(X_b.index, m, replace=False)\n",
    "        X_b_shuffled = X_b.iloc[shuffled_indices,:]\n",
    "        y_shuffled = y.iloc[shuffled_indices]\n",
    "        y_shuffled = np.asarray(y_shuffled).reshape((len(y_shuffled),1))\n",
    "        for i in range(0, m, minibatch_size):\n",
    "            xi = X_b_shuffled[i:i+minibatch_size]\n",
    "            yi = y_shuffled[i:i+minibatch_size]\n",
    "            derived_cost_function = 2/minibatch_size * xi.T.dot(xi.dot(theta) - yi)\n",
    "            theta = theta - eta * derived_cost_function\n",
    "    return(theta)"
   ]
  },
  {
   "cell_type": "markdown",
   "metadata": {},
   "source": [
    "##### Estimates of the linear regression using the the mini-batch gradient descent on different batch sizes: 50, 250, and 2000. For each batch size we'll use 100 epochs and a 0.1 eta."
   ]
  },
  {
   "cell_type": "code",
   "execution_count": 77,
   "metadata": {},
   "outputs": [
    {
     "name": "stdout",
     "output_type": "stream",
     "text": [
      "Mini-batch Gradient Descent with a 50 minibatch size\n",
      "                   0\n",
      "Intercept  10.928360\n",
      "Salnty      1.647848\n",
      "STheta     -4.594201\n",
      "O2ml_L      0.311581\n",
      "Depthm     -0.447869\n",
      "MBGD 50 took about 3578 seconds.\n"
     ]
    }
   ],
   "source": [
    "start = time.time()\n",
    "theta_50 = mini_batch_gradient_descent(X_train_s_1 ,y_train, 100, 50, 0.1)\n",
    "end = time.time()\n",
    "time_50 = end - start\n",
    "print(\"Mini-batch Gradient Descent with a 50 minibatch size\")\n",
    "print(theta_50)\n",
    "print(\"MBGD 50 took about {} seconds.\".format(round(time_50)))"
   ]
  },
  {
   "cell_type": "code",
   "execution_count": 168,
   "metadata": {},
   "outputs": [
    {
     "name": "stdout",
     "output_type": "stream",
     "text": [
      "\n",
      "Mini-batch Gradient Descent with a 250 minibatch size\n",
      "                   0\n",
      "Intercept  10.926427\n",
      "Salnty      1.633648\n",
      "STheta     -4.622576\n",
      "O2ml_L      0.296043\n",
      "Depthm     -0.460250\n",
      "MBGD 250 took about 685 seconds.\n"
     ]
    }
   ],
   "source": [
    "start = time.time()\n",
    "theta_250 = mini_batch_gradient_descent(X_train_s_1 ,y_train, 100, 250, 0.1)\n",
    "end = time.time()\n",
    "time_250 = end - start\n",
    "print(\"\\nMini-batch Gradient Descent with a 250 minibatch size\")\n",
    "print(theta_250)\n",
    "print(\"MBGD 250 took about {} seconds.\".format(round(time_250)))"
   ]
  },
  {
   "cell_type": "code",
   "execution_count": 169,
   "metadata": {},
   "outputs": [
    {
     "name": "stdout",
     "output_type": "stream",
     "text": [
      "\n",
      "Mini-batch Gradient Descent with a 2000 minibatch size\n",
      "                   0\n",
      "Intercept  10.918751\n",
      "Salnty      1.626874\n",
      "STheta     -4.623530\n",
      "O2ml_L      0.297039\n",
      "Depthm     -0.465736\n",
      "MBGD 2000 took about 101 seconds.\n"
     ]
    }
   ],
   "source": [
    "start = time.time()\n",
    "theta_2000 = mini_batch_gradient_descent(X_train_s_1 ,y_train, 100, 2000, 0.1)\n",
    "end = time.time()\n",
    "time_2000 = end - start\n",
    "print(\"\\nMini-batch Gradient Descent with a 2000 minibatch size\")\n",
    "print(theta_2000)\n",
    "print(\"MBGD 2000 took about {} seconds.\".format(round(time_2000)))"
   ]
  },
  {
   "cell_type": "code",
   "execution_count": 152,
   "metadata": {},
   "outputs": [],
   "source": [
    "# reindex y\n",
    "y_train=pd.DataFrame(y_train).reset_index(drop=True)\n",
    "y_train.columns=[0]\n",
    "y_test=pd.DataFrame(y_test).reset_index(drop=True)\n",
    "y_test.columns=[0]"
   ]
  },
  {
   "cell_type": "code",
   "execution_count": 166,
   "metadata": {},
   "outputs": [],
   "source": [
    "# Total Variances\n",
    "total_var_train = (((y_train - y_train.mean())**2).mean())[0]\n",
    "total_var_test = (((y_test - y_test.mean())**2).mean())[0]"
   ]
  },
  {
   "cell_type": "code",
   "execution_count": 171,
   "metadata": {},
   "outputs": [
    {
     "name": "stdout",
     "output_type": "stream",
     "text": [
      "Minibatch_size = 50\n",
      "Train MSE: 0.11523333195632524\n",
      "Test  MSE: 0.11545790597831176\n",
      "Train Variance Explained: 17.73956124929288\n",
      "Test Variance Explained: 17.69834696824208\n",
      "Train R2: 0.9935460846983173\n",
      "Test  R2: 0.9935186274468855\n",
      "Minibatch_size = 250\n",
      "Train MSE: 0.11173121372654117\n",
      "Test  MSE: 0.11204539797142807\n",
      "Train Variance Explained: 17.743063367522662\n",
      "Test Variance Explained: 17.701759476248963\n",
      "Train R2: 0.9937422291128524\n",
      "Test  R2: 0.9937101928104323\n",
      "Minibatch_size = 2000\n",
      "Train MSE: 0.11101966157766562\n",
      "Test  MSE: 0.11140531542899015\n",
      "Train Variance Explained: 17.74377491967154\n",
      "Test Variance Explained: 17.702399558791402\n",
      "Train R2: 0.9937820812738862\n",
      "Test  R2: 0.9937461246367298\n"
     ]
    }
   ],
   "source": [
    "y_train_pred_50=theta_50.T.dot(X_train_s_1.T).T\n",
    "y_test_pred_50=theta_50.T.dot(X_test_s_1.T).T\n",
    "\n",
    "MSE_train_50=(((y_train_pred_50 - y_train)**2).sum() / len(y_train))[0]\n",
    "MSE_test_50=(((y_test_pred_50 - y_test)**2).sum() / len(y_test))[0]\n",
    "\n",
    "exp_var_train_50= total_var_train-MSE_train_50\n",
    "exp_var_test_50= total_var_test-MSE_test_50\n",
    "\n",
    "R2_train_50=exp_var_train_50/total_var_train\n",
    "R2_test_50=exp_var_test_50/total_var_test\n",
    "\n",
    "print('Minibatch_size = 50')\n",
    "print(\"Train MSE:\", MSE_train_50)\n",
    "print(\"Test  MSE:\", MSE_test_50)\n",
    "print(\"Train Variance Explained:\", exp_var_train_50)\n",
    "print(\"Test Variance Explained:\", exp_var_test_50)\n",
    "print(\"Train R2:\", R2_train_50)\n",
    "print(\"Test  R2:\", R2_test_50)\n",
    "\n",
    "y_train_pred_250=theta_250.T.dot(X_train_s_1.T).T\n",
    "y_test_pred_250=theta_250.T.dot(X_test_s_1.T).T\n",
    "\n",
    "MSE_train_250=(((y_train_pred_250 - y_train)**2).sum() / len(y_train))[0]\n",
    "MSE_test_250=(((y_test_pred_250 - y_test)**2).sum() / len(y_test))[0]\n",
    "\n",
    "exp_var_train_250= total_var_train-MSE_train_250\n",
    "exp_var_test_250= total_var_test-MSE_test_250\n",
    "\n",
    "R2_train_250=exp_var_train_250/total_var_train\n",
    "R2_test_250=exp_var_test_250/total_var_test\n",
    "\n",
    "print('Minibatch_size = 250')\n",
    "print(\"Train MSE:\", MSE_train_250)\n",
    "print(\"Test  MSE:\", MSE_test_250)\n",
    "print(\"Train Variance Explained:\", exp_var_train_250)\n",
    "print(\"Test Variance Explained:\", exp_var_test_250)\n",
    "print(\"Train R2:\", R2_train_250)\n",
    "print(\"Test  R2:\", R2_test_250)\n",
    "\n",
    "y_train_pred_2000=theta_2000.T.dot(X_train_s_1.T).T\n",
    "y_test_pred_2000=theta_2000.T.dot(X_test_s_1.T).T\n",
    "\n",
    "MSE_train_2000=(((y_train_pred_2000 - y_train)**2).sum() / len(y_train))[0]\n",
    "MSE_test_2000=(((y_test_pred_2000 - y_test)**2).sum() / len(y_test))[0]\n",
    "\n",
    "exp_var_train_2000= total_var_train-MSE_train_2000\n",
    "exp_var_test_2000= total_var_test-MSE_test_2000\n",
    "\n",
    "R2_train_2000=exp_var_train_2000/total_var_train\n",
    "R2_test_2000=exp_var_test_2000/total_var_test\n",
    "\n",
    "print('Minibatch_size = 2000')\n",
    "print(\"Train MSE:\", MSE_train_2000)\n",
    "print(\"Test  MSE:\", MSE_test_2000)\n",
    "print(\"Train Variance Explained:\", exp_var_train_2000)\n",
    "print(\"Test Variance Explained:\", exp_var_test_2000)\n",
    "print(\"Train R2:\", R2_train_2000)\n",
    "print(\"Test  R2:\", R2_test_2000)"
   ]
  },
  {
   "cell_type": "code",
   "execution_count": 185,
   "metadata": {},
   "outputs": [
    {
     "data": {
      "text/plain": [
       "Text(0.5, 1.0, 'Minibatch_size = 50')"
      ]
     },
     "execution_count": 185,
     "metadata": {},
     "output_type": "execute_result"
    },
    {
     "data": {
      "image/png": "[encoded data removed]",
      "text/plain": [
       "<Figure size 1440x720 with 1 Axes>"
      ]
     },
     "metadata": {
      "needs_background": "light"
     },
     "output_type": "display_data"
    }
   ],
   "source": [
    "plt.figure(figsize=(20,10))\n",
    "plt.plot(y_test, y_test_pred_50,'o')\n",
    "plt.xlabel('Actual T_degC')\n",
    "plt.ylabel('Predicted T_degC')\n",
    "plt.title('Minibatch_size = 50')"
   ]
  },
  {
   "cell_type": "code",
   "execution_count": 186,
   "metadata": {},
   "outputs": [
    {
     "data": {
      "text/plain": [
       "Text(0.5, 1.0, 'Minibatch_size = 250')"
      ]
     },
     "execution_count": 186,
     "metadata": {},
     "output_type": "execute_result"
    },
    {
     "data": {
      "image/png": "[encoded data removed]",
      "text/plain": [
       "<Figure size 1440x720 with 1 Axes>"
      ]
     },
     "metadata": {
      "needs_background": "light"
     },
     "output_type": "display_data"
    }
   ],
   "source": [
    "plt.figure(figsize=(20,10))\n",
    "plt.plot(y_test, y_test_pred_250,'o')\n",
    "plt.xlabel('Actual T_degC')\n",
    "plt.ylabel('Predicted T_degC')\n",
    "plt.title('Minibatch_size = 250')"
   ]
  },
  {
   "cell_type": "code",
   "execution_count": 187,
   "metadata": {},
   "outputs": [
    {
     "data": {
      "text/plain": [
       "Text(0.5, 1.0, 'Minibatch_size = 2000')"
      ]
     },
     "execution_count": 187,
     "metadata": {},
     "output_type": "execute_result"
    },
    {
     "data": {
      "image/png": "[encoded data removed]",
      "text/plain": [
       "<Figure size 1440x720 with 1 Axes>"
      ]
     },
     "metadata": {
      "needs_background": "light"
     },
     "output_type": "display_data"
    }
   ],
   "source": [
    "plt.figure(figsize=(20,10))\n",
    "plt.plot(y_test, y_test_pred_2000,'o')\n",
    "plt.xlabel('Actual T_degC')\n",
    "plt.ylabel('Predicted T_degC')\n",
    "plt.title('Minibatch_size = 2000')"
   ]
  },
  {
   "cell_type": "markdown",
   "metadata": {},
   "source": [
    "### Part E: Conceptual Questions\n",
    "\n",
    "##### 1) Describe how parameter estimation in Gradient Descent differs from using the normal equation.\n",
    "\n",
    "Gradient descent is an optimization algorithm used to minimize some function by iteratively moving in the direction of steepest descent as defined by the negative of the gradient. Gradient descent is generally faster than normal equation in identifying the optimal coeffcients, but they hardly settle at the optimal values.\n",
    "\n",
    "Normal equation is another approach for finding the global minimum or the weights (W) for which cost is minimum.\n",
    "Gradient descent is iterative process while Normal equation solve W analytically.\n",
    "When using normal equation, computation can be expensive for very large datasets. Normal equation can not be used for datasets where the inverse of XTX may not exist (the matrix is non-invertible or singular, e.g., in case of perfect multicollinearity). \n",
    "\n",
    "\n",
    "##### 2) We used Mini-Batch Gradient descent here, but there are a variety of options for Gradient Descent. How is Mini-Batch Gradient Descent different from Stochastic Gradient Descent?\n",
    "\n",
    "Stochastic gradient descent, often abbreviated SGD, is a variation of the gradient descent algorithm that calculates the error and updates the model coefficients using a random data point in the training dataset.\n",
    "\n",
    "Mini-batch gradient descent is a variation of the gradient descent algorithm that splits the training dataset into small random batches that are used to calculate model error and update model coefficients.\n",
    "\n",
    "##### 3) Identify your best-performing version of Gradient Descent and compare the error metrics for test data vs training data. Does this version of gradient descent show signs of overfitting? Explain.\n",
    "\n",
    "With epoch=100 and eta=0.1, the Mini_batch=2000 version perfroms the best. It has the smallest training and test MSE and highest training and test R2. \n",
    "\n",
    "For this version, the train MSE is 0.11101966157766562 and test MSE is 0.11140531542899015. They are both very small. <br>\n",
    "The percent change between the two MSEs is 0.3474%, which is very aslo small. We can conclude that this version does not show signs of overfitting. \n",
    "\n",
    "#### 4) Explain what the learning rate is for. Even though we did not, why might it be helpful to change the learning rate over time?\n",
    "The learning rate is a tuning parameter in gradient descent that determines the step size at each iteration while moving toward a minimum of a loss function. Changing the learning rate over time can help to speed up convergence, while preventing overshooting.\n",
    "\n",
    "##### 5) Why would a data scientist want to use early stopping in gradient descent? \n",
    "Early stopping is a form of regularization used to avoid overfitting when training a learner using gradient descent. Such methods update the learner so as to make it better fit the training data with each iteration. Up to a point, this improves the learner's performance on data outside of the training set. Past that point, however, improving the learner's fit to the training data comes at the expense of increased generalization error. Early stopping rules provide guidance as to how many iterations can be run before the learner begins to over-fit.\n"
   ]
  }
 ],
 "metadata": {
  "kernelspec": {
   "display_name": "Python 3",
   "language": "python",
   "name": "python3"
  },
  "language_info": {
   "codemirror_mode": {
    "name": "ipython",
    "version": 3
   },
   "file_extension": ".py",
   "mimetype": "text/x-python",
   "name": "python",
   "nbconvert_exporter": "python",
   "pygments_lexer": "ipython3",
   "version": "3.7.4"
  }
 },
 "nbformat": 4,
 "nbformat_minor": 2
}
