{
 "cells": [
  {
   "cell_type": "markdown",
   "metadata": {},
   "source": [
    "# MSCA 37014 Assignment3\n",
    "# Team Member:  Amily Huang, Duo Zhou and Dylan Zhang\n",
    "## Getting external libraries"
   ]
  },
  {
   "cell_type": "code",
   "execution_count": 1,
   "metadata": {},
   "outputs": [],
   "source": [
    "import pandas as pd  # data frame operations  \n",
    "import numpy as np  # arrays and math functions\n",
    "import seaborn as sb\n",
    "from sklearn.linear_model import LogisticRegression\n",
    "from sklearn.model_selection import train_test_split\n",
    "from sklearn.metrics import confusion_matrix\n",
    "from sklearn.metrics import classification_report\n",
    "from sklearn import metrics\n",
    "import matplotlib.pyplot as plt\n",
    "import scikitplot as scplt\n",
    "from sklearn.metrics import accuracy_score\n",
    "import seaborn as sns\n",
    "np.set_printoptions(precision=3)"
   ]
  },
  {
   "cell_type": "markdown",
   "metadata": {},
   "source": [
    "## Pre Processing Data"
   ]
  },
  {
   "cell_type": "code",
   "execution_count": 2,
   "metadata": {},
   "outputs": [
    {
     "name": "stderr",
     "output_type": "stream",
     "text": [
      "C:\\Users\\zd000\\Anaconda3\\lib\\site-packages\\IPython\\core\\interactiveshell.py:3058: DtypeWarning: Columns (16,19,85,122) have mixed types. Specify dtype option on import or set low_memory=False.\n",
      "  interactivity=interactivity, compiler=compiler, result=result)\n"
     ]
    }
   ],
   "source": [
    "dat=pd.read_csv('PERM_FY2020_Q31.csv')"
   ]
  },
  {
   "cell_type": "markdown",
   "metadata": {},
   "source": [
    "## Defining Dummy variables for Student variable,and concatenate the dummy columns with original dataframe. \n"
   ]
  },
  {
   "cell_type": "code",
   "execution_count": 3,
   "metadata": {
    "scrolled": true
   },
   "outputs": [
    {
     "data": {
      "text/html": [
       "<div>\n",
       "<style scoped>\n",
       "    .dataframe tbody tr th:only-of-type {\n",
       "        vertical-align: middle;\n",
       "    }\n",
       "\n",
       "    .dataframe tbody tr th {\n",
       "        vertical-align: top;\n",
       "    }\n",
       "\n",
       "    .dataframe thead th {\n",
       "        text-align: right;\n",
       "    }\n",
       "</style>\n",
       "<table border=\"1\" class=\"dataframe\">\n",
       "  <thead>\n",
       "    <tr style=\"text-align: right;\">\n",
       "      <th></th>\n",
       "      <th>CASE_NUMBER</th>\n",
       "      <th>CASE_STATUS</th>\n",
       "      <th>RECEIVED_DATE</th>\n",
       "      <th>DECISION_DATE</th>\n",
       "      <th>REFILE</th>\n",
       "      <th>ORIG_FILE_DATE</th>\n",
       "      <th>PREVIOUS_SWA_CASE_NUMBER_STATE</th>\n",
       "      <th>SCHD_A_SHEEPHERDER</th>\n",
       "      <th>EMPLOYER_NAME</th>\n",
       "      <th>EMPLOYER_ADDRESS_1</th>\n",
       "      <th>...</th>\n",
       "      <th>FOREIGN_WORKER_ALT_OCC_EXP</th>\n",
       "      <th>FOREIGN_WORKER_EXP_WITH_EMPL</th>\n",
       "      <th>FOREIGN_WORKER_EMPL_PAY_FOR_ED</th>\n",
       "      <th>FOREIGN_WORKER_CURR_EMPLOYED</th>\n",
       "      <th>EMPLOYER_COMPLETED_APPLICATION</th>\n",
       "      <th>PREPARER_NAME</th>\n",
       "      <th>PREPARER_TITLE</th>\n",
       "      <th>PREPARER_EMAIL</th>\n",
       "      <th>EMP_INFO_DECL_NAME</th>\n",
       "      <th>EMP_INFO_DECL_TITLE</th>\n",
       "    </tr>\n",
       "  </thead>\n",
       "  <tbody>\n",
       "    <tr>\n",
       "      <td>0</td>\n",
       "      <td>A-09245-62715</td>\n",
       "      <td>Denied</td>\n",
       "      <td>9/3/2009</td>\n",
       "      <td>4/30/2020</td>\n",
       "      <td>N</td>\n",
       "      <td>NaN</td>\n",
       "      <td>NaN</td>\n",
       "      <td>N</td>\n",
       "      <td>SATURN ENTERPRISES INC</td>\n",
       "      <td>2340 N WASHTENAW AVE</td>\n",
       "      <td>...</td>\n",
       "      <td>NaN</td>\n",
       "      <td>N</td>\n",
       "      <td>N</td>\n",
       "      <td>N</td>\n",
       "      <td>N</td>\n",
       "      <td>Christopher E Kurczaba</td>\n",
       "      <td>Attorney</td>\n",
       "      <td>kurczabalaw@sbcglobal.net</td>\n",
       "      <td>Zygmunt  Oparowski</td>\n",
       "      <td>President</td>\n",
       "    </tr>\n",
       "    <tr>\n",
       "      <td>1</td>\n",
       "      <td>A-10119-96737</td>\n",
       "      <td>Certified-Expired</td>\n",
       "      <td>3/29/2010</td>\n",
       "      <td>10/18/2019</td>\n",
       "      <td>Y</td>\n",
       "      <td>9/15/2000</td>\n",
       "      <td>MARYLAND</td>\n",
       "      <td>N</td>\n",
       "      <td>FIL PARONG</td>\n",
       "      <td>13528 JAMIESON PL</td>\n",
       "      <td>...</td>\n",
       "      <td>NaN</td>\n",
       "      <td>N</td>\n",
       "      <td>N</td>\n",
       "      <td>N</td>\n",
       "      <td>N</td>\n",
       "      <td>WINSTON W TSAI</td>\n",
       "      <td>ATTORNEY AT LAW</td>\n",
       "      <td>WINSTONTSAI@AOL.COM</td>\n",
       "      <td>FIL  PARONG</td>\n",
       "      <td>HEAD OF HOUSEHOLD</td>\n",
       "    </tr>\n",
       "    <tr>\n",
       "      <td>2</td>\n",
       "      <td>A-10225-13679</td>\n",
       "      <td>Denied</td>\n",
       "      <td>8/10/2010</td>\n",
       "      <td>4/30/2020</td>\n",
       "      <td>N</td>\n",
       "      <td>NaN</td>\n",
       "      <td>NaN</td>\n",
       "      <td>N</td>\n",
       "      <td>GLENNS PLUMBING SERVICES</td>\n",
       "      <td>854 CUSTER STREET</td>\n",
       "      <td>...</td>\n",
       "      <td>N</td>\n",
       "      <td>N</td>\n",
       "      <td>N</td>\n",
       "      <td>N</td>\n",
       "      <td>N</td>\n",
       "      <td>DANIEL J SULLIVAN</td>\n",
       "      <td>ATTORNEY</td>\n",
       "      <td>GWG8@AOL.COM</td>\n",
       "      <td>DAVID  GLENN</td>\n",
       "      <td>OWNER</td>\n",
       "    </tr>\n",
       "    <tr>\n",
       "      <td>3</td>\n",
       "      <td>A-11033-51540</td>\n",
       "      <td>Certified</td>\n",
       "      <td>2/3/2011</td>\n",
       "      <td>5/28/2020</td>\n",
       "      <td>N</td>\n",
       "      <td>NaN</td>\n",
       "      <td>NaN</td>\n",
       "      <td>N</td>\n",
       "      <td>SKILLNET SOLUTIONS INC.</td>\n",
       "      <td>1901 SOUTH BASCOM AVENUE</td>\n",
       "      <td>...</td>\n",
       "      <td>Y</td>\n",
       "      <td>N</td>\n",
       "      <td>N</td>\n",
       "      <td>Y</td>\n",
       "      <td>N</td>\n",
       "      <td>Sonal  Kinger</td>\n",
       "      <td>Attorney at Law</td>\n",
       "      <td>sonal.kinger@bakerlawcorp.com</td>\n",
       "      <td>Jack  Grover</td>\n",
       "      <td>VP of Finance and Operations</td>\n",
       "    </tr>\n",
       "    <tr>\n",
       "      <td>4</td>\n",
       "      <td>A-11074-62984</td>\n",
       "      <td>Denied</td>\n",
       "      <td>3/10/2011</td>\n",
       "      <td>6/17/2020</td>\n",
       "      <td>N</td>\n",
       "      <td>NaN</td>\n",
       "      <td>NaN</td>\n",
       "      <td>N</td>\n",
       "      <td>R    L  CONSTRUCTION,  INC.</td>\n",
       "      <td>904  NEPPERHAN  AVENUE</td>\n",
       "      <td>...</td>\n",
       "      <td>NaN</td>\n",
       "      <td>N</td>\n",
       "      <td>N</td>\n",
       "      <td>N</td>\n",
       "      <td>N</td>\n",
       "      <td>DENISE S DUTTON</td>\n",
       "      <td>NONATTORNEY</td>\n",
       "      <td>NaN</td>\n",
       "      <td>RITA  O  SULLIVAN</td>\n",
       "      <td>MANAGER</td>\n",
       "    </tr>\n",
       "    <tr>\n",
       "      <td>...</td>\n",
       "      <td>...</td>\n",
       "      <td>...</td>\n",
       "      <td>...</td>\n",
       "      <td>...</td>\n",
       "      <td>...</td>\n",
       "      <td>...</td>\n",
       "      <td>...</td>\n",
       "      <td>...</td>\n",
       "      <td>...</td>\n",
       "      <td>...</td>\n",
       "      <td>...</td>\n",
       "      <td>...</td>\n",
       "      <td>...</td>\n",
       "      <td>...</td>\n",
       "      <td>...</td>\n",
       "      <td>...</td>\n",
       "      <td>...</td>\n",
       "      <td>...</td>\n",
       "      <td>...</td>\n",
       "      <td>...</td>\n",
       "      <td>...</td>\n",
       "    </tr>\n",
       "    <tr>\n",
       "      <td>71937</td>\n",
       "      <td>A-20181-70773</td>\n",
       "      <td>Withdrawn</td>\n",
       "      <td>6/29/2020</td>\n",
       "      <td>6/29/2020</td>\n",
       "      <td>N</td>\n",
       "      <td>NaN</td>\n",
       "      <td>NaN</td>\n",
       "      <td>N</td>\n",
       "      <td>Hyder Investments Inc. DBA McDonalds</td>\n",
       "      <td>7088 E Fish Lake Rd</td>\n",
       "      <td>...</td>\n",
       "      <td>NaN</td>\n",
       "      <td>NaN</td>\n",
       "      <td>N</td>\n",
       "      <td>N</td>\n",
       "      <td>Y</td>\n",
       "      <td></td>\n",
       "      <td>NaN</td>\n",
       "      <td>NaN</td>\n",
       "      <td>Shahab  Hyder</td>\n",
       "      <td>President</td>\n",
       "    </tr>\n",
       "    <tr>\n",
       "      <td>71938</td>\n",
       "      <td>A-20181-71005</td>\n",
       "      <td>Withdrawn</td>\n",
       "      <td>6/29/2020</td>\n",
       "      <td>6/30/2020</td>\n",
       "      <td>N</td>\n",
       "      <td>NaN</td>\n",
       "      <td>NaN</td>\n",
       "      <td>N</td>\n",
       "      <td>ONLY IT CONSULTING, LLC</td>\n",
       "      <td>2200 W HIGGINS RD</td>\n",
       "      <td>...</td>\n",
       "      <td>N</td>\n",
       "      <td>N</td>\n",
       "      <td>N</td>\n",
       "      <td>Y</td>\n",
       "      <td>Y</td>\n",
       "      <td></td>\n",
       "      <td>NaN</td>\n",
       "      <td>NaN</td>\n",
       "      <td>POOJA  SRIVASTAVA</td>\n",
       "      <td>PRESIDENT</td>\n",
       "    </tr>\n",
       "    <tr>\n",
       "      <td>71939</td>\n",
       "      <td>A-20181-71066</td>\n",
       "      <td>Withdrawn</td>\n",
       "      <td>6/29/2020</td>\n",
       "      <td>6/30/2020</td>\n",
       "      <td>N</td>\n",
       "      <td>NaN</td>\n",
       "      <td>NaN</td>\n",
       "      <td>N</td>\n",
       "      <td>EVEREST COMPUTERS, INC.</td>\n",
       "      <td>875 OLD ROSWELL ROAD</td>\n",
       "      <td>...</td>\n",
       "      <td>NaN</td>\n",
       "      <td>N</td>\n",
       "      <td>N</td>\n",
       "      <td>N</td>\n",
       "      <td>Y</td>\n",
       "      <td></td>\n",
       "      <td>NaN</td>\n",
       "      <td>NaN</td>\n",
       "      <td>RAVI  KANDIMALLA</td>\n",
       "      <td>PRESIDENT</td>\n",
       "    </tr>\n",
       "    <tr>\n",
       "      <td>71940</td>\n",
       "      <td>A-20181-71075</td>\n",
       "      <td>Withdrawn</td>\n",
       "      <td>6/30/2020</td>\n",
       "      <td>6/30/2020</td>\n",
       "      <td>N</td>\n",
       "      <td>NaN</td>\n",
       "      <td>NaN</td>\n",
       "      <td>N</td>\n",
       "      <td>OUNZE CORPORATE, LLC</td>\n",
       "      <td>8934 HARDING AVE</td>\n",
       "      <td>...</td>\n",
       "      <td>NaN</td>\n",
       "      <td>NaN</td>\n",
       "      <td>N</td>\n",
       "      <td>N</td>\n",
       "      <td>N</td>\n",
       "      <td>AIDA E TEJADA</td>\n",
       "      <td>FORM PREPARER</td>\n",
       "      <td>INFOJCUSA@GMAIL.COM</td>\n",
       "      <td>GABRIELA  HERNANDEZ</td>\n",
       "      <td>ADMINISTRATION MANAGER</td>\n",
       "    </tr>\n",
       "    <tr>\n",
       "      <td>71941</td>\n",
       "      <td>A-20182-71613</td>\n",
       "      <td>Withdrawn</td>\n",
       "      <td>6/30/2020</td>\n",
       "      <td>6/30/2020</td>\n",
       "      <td>N</td>\n",
       "      <td>NaN</td>\n",
       "      <td>NaN</td>\n",
       "      <td>N</td>\n",
       "      <td>QUADRANT RESOURCE LLC</td>\n",
       "      <td>4034 148TH AVE NE</td>\n",
       "      <td>...</td>\n",
       "      <td>Y</td>\n",
       "      <td>N</td>\n",
       "      <td>N</td>\n",
       "      <td>Y</td>\n",
       "      <td>N</td>\n",
       "      <td>Kanika  Malik</td>\n",
       "      <td>President</td>\n",
       "      <td>immigration@kannectivityhrimmigrationservices.com</td>\n",
       "      <td>Prathusha  Reddygari</td>\n",
       "      <td>HR Manager</td>\n",
       "    </tr>\n",
       "  </tbody>\n",
       "</table>\n",
       "<p>71942 rows × 154 columns</p>\n",
       "</div>"
      ],
      "text/plain": [
       "         CASE_NUMBER        CASE_STATUS RECEIVED_DATE DECISION_DATE REFILE  \\\n",
       "0      A-09245-62715             Denied      9/3/2009     4/30/2020      N   \n",
       "1      A-10119-96737  Certified-Expired     3/29/2010    10/18/2019      Y   \n",
       "2      A-10225-13679             Denied     8/10/2010     4/30/2020      N   \n",
       "3      A-11033-51540          Certified      2/3/2011     5/28/2020      N   \n",
       "4      A-11074-62984             Denied     3/10/2011     6/17/2020      N   \n",
       "...              ...                ...           ...           ...    ...   \n",
       "71937  A-20181-70773          Withdrawn     6/29/2020     6/29/2020      N   \n",
       "71938  A-20181-71005          Withdrawn     6/29/2020     6/30/2020      N   \n",
       "71939  A-20181-71066          Withdrawn     6/29/2020     6/30/2020      N   \n",
       "71940  A-20181-71075          Withdrawn     6/30/2020     6/30/2020      N   \n",
       "71941  A-20182-71613          Withdrawn     6/30/2020     6/30/2020      N   \n",
       "\n",
       "      ORIG_FILE_DATE PREVIOUS_SWA_CASE_NUMBER_STATE SCHD_A_SHEEPHERDER  \\\n",
       "0                NaN                            NaN                  N   \n",
       "1          9/15/2000                       MARYLAND                  N   \n",
       "2                NaN                            NaN                  N   \n",
       "3                NaN                            NaN                  N   \n",
       "4                NaN                            NaN                  N   \n",
       "...              ...                            ...                ...   \n",
       "71937            NaN                            NaN                  N   \n",
       "71938            NaN                            NaN                  N   \n",
       "71939            NaN                            NaN                  N   \n",
       "71940            NaN                            NaN                  N   \n",
       "71941            NaN                            NaN                  N   \n",
       "\n",
       "                              EMPLOYER_NAME        EMPLOYER_ADDRESS_1  ...  \\\n",
       "0                    SATURN ENTERPRISES INC      2340 N WASHTENAW AVE  ...   \n",
       "1                                FIL PARONG         13528 JAMIESON PL  ...   \n",
       "2                  GLENNS PLUMBING SERVICES         854 CUSTER STREET  ...   \n",
       "3                   SKILLNET SOLUTIONS INC.  1901 SOUTH BASCOM AVENUE  ...   \n",
       "4               R    L  CONSTRUCTION,  INC.    904  NEPPERHAN  AVENUE  ...   \n",
       "...                                     ...                       ...  ...   \n",
       "71937  Hyder Investments Inc. DBA McDonalds       7088 E Fish Lake Rd  ...   \n",
       "71938               ONLY IT CONSULTING, LLC         2200 W HIGGINS RD  ...   \n",
       "71939               EVEREST COMPUTERS, INC.      875 OLD ROSWELL ROAD  ...   \n",
       "71940                  OUNZE CORPORATE, LLC          8934 HARDING AVE  ...   \n",
       "71941                 QUADRANT RESOURCE LLC         4034 148TH AVE NE  ...   \n",
       "\n",
       "      FOREIGN_WORKER_ALT_OCC_EXP FOREIGN_WORKER_EXP_WITH_EMPL  \\\n",
       "0                            NaN                            N   \n",
       "1                            NaN                            N   \n",
       "2                              N                            N   \n",
       "3                              Y                            N   \n",
       "4                            NaN                            N   \n",
       "...                          ...                          ...   \n",
       "71937                        NaN                          NaN   \n",
       "71938                          N                            N   \n",
       "71939                        NaN                            N   \n",
       "71940                        NaN                          NaN   \n",
       "71941                          Y                            N   \n",
       "\n",
       "      FOREIGN_WORKER_EMPL_PAY_FOR_ED FOREIGN_WORKER_CURR_EMPLOYED  \\\n",
       "0                                  N                            N   \n",
       "1                                  N                            N   \n",
       "2                                  N                            N   \n",
       "3                                  N                            Y   \n",
       "4                                  N                            N   \n",
       "...                              ...                          ...   \n",
       "71937                              N                            N   \n",
       "71938                              N                            Y   \n",
       "71939                              N                            N   \n",
       "71940                              N                            N   \n",
       "71941                              N                            Y   \n",
       "\n",
       "      EMPLOYER_COMPLETED_APPLICATION           PREPARER_NAME   PREPARER_TITLE  \\\n",
       "0                                  N  Christopher E Kurczaba         Attorney   \n",
       "1                                  N          WINSTON W TSAI  ATTORNEY AT LAW   \n",
       "2                                  N       DANIEL J SULLIVAN         ATTORNEY   \n",
       "3                                  N           Sonal  Kinger  Attorney at Law   \n",
       "4                                  N         DENISE S DUTTON      NONATTORNEY   \n",
       "...                              ...                     ...              ...   \n",
       "71937                              Y                                      NaN   \n",
       "71938                              Y                                      NaN   \n",
       "71939                              Y                                      NaN   \n",
       "71940                              N           AIDA E TEJADA    FORM PREPARER   \n",
       "71941                              N           Kanika  Malik        President   \n",
       "\n",
       "                                          PREPARER_EMAIL  \\\n",
       "0                              kurczabalaw@sbcglobal.net   \n",
       "1                                    WINSTONTSAI@AOL.COM   \n",
       "2                                           GWG8@AOL.COM   \n",
       "3                          sonal.kinger@bakerlawcorp.com   \n",
       "4                                                    NaN   \n",
       "...                                                  ...   \n",
       "71937                                                NaN   \n",
       "71938                                                NaN   \n",
       "71939                                                NaN   \n",
       "71940                                INFOJCUSA@GMAIL.COM   \n",
       "71941  immigration@kannectivityhrimmigrationservices.com   \n",
       "\n",
       "         EMP_INFO_DECL_NAME           EMP_INFO_DECL_TITLE  \n",
       "0        Zygmunt  Oparowski                     President  \n",
       "1               FIL  PARONG             HEAD OF HOUSEHOLD  \n",
       "2              DAVID  GLENN                         OWNER  \n",
       "3              Jack  Grover  VP of Finance and Operations  \n",
       "4         RITA  O  SULLIVAN                       MANAGER  \n",
       "...                     ...                           ...  \n",
       "71937         Shahab  Hyder                     President  \n",
       "71938     POOJA  SRIVASTAVA                     PRESIDENT  \n",
       "71939      RAVI  KANDIMALLA                     PRESIDENT  \n",
       "71940   GABRIELA  HERNANDEZ        ADMINISTRATION MANAGER  \n",
       "71941  Prathusha  Reddygari                    HR Manager  \n",
       "\n",
       "[71942 rows x 154 columns]"
      ]
     },
     "execution_count": 3,
     "metadata": {},
     "output_type": "execute_result"
    }
   ],
   "source": [
    "dat"
   ]
  },
  {
   "cell_type": "markdown",
   "metadata": {},
   "source": [
    "#### Change the response varaible (CASE_STATUS) categories into only two levels: Certified vs Not_Certified"
   ]
  },
  {
   "cell_type": "code",
   "execution_count": 4,
   "metadata": {},
   "outputs": [
    {
     "data": {
      "text/plain": [
       "array(['Not_Certified', 'Certified'], dtype=object)"
      ]
     },
     "execution_count": 4,
     "metadata": {},
     "output_type": "execute_result"
    }
   ],
   "source": [
    "dat['CASE_STATUS_BI']=0\n",
    "# change the response categories into only two levels: certifies vs denied\n",
    "dat.loc[(dat['CASE_STATUS']=='Certified-Expired'),'CASE_STATUS_BI']='Certified'\n",
    "dat.loc[(dat['CASE_STATUS']=='Certified'),'CASE_STATUS_BI']='Certified'\n",
    "dat.loc[(dat['CASE_STATUS']=='Denied'),'CASE_STATUS_BI']='Not_Certified'\n",
    "dat.loc[(dat['CASE_STATUS']=='Withdrawn'),'CASE_STATUS_BI']='Not_Certified'\n",
    "dat['CASE_STATUS_BI'].unique()"
   ]
  },
  {
   "cell_type": "markdown",
   "metadata": {},
   "source": [
    "#### We chose CASE_STATUS as response variable.\n",
    "#### Variables regarding to the type of professions, wage, education requirement, experience and training requirement are chosen as predictor variables Note: all wages are normalized to hourly wages and NAs are dropped"
   ]
  },
  {
   "cell_type": "code",
   "execution_count": 5,
   "metadata": {},
   "outputs": [
    {
     "name": "stderr",
     "output_type": "stream",
     "text": [
      "C:\\Users\\zd000\\Anaconda3\\lib\\site-packages\\pandas\\core\\indexing.py:494: SettingWithCopyWarning: \n",
      "A value is trying to be set on a copy of a slice from a DataFrame.\n",
      "Try using .loc[row_indexer,col_indexer] = value instead\n",
      "\n",
      "See the caveats in the documentation: http://pandas.pydata.org/pandas-docs/stable/user_guide/indexing.html#returning-a-view-versus-a-copy\n",
      "  self.obj[item] = s\n"
     ]
    }
   ],
   "source": [
    "dat['CASE_STATUS_BI'] = pd.get_dummies(dat['CASE_STATUS_BI'])\n",
    "dat['REQUIRED_TRAINING'] = pd.get_dummies(dat['REQUIRED_TRAINING'])\n",
    "dat['REQUIRED_EXPERIENCE'] = pd.get_dummies(dat['REQUIRED_EXPERIENCE'])\n",
    "dat['PROFESSIONAL_OCCUPATION'] = pd.get_dummies(dat['PROFESSIONAL_OCCUPATION'])\n",
    "dat['APP_FOR_COLLEGE_U_TEACHER']=pd.get_dummies(dat['APP_FOR_COLLEGE_U_TEACHER'])\n",
    "dat['MINIMUM_EDUCATION'] = pd.get_dummies(dat['MINIMUM_EDUCATION'])\n",
    "dat['PW_WAGE'] = dat['PW_WAGE'].str[1:].replace(',','', regex=True).astype(float)\n",
    "dat = dat.dropna(subset = ['PW_WAGE'])\n",
    "# convert all wages to hourly unit\n",
    "dat.loc[dat['PW_UNIT_OF_PAY'] == \"Year\",'PW_WAGE'] = dat['PW_WAGE']/(37.5*52)"
   ]
  },
  {
   "cell_type": "code",
   "execution_count": 6,
   "metadata": {},
   "outputs": [
    {
     "data": {
      "text/plain": [
       "False"
      ]
     },
     "execution_count": 6,
     "metadata": {},
     "output_type": "execute_result"
    }
   ],
   "source": [
    "dat_select=pd.DataFrame()\n",
    "dat_select=dat[[ 'CASE_STATUS_BI','PW_WAGE',\n",
    "            'REQUIRED_EXPERIENCE','REQUIRED_TRAINING','MINIMUM_EDUCATION',\n",
    "            'PROFESSIONAL_OCCUPATION','APP_FOR_COLLEGE_U_TEACHER']]\n",
    "# Drop all NA values\n",
    "dat_select.dropna(axis='rows')\n",
    "dat_select.isnull().values.any() # Check for NA values"
   ]
  },
  {
   "cell_type": "code",
   "execution_count": 7,
   "metadata": {},
   "outputs": [
    {
     "data": {
      "text/html": [
       "<div>\n",
       "<style scoped>\n",
       "    .dataframe tbody tr th:only-of-type {\n",
       "        vertical-align: middle;\n",
       "    }\n",
       "\n",
       "    .dataframe tbody tr th {\n",
       "        vertical-align: top;\n",
       "    }\n",
       "\n",
       "    .dataframe thead th {\n",
       "        text-align: right;\n",
       "    }\n",
       "</style>\n",
       "<table border=\"1\" class=\"dataframe\">\n",
       "  <thead>\n",
       "    <tr style=\"text-align: right;\">\n",
       "      <th></th>\n",
       "      <th>CASE_STATUS_BI</th>\n",
       "      <th>REQUIRED_TRAINING</th>\n",
       "      <th>PW_WAGE</th>\n",
       "      <th>REQUIRED_EXPERIENCE</th>\n",
       "      <th>REQUIRED_TRAINING</th>\n",
       "      <th>MINIMUM_EDUCATION</th>\n",
       "      <th>PROFESSIONAL_OCCUPATION</th>\n",
       "      <th>APP_FOR_COLLEGE_U_TEACHER</th>\n",
       "    </tr>\n",
       "  </thead>\n",
       "  <tbody>\n",
       "    <tr>\n",
       "      <td>0</td>\n",
       "      <td>0</td>\n",
       "      <td>1</td>\n",
       "      <td>14.490000</td>\n",
       "      <td>0</td>\n",
       "      <td>1</td>\n",
       "      <td>0</td>\n",
       "      <td>1</td>\n",
       "      <td>1</td>\n",
       "    </tr>\n",
       "    <tr>\n",
       "      <td>1</td>\n",
       "      <td>1</td>\n",
       "      <td>1</td>\n",
       "      <td>19.360000</td>\n",
       "      <td>1</td>\n",
       "      <td>1</td>\n",
       "      <td>0</td>\n",
       "      <td>1</td>\n",
       "      <td>1</td>\n",
       "    </tr>\n",
       "    <tr>\n",
       "      <td>2</td>\n",
       "      <td>0</td>\n",
       "      <td>1</td>\n",
       "      <td>40.330769</td>\n",
       "      <td>0</td>\n",
       "      <td>1</td>\n",
       "      <td>0</td>\n",
       "      <td>1</td>\n",
       "      <td>1</td>\n",
       "    </tr>\n",
       "    <tr>\n",
       "      <td>3</td>\n",
       "      <td>1</td>\n",
       "      <td>1</td>\n",
       "      <td>67.445128</td>\n",
       "      <td>0</td>\n",
       "      <td>1</td>\n",
       "      <td>0</td>\n",
       "      <td>0</td>\n",
       "      <td>1</td>\n",
       "    </tr>\n",
       "    <tr>\n",
       "      <td>4</td>\n",
       "      <td>0</td>\n",
       "      <td>1</td>\n",
       "      <td>27.509231</td>\n",
       "      <td>0</td>\n",
       "      <td>1</td>\n",
       "      <td>0</td>\n",
       "      <td>1</td>\n",
       "      <td>1</td>\n",
       "    </tr>\n",
       "    <tr>\n",
       "      <td>...</td>\n",
       "      <td>...</td>\n",
       "      <td>...</td>\n",
       "      <td>...</td>\n",
       "      <td>...</td>\n",
       "      <td>...</td>\n",
       "      <td>...</td>\n",
       "      <td>...</td>\n",
       "      <td>...</td>\n",
       "    </tr>\n",
       "    <tr>\n",
       "      <td>71937</td>\n",
       "      <td>0</td>\n",
       "      <td>1</td>\n",
       "      <td>10.997436</td>\n",
       "      <td>1</td>\n",
       "      <td>1</td>\n",
       "      <td>0</td>\n",
       "      <td>1</td>\n",
       "      <td>1</td>\n",
       "    </tr>\n",
       "    <tr>\n",
       "      <td>71938</td>\n",
       "      <td>0</td>\n",
       "      <td>1</td>\n",
       "      <td>45.077436</td>\n",
       "      <td>0</td>\n",
       "      <td>1</td>\n",
       "      <td>0</td>\n",
       "      <td>0</td>\n",
       "      <td>1</td>\n",
       "    </tr>\n",
       "    <tr>\n",
       "      <td>71939</td>\n",
       "      <td>0</td>\n",
       "      <td>1</td>\n",
       "      <td>65.322564</td>\n",
       "      <td>0</td>\n",
       "      <td>1</td>\n",
       "      <td>0</td>\n",
       "      <td>0</td>\n",
       "      <td>1</td>\n",
       "    </tr>\n",
       "    <tr>\n",
       "      <td>71940</td>\n",
       "      <td>0</td>\n",
       "      <td>1</td>\n",
       "      <td>49.898462</td>\n",
       "      <td>0</td>\n",
       "      <td>1</td>\n",
       "      <td>0</td>\n",
       "      <td>1</td>\n",
       "      <td>1</td>\n",
       "    </tr>\n",
       "    <tr>\n",
       "      <td>71941</td>\n",
       "      <td>0</td>\n",
       "      <td>1</td>\n",
       "      <td>62.986667</td>\n",
       "      <td>0</td>\n",
       "      <td>1</td>\n",
       "      <td>0</td>\n",
       "      <td>0</td>\n",
       "      <td>1</td>\n",
       "    </tr>\n",
       "  </tbody>\n",
       "</table>\n",
       "<p>71934 rows × 8 columns</p>\n",
       "</div>"
      ],
      "text/plain": [
       "       CASE_STATUS_BI  REQUIRED_TRAINING    PW_WAGE  REQUIRED_EXPERIENCE  \\\n",
       "0                   0                  1  14.490000                    0   \n",
       "1                   1                  1  19.360000                    1   \n",
       "2                   0                  1  40.330769                    0   \n",
       "3                   1                  1  67.445128                    0   \n",
       "4                   0                  1  27.509231                    0   \n",
       "...               ...                ...        ...                  ...   \n",
       "71937               0                  1  10.997436                    1   \n",
       "71938               0                  1  45.077436                    0   \n",
       "71939               0                  1  65.322564                    0   \n",
       "71940               0                  1  49.898462                    0   \n",
       "71941               0                  1  62.986667                    0   \n",
       "\n",
       "       REQUIRED_TRAINING  MINIMUM_EDUCATION  PROFESSIONAL_OCCUPATION  \\\n",
       "0                      1                  0                        1   \n",
       "1                      1                  0                        1   \n",
       "2                      1                  0                        1   \n",
       "3                      1                  0                        0   \n",
       "4                      1                  0                        1   \n",
       "...                  ...                ...                      ...   \n",
       "71937                  1                  0                        1   \n",
       "71938                  1                  0                        0   \n",
       "71939                  1                  0                        0   \n",
       "71940                  1                  0                        1   \n",
       "71941                  1                  0                        0   \n",
       "\n",
       "       APP_FOR_COLLEGE_U_TEACHER  \n",
       "0                              1  \n",
       "1                              1  \n",
       "2                              1  \n",
       "3                              1  \n",
       "4                              1  \n",
       "...                          ...  \n",
       "71937                          1  \n",
       "71938                          1  \n",
       "71939                          1  \n",
       "71940                          1  \n",
       "71941                          1  \n",
       "\n",
       "[71934 rows x 8 columns]"
      ]
     },
     "execution_count": 7,
     "metadata": {},
     "output_type": "execute_result"
    }
   ],
   "source": [
    "dat_select=dat_select[[ 'CASE_STATUS_BI','REQUIRED_TRAINING', 'PW_WAGE',\n",
    "            'REQUIRED_EXPERIENCE','REQUIRED_TRAINING','MINIMUM_EDUCATION',\n",
    "            'PROFESSIONAL_OCCUPATION','APP_FOR_COLLEGE_U_TEACHER']]\n",
    "dat_select"
   ]
  },
  {
   "cell_type": "markdown",
   "metadata": {},
   "source": [
    "## Logistic Regression for Case Status based on Selected Variables"
   ]
  },
  {
   "cell_type": "code",
   "execution_count": 8,
   "metadata": {},
   "outputs": [
    {
     "name": "stderr",
     "output_type": "stream",
     "text": [
      "C:\\Users\\zd000\\Anaconda3\\lib\\site-packages\\sklearn\\linear_model\\logistic.py:432: FutureWarning: Default solver will be changed to 'lbfgs' in 0.22. Specify a solver to silence this warning.\n",
      "  FutureWarning)\n"
     ]
    },
    {
     "data": {
      "text/plain": [
       "0.9209414185225345"
      ]
     },
     "execution_count": 8,
     "metadata": {},
     "output_type": "execute_result"
    }
   ],
   "source": [
    "mymodel= LogisticRegression(C=100000000)\n",
    "X = dat_select.loc[:, dat_select.columns != 'CASE_STATUS_BI']\n",
    "y = dat['CASE_STATUS_BI']\n",
    "my_results = mymodel.fit(X,y)\n",
    "my_results.score(X, y)"
   ]
  },
  {
   "cell_type": "code",
   "execution_count": 9,
   "metadata": {},
   "outputs": [
    {
     "data": {
      "text/plain": [
       "array([1, 1, 1, ..., 1, 1, 1], dtype=uint8)"
      ]
     },
     "execution_count": 9,
     "metadata": {},
     "output_type": "execute_result"
    }
   ],
   "source": [
    "my_results.predict(X)"
   ]
  },
  {
   "cell_type": "code",
   "execution_count": 192,
   "metadata": {},
   "outputs": [
    {
     "name": "stdout",
     "output_type": "stream",
     "text": [
      "The coefficients are [[ 5.375e-01 -3.949e-05 -7.152e-02  5.375e-01 -3.402e-01 -1.674e+00\n",
      "  -1.597e+00]] \n",
      "\n",
      "The Intercepts are [3.458] \n",
      "\n"
     ]
    },
    {
     "data": {
      "text/plain": [
       "array([[0.221, 0.779],\n",
       "       [0.233, 0.767],\n",
       "       [0.221, 0.779],\n",
       "       ...,\n",
       "       [0.051, 0.949],\n",
       "       [0.221, 0.779],\n",
       "       [0.051, 0.949]])"
      ]
     },
     "execution_count": 192,
     "metadata": {},
     "output_type": "execute_result"
    }
   ],
   "source": [
    "print(\"The coefficients are\", my_results.coef_, \"\\n\")\n",
    "print(\"The Intercepts are\", my_results.intercept_,\"\\n\")\n",
    "my_results.get_params()\n",
    "my_results.predict(X)\n",
    "my_results.predict_log_proba(X)\n",
    "my_results.predict_proba(X)"
   ]
  },
  {
   "cell_type": "code",
   "execution_count": 193,
   "metadata": {},
   "outputs": [
    {
     "name": "stdout",
     "output_type": "stream",
     "text": [
      "The size of the training set predictors is  (50353, 7)\n",
      "The size of the training set response is  (50353,)\n",
      "The size of the test set predictors is  (21581, 7)\n",
      "The size of the test set response is  (21581,)\n"
     ]
    },
    {
     "name": "stderr",
     "output_type": "stream",
     "text": [
      "C:\\Users\\zd000\\Anaconda3\\lib\\site-packages\\sklearn\\linear_model\\logistic.py:432: FutureWarning: Default solver will be changed to 'lbfgs' in 0.22. Specify a solver to silence this warning.\n",
      "  FutureWarning)\n"
     ]
    },
    {
     "name": "stdout",
     "output_type": "stream",
     "text": [
      "[[    2  1725]\n",
      " [    0 19854]]\n",
      "              precision    recall  f1-score   support\n",
      "\n",
      "           0       1.00      0.00      0.00      1727\n",
      "           1       0.92      1.00      0.96     19854\n",
      "\n",
      "    accuracy                           0.92     21581\n",
      "   macro avg       0.96      0.50      0.48     21581\n",
      "weighted avg       0.93      0.92      0.88     21581\n",
      "\n"
     ]
    },
    {
     "name": "stderr",
     "output_type": "stream",
     "text": [
      "C:\\Users\\zd000\\Anaconda3\\lib\\site-packages\\sklearn\\linear_model\\logistic.py:432: FutureWarning: Default solver will be changed to 'lbfgs' in 0.22. Specify a solver to silence this warning.\n",
      "  FutureWarning)\n"
     ]
    },
    {
     "data": {
      "image/png": "[encoded data removed]",
      "text/plain": [
       "<Figure size 432x288 with 1 Axes>"
      ]
     },
     "metadata": {
      "needs_background": "light"
     },
     "output_type": "display_data"
    },
    {
     "name": "stdout",
     "output_type": "stream",
     "text": [
      "The AUC Value for the model is 0.6635981751907628\n",
      "The Classification table is \n",
      " [[    2  1725]\n",
      " [    0 19854]]\n",
      "True Positive rate is 100 %\n",
      "False Positive rate is 99.88419224088014 %\n",
      "Model Accuracy is 0.9200685788425004\n"
     ]
    }
   ],
   "source": [
    "pr_train, pr_test, resp_train, resp_test = train_test_split(\n",
    "        X, y, test_size=0.3, random_state=31171)\n",
    "\n",
    "print('The size of the training set predictors is ', pr_train.shape)\n",
    "print('The size of the training set response is ', resp_train.shape)\n",
    "print('The size of the test set predictors is ', pr_test.shape)\n",
    "print('The size of the test set response is ', resp_test.shape)\n",
    "\n",
    "my_results_train = mymodel.fit(pr_train,resp_train)\n",
    "predictions_test=my_results_train.predict(pr_test)\n",
    "cm=confusion_matrix(resp_test, predictions_test)\n",
    "print(cm)\n",
    "print(classification_report(resp_test, predictions_test))\n",
    "\n",
    "my_results_train = mymodel.fit(pr_train,resp_train)\n",
    "predictions_test=my_results_train.predict(pr_test)\n",
    "predictions_test_prob=my_results_train.predict_proba(pr_test)\n",
    "\n",
    "fpr, tpr, tholds = metrics.roc_curve(resp_test, predictions_test_prob[:,1], pos_label = 1)\n",
    "scplt.metrics.plot_roc(resp_test, predictions_test_prob)\n",
    "plt.show()\n",
    "\n",
    "print(\"The AUC Value for the model is\", metrics.auc(fpr, tpr))\n",
    "print(\"The Classification table is \\n\", confusion_matrix(resp_test, predictions_test))\n",
    "print('True Positive rate is', 100,'%')\n",
    "print('False Positive rate is',1725/1727*100,'%')\n",
    "print('Model Accuracy is',accuracy_score(resp_test, predictions_test))"
   ]
  },
  {
   "cell_type": "markdown",
   "metadata": {},
   "source": [
    "The accuracy is the holdout test is 92%.The True positive rate is very high at 100% out model False positive rate is also very high at 99%. This is due to the inbalanced proportion of Certified and Non-Certified respose values. \n",
    "Conclusion: This data set is not good for supervised regression due to inbalanced proportion of response values.  "
   ]
  },
  {
   "cell_type": "markdown",
   "metadata": {},
   "source": [
    "#### Feature Importance of All the Predictors"
   ]
  },
  {
   "cell_type": "code",
   "execution_count": 194,
   "metadata": {},
   "outputs": [
    {
     "data": {
      "image/png": "[encoded data removed]",
      "text/plain": [
       "<Figure size 432x288 with 1 Axes>"
      ]
     },
     "metadata": {
      "needs_background": "light"
     },
     "output_type": "display_data"
    }
   ],
   "source": [
    "feature_importance = abs(mymodel.coef_[0])\n",
    "feature_importance = 100.0 * (feature_importance / feature_importance.max())\n",
    "sorted_idx = np.argsort(feature_importance)\n",
    "pos = np.arange(sorted_idx.shape[0]) + .5\n",
    "\n",
    "featfig = plt.figure()\n",
    "featax = featfig.add_subplot(1, 1, 1)\n",
    "featax.barh(pos, feature_importance[sorted_idx], align='center')\n",
    "featax.set_yticks(pos)\n",
    "featax.set_yticklabels(np.array(X.columns)[sorted_idx], fontsize=8)\n",
    "featax.set_xlabel('Relative Feature Importance')\n",
    "\n",
    "plt.tight_layout()   \n",
    "plt.show()"
   ]
  },
  {
   "cell_type": "markdown",
   "metadata": {},
   "source": [
    "#### Let us take a look at how each feature effect the certification result"
   ]
  },
  {
   "cell_type": "markdown",
   "metadata": {},
   "source": [
    "PROFESSIONAL_OCCUPATION"
   ]
  },
  {
   "cell_type": "code",
   "execution_count": 195,
   "metadata": {},
   "outputs": [
    {
     "data": {
      "text/plain": [
       "[Text(0.5, 0, 'PROFESSIONAL_OCCUPATION')]"
      ]
     },
     "execution_count": 195,
     "metadata": {},
     "output_type": "execute_result"
    },
    {
     "data": {
      "image/png": "[encoded data removed]",
      "text/plain": [
       "<Figure size 432x288 with 1 Axes>"
      ]
     },
     "metadata": {
      "needs_background": "light"
     },
     "output_type": "display_data"
    }
   ],
   "source": [
    "number_p=dat_select['CASE_STATUS_BI'].groupby(by = dat_select['PROFESSIONAL_OCCUPATION']).sum()\n",
    "size_p=dat_select['CASE_STATUS_BI'].groupby(by = dat_select['PROFESSIONAL_OCCUPATION']).size()\n",
    "per_p=(number_p/size_p).reset_index(name='Certification_Rate')\n",
    "sns.barplot(data=per_p, x = 'PROFESSIONAL_OCCUPATION', y= 'Certification_Rate').set(xlabel='PROFESSIONAL_OCCUPATION')"
   ]
  },
  {
   "cell_type": "markdown",
   "metadata": {},
   "source": [
    "Jobs considered as professional occupations(0) has higher chance to get certified than non professional occupations(1)."
   ]
  },
  {
   "cell_type": "markdown",
   "metadata": {},
   "source": [
    "APP_FOR_COLLEGE_U_TEACHER"
   ]
  },
  {
   "cell_type": "code",
   "execution_count": 196,
   "metadata": {},
   "outputs": [
    {
     "data": {
      "text/html": [
       "<div>\n",
       "<style scoped>\n",
       "    .dataframe tbody tr th:only-of-type {\n",
       "        vertical-align: middle;\n",
       "    }\n",
       "\n",
       "    .dataframe tbody tr th {\n",
       "        vertical-align: top;\n",
       "    }\n",
       "\n",
       "    .dataframe thead th {\n",
       "        text-align: right;\n",
       "    }\n",
       "</style>\n",
       "<table border=\"1\" class=\"dataframe\">\n",
       "  <thead>\n",
       "    <tr style=\"text-align: right;\">\n",
       "      <th></th>\n",
       "      <th>APP_FOR_COLLEGE_U_TEACHER</th>\n",
       "      <th>Certification_Rate</th>\n",
       "    </tr>\n",
       "  </thead>\n",
       "  <tbody>\n",
       "    <tr>\n",
       "      <td>0</td>\n",
       "      <td>0</td>\n",
       "      <td>0.938764</td>\n",
       "    </tr>\n",
       "    <tr>\n",
       "      <td>1</td>\n",
       "      <td>1</td>\n",
       "      <td>0.920331</td>\n",
       "    </tr>\n",
       "  </tbody>\n",
       "</table>\n",
       "</div>"
      ],
      "text/plain": [
       "   APP_FOR_COLLEGE_U_TEACHER  Certification_Rate\n",
       "0                          0            0.938764\n",
       "1                          1            0.920331"
      ]
     },
     "execution_count": 196,
     "metadata": {},
     "output_type": "execute_result"
    },
    {
     "data": {
      "image/png": "[encoded data removed]",
      "text/plain": [
       "<Figure size 432x288 with 1 Axes>"
      ]
     },
     "metadata": {
      "needs_background": "light"
     },
     "output_type": "display_data"
    }
   ],
   "source": [
    "number_p1=dat_select['CASE_STATUS_BI'].groupby(by = dat_select['APP_FOR_COLLEGE_U_TEACHER']).sum()\n",
    "size_p1=dat_select['CASE_STATUS_BI'].groupby(by = dat_select['APP_FOR_COLLEGE_U_TEACHER']).size()\n",
    "per_p1=(number_p1/size_p1).reset_index(name='Certification_Rate')\n",
    "sns.barplot(data=per_p1, x = 'APP_FOR_COLLEGE_U_TEACHER', y= 'Certification_Rate').set(xlabel='APP_FOR_COLLEGE_U_TEACHER', )\n",
    "per_p1"
   ]
  },
  {
   "cell_type": "markdown",
   "metadata": {},
   "source": [
    "College and University teachers get very simialr certification rate than those who are not."
   ]
  },
  {
   "cell_type": "markdown",
   "metadata": {},
   "source": [
    "PW_WAGE"
   ]
  },
  {
   "cell_type": "code",
   "execution_count": 197,
   "metadata": {},
   "outputs": [
    {
     "data": {
      "text/html": [
       "<div>\n",
       "<style scoped>\n",
       "    .dataframe tbody tr th:only-of-type {\n",
       "        vertical-align: middle;\n",
       "    }\n",
       "\n",
       "    .dataframe tbody tr th {\n",
       "        vertical-align: top;\n",
       "    }\n",
       "\n",
       "    .dataframe thead th {\n",
       "        text-align: right;\n",
       "    }\n",
       "</style>\n",
       "<table border=\"1\" class=\"dataframe\">\n",
       "  <thead>\n",
       "    <tr style=\"text-align: right;\">\n",
       "      <th></th>\n",
       "      <th>CASE_STATUS_BI</th>\n",
       "      <th>AVG WAGE</th>\n",
       "    </tr>\n",
       "  </thead>\n",
       "  <tbody>\n",
       "    <tr>\n",
       "      <td>0</td>\n",
       "      <td>0</td>\n",
       "      <td>47.346604</td>\n",
       "    </tr>\n",
       "    <tr>\n",
       "      <td>1</td>\n",
       "      <td>1</td>\n",
       "      <td>48.272604</td>\n",
       "    </tr>\n",
       "  </tbody>\n",
       "</table>\n",
       "</div>"
      ],
      "text/plain": [
       "   CASE_STATUS_BI   AVG WAGE\n",
       "0               0  47.346604\n",
       "1               1  48.272604"
      ]
     },
     "execution_count": 197,
     "metadata": {},
     "output_type": "execute_result"
    },
    {
     "data": {
      "image/png": "[encoded data removed]",
      "text/plain": [
       "<Figure size 432x288 with 1 Axes>"
      ]
     },
     "metadata": {
      "needs_background": "light"
     },
     "output_type": "display_data"
    }
   ],
   "source": [
    "mean_wage = dat_select['PW_WAGE'].groupby(by = dat_select['CASE_STATUS_BI']).mean().reset_index(name='AVG WAGE')\n",
    "sns.barplot(data=mean_wage, x = 'CASE_STATUS_BI', y= 'AVG WAGE').set(xlabel='CASE_STATUS_BI', )\n",
    "mean_wage"
   ]
  },
  {
   "cell_type": "markdown",
   "metadata": {},
   "source": [
    "On average, people who do get certified do not have much higher income than who do not get certified. Income is not a significant factor in terms of getting the certification. "
   ]
  },
  {
   "cell_type": "markdown",
   "metadata": {},
   "source": [
    "MINIMUN EDUCATION"
   ]
  },
  {
   "cell_type": "code",
   "execution_count": null,
   "metadata": {},
   "outputs": [],
   "source": [
    "dat1=pd.read_csv('PERM_FY2020_Q31.csv')\n",
    "dat1['CASE_STATUS_BI']=0\n",
    "# change the response categories into only two levels: certifies vs denied\n",
    "dat1.loc[(dat1['CASE_STATUS']=='Certified-Expired'),'CASE_STATUS_BI']='Certified'\n",
    "dat1.loc[(dat1['CASE_STATUS']=='Certified'),'CASE_STATUS_BI']='Certified'\n",
    "dat1.loc[(dat1['CASE_STATUS']=='Denied'),'CASE_STATUS_BI']='Not_Certified'\n",
    "dat1.loc[(dat1['CASE_STATUS']=='Withdrawn'),'CASE_STATUS_BI']='Not_Certified'\n",
    "dat1['CASE_STATUS_BI'].unique()\n"
   ]
  },
  {
   "cell_type": "code",
   "execution_count": null,
   "metadata": {},
   "outputs": [],
   "source": [
    "dat1.loc[dat1.MINIMUM_EDUCATION.isnull(),'MINIMUM_EDUCATION']='None'\n",
    "dat1['MINIMUM_EDUCATION'].unique()"
   ]
  },
  {
   "cell_type": "code",
   "execution_count": null,
   "metadata": {},
   "outputs": [],
   "source": [
    "dat1['CASE_STATUS_BI']=='Certified'"
   ]
  },
  {
   "cell_type": "code",
   "execution_count": 183,
   "metadata": {},
   "outputs": [
    {
     "data": {
      "text/html": [
       "<div>\n",
       "<style scoped>\n",
       "    .dataframe tbody tr th:only-of-type {\n",
       "        vertical-align: middle;\n",
       "    }\n",
       "\n",
       "    .dataframe tbody tr th {\n",
       "        vertical-align: top;\n",
       "    }\n",
       "\n",
       "    .dataframe thead th {\n",
       "        text-align: right;\n",
       "    }\n",
       "</style>\n",
       "<table border=\"1\" class=\"dataframe\">\n",
       "  <thead>\n",
       "    <tr style=\"text-align: right;\">\n",
       "      <th></th>\n",
       "      <th>MINIMUM_EDUCATION</th>\n",
       "      <th>Certification_Rate</th>\n",
       "    </tr>\n",
       "  </thead>\n",
       "  <tbody>\n",
       "    <tr>\n",
       "      <td>4</td>\n",
       "      <td>Master's</td>\n",
       "      <td>0.956434</td>\n",
       "    </tr>\n",
       "    <tr>\n",
       "      <td>2</td>\n",
       "      <td>Doctorate</td>\n",
       "      <td>0.949015</td>\n",
       "    </tr>\n",
       "    <tr>\n",
       "      <td>1</td>\n",
       "      <td>Bachelor's</td>\n",
       "      <td>0.942984</td>\n",
       "    </tr>\n",
       "    <tr>\n",
       "      <td>6</td>\n",
       "      <td>Other</td>\n",
       "      <td>0.903704</td>\n",
       "    </tr>\n",
       "    <tr>\n",
       "      <td>0</td>\n",
       "      <td>Associate's</td>\n",
       "      <td>0.797251</td>\n",
       "    </tr>\n",
       "    <tr>\n",
       "      <td>5</td>\n",
       "      <td>None</td>\n",
       "      <td>0.777187</td>\n",
       "    </tr>\n",
       "    <tr>\n",
       "      <td>3</td>\n",
       "      <td>High School</td>\n",
       "      <td>0.743335</td>\n",
       "    </tr>\n",
       "  </tbody>\n",
       "</table>\n",
       "</div>"
      ],
      "text/plain": [
       "  MINIMUM_EDUCATION  Certification_Rate\n",
       "4          Master's            0.956434\n",
       "2         Doctorate            0.949015\n",
       "1        Bachelor's            0.942984\n",
       "6             Other            0.903704\n",
       "0       Associate's            0.797251\n",
       "5              None            0.777187\n",
       "3       High School            0.743335"
      ]
     },
     "execution_count": 183,
     "metadata": {},
     "output_type": "execute_result"
    },
    {
     "data": {
      "image/png": "[encoded data removed]",
      "text/plain": [
       "<Figure size 432x288 with 1 Axes>"
      ]
     },
     "metadata": {
      "needs_background": "light"
     },
     "output_type": "display_data"
    }
   ],
   "source": [
    "number_p2=dat1.loc[dat1['CASE_STATUS_BI']=='Certified','CASE_STATUS_BI'].groupby(by = dat1['MINIMUM_EDUCATION']).size().sort_values()\n",
    "size_p2=dat1['CASE_STATUS_BI'].groupby(by = dat1['MINIMUM_EDUCATION']).size()\n",
    "per_p2=(number_p2/size_p2).reset_index(name='Certification_Rate').sort_values('Certification_Rate', ascending=False)\n",
    "sns.barplot(data=per_p2, y = 'MINIMUM_EDUCATION', x= 'Certification_Rate').set(xlabel='Certification_Rate' )\n",
    "per_p2"
   ]
  },
  {
   "cell_type": "markdown",
   "metadata": {},
   "source": [
    "In general for those who have Bachelor's or above degrees, the visa certification rate is very high(around 95%). Based on the data there seems to be no distinction between people with undergraduate and graduate degrees. The certification rate drops a lot for those who do not have a college level or higher degrees. "
   ]
  },
  {
   "cell_type": "code",
   "execution_count": null,
   "metadata": {},
   "outputs": [],
   "source": []
  }
 ],
 "metadata": {
  "kernelspec": {
   "display_name": "Python 3",
   "language": "python",
   "name": "python3"
  },
  "language_info": {
   "codemirror_mode": {
    "name": "ipython",
    "version": 3
   },
   "file_extension": ".py",
   "mimetype": "text/x-python",
   "name": "python",
   "nbconvert_exporter": "python",
   "pygments_lexer": "ipython3",
   "version": "3.7.4"
  }
 },
 "nbformat": 4,
 "nbformat_minor": 4
}
