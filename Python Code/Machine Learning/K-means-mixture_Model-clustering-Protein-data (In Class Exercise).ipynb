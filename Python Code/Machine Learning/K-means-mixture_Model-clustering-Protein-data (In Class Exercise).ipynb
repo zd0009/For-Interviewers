{
 "cells": [
  {
   "cell_type": "markdown",
   "metadata": {},
   "source": [
    "# K-means: Python analysis(In Class Exercise)\n",
    "# Duo Zhou\n",
    "\n",
    "### Code for extracting k clusters (k hard coded at 3 here) from k-means clustering\n",
    "### Users need to puta simple for loop for changing values of k. Users need to change the directory where the data is located.\n",
    "\n",
    "###  Getting external libraries"
   ]
  },
  {
   "cell_type": "code",
   "execution_count": 1,
   "metadata": {},
   "outputs": [],
   "source": [
    "import pandas as pd  # data frame operations  \n",
    "import numpy as np  # arrays and math functions\n",
    "import matplotlib.pyplot as plt  # static plotting\n",
    "from sklearn.cluster import KMeans\n",
    "from sklearn.preprocessing import scale\n",
    "\n",
    "np.set_printoptions(precision=3)"
   ]
  },
  {
   "cell_type": "markdown",
   "metadata": {},
   "source": [
    "## read in comma-delimited text file, creating a pandas DataFrame object"
   ]
  },
  {
   "cell_type": "code",
   "execution_count": 2,
   "metadata": {},
   "outputs": [],
   "source": [
    "CP_data = pd.read_csv(r'C:\\Users\\anilc\\OneDrive\\Desktop\\Anil\\Data Mining\\Data sets\\country_protein.csv')"
   ]
  },
  {
   "cell_type": "markdown",
   "metadata": {},
   "source": [
    "## View the data as a dataframe and also as an array"
   ]
  },
  {
   "cell_type": "code",
   "execution_count": 3,
   "metadata": {},
   "outputs": [
    {
     "name": "stdout",
     "output_type": "stream",
     "text": [
      "                   0     1    2     3     4     5    6    7\n",
      "Albania         10.1   1.4  0.5   8.9   0.2  42.3  0.6  5.5\n",
      "Austria          8.9    14  4.3  19.9   2.1    28  3.6  1.3\n",
      "Belgium         13.5   9.3  4.1  17.5   4.5  26.6  5.7  2.1\n",
      "Bulgaria         7.8     6  1.6   8.3   1.2  56.7  1.1  3.7\n",
      "Czechoslovakia   9.7  11.4  2.8  12.5     2  34.3    5  1.1\n",
      "Denmark         10.6  10.8  3.7    25   9.9  21.9  4.8  0.7\n",
      "E Germany        8.4  11.6  3.7  11.1   5.4  24.6  6.5  0.8\n",
      "Finland          9.5   4.9  2.7  33.7   5.8  26.3  5.1    1\n",
      "France            18   9.9  3.3  19.5   5.7  28.1  4.8  2.4\n",
      "Greece          10.2     3  2.8  17.6   5.9  41.7  2.2  7.8\n",
      "Hungary          5.3  12.4  2.9   9.7   0.3  40.1    4  5.4\n",
      "Ireland         13.9    10  4.7  25.8   2.2    24  6.2  1.6\n",
      "Italy              9   5.1  2.9  13.7   3.4  36.8  2.1  4.3\n",
      "Netherlands      9.5  13.6  3.6  23.4   2.5  22.4  4.2  1.8\n",
      "Norway           9.4   4.7  2.7  23.3   9.7    23  4.6  1.6\n",
      "Poland           6.9  10.2  2.7  19.3     3  36.1  5.9    2\n",
      "Portugal         6.2   3.7  1.1   4.9  14.2    27  5.9  4.7\n",
      "Romania          6.2   6.3  1.5  11.1     1  49.6  3.1  5.3\n",
      "Spain            7.1   3.4  3.1   8.6     7  29.2  5.7  5.9\n",
      "Sweden           9.9   7.8  3.5  24.7   7.5  19.5  3.7  1.4\n",
      "Switzerland     13.1  10.1  3.1  23.8   2.3  25.6  2.8  2.4\n",
      "UK              17.4   5.7  4.7  20.6   4.3  24.3  4.7  3.4\n",
      "USSR             9.3   4.6  2.1  16.6     3  43.6  6.4  3.4\n",
      "West Germnay    11.4  12.5  4.1  18.8   3.4  18.6  5.2  1.5\n",
      "Yugoslavia       4.4     5  1.2   9.5   0.6  55.9    3  5.7\n",
      "\n",
      "Descriptive statistics for Country Protein data ---------------\n",
      "         RedMeat  WhiteMeat       Eggs       Milk       Fish    Cereals  \\\n",
      "count  25.000000  25.000000  25.000000  25.000000  25.000000  25.000000   \n",
      "mean    9.828000   7.896000   2.936000  17.112000   4.284000  32.248000   \n",
      "std     3.347078   3.694081   1.117617   7.105416   3.402533  10.974786   \n",
      "min     4.400000   1.400000   0.500000   4.900000   0.200000  18.600000   \n",
      "25%     7.800000   4.900000   2.700000  11.100000   2.100000  24.300000   \n",
      "50%     9.500000   7.800000   2.900000  17.600000   3.400000  28.000000   \n",
      "75%    10.600000  10.800000   3.700000  23.300000   5.800000  40.100000   \n",
      "max    18.000000  14.000000   4.700000  33.700000  14.200000  56.700000   \n",
      "\n",
      "          Starch       Nuts     Fr&Veg  \n",
      "count  25.000000  25.000000  25.000000  \n",
      "mean    4.276000   3.072000   4.136000  \n",
      "std     1.634085   1.985682   1.803903  \n",
      "min     0.600000   0.700000   1.400000  \n",
      "25%     3.100000   1.500000   2.900000  \n",
      "50%     4.700000   2.400000   3.800000  \n",
      "75%     5.700000   4.700000   4.900000  \n",
      "max     6.500000   7.800000   7.900000  \n",
      "[['Albania' 10.1 1.4 0.5 8.9 0.2 42.3 0.6 5.5 1.7]\n",
      " ['Austria' 8.9 14.0 4.3 19.9 2.1 28.0 3.6 1.3 4.3]\n",
      " ['Belgium' 13.5 9.3 4.1 17.5 4.5 26.6 5.7 2.1 4.0]\n",
      " ['Bulgaria' 7.8 6.0 1.6 8.3 1.2 56.7 1.1 3.7 4.2]\n",
      " ['Czechoslovakia' 9.7 11.4 2.8 12.5 2.0 34.3 5.0 1.1 4.0]\n",
      " ['Denmark' 10.6 10.8 3.7 25.0 9.9 21.9 4.8 0.7 2.4]\n",
      " ['E Germany' 8.4 11.6 3.7 11.1 5.4 24.6 6.5 0.8 3.6]\n",
      " ['Finland' 9.5 4.9 2.7 33.7 5.8 26.3 5.1 1.0 1.4]\n",
      " ['France' 18.0 9.9 3.3 19.5 5.7 28.1 4.8 2.4 6.5]\n",
      " ['Greece' 10.2 3.0 2.8 17.6 5.9 41.7 2.2 7.8 6.5]\n",
      " ['Hungary' 5.3 12.4 2.9 9.7 0.3 40.1 4.0 5.4 4.2]\n",
      " ['Ireland' 13.9 10.0 4.7 25.8 2.2 24.0 6.2 1.6 2.9]\n",
      " ['Italy' 9.0 5.1 2.9 13.7 3.4 36.8 2.1 4.3 6.7]\n",
      " ['Netherlands' 9.5 13.6 3.6 23.4 2.5 22.4 4.2 1.8 3.7]\n",
      " ['Norway' 9.4 4.7 2.7 23.3 9.7 23.0 4.6 1.6 2.7]\n",
      " ['Poland' 6.9 10.2 2.7 19.3 3.0 36.1 5.9 2.0 6.6]\n",
      " ['Portugal' 6.2 3.7 1.1 4.9 14.2 27.0 5.9 4.7 7.9]\n",
      " ['Romania' 6.2 6.3 1.5 11.1 1.0 49.6 3.1 5.3 2.8]\n",
      " ['Spain' 7.1 3.4 3.1 8.6 7.0 29.2 5.7 5.9 7.2]\n",
      " ['Sweden' 9.9 7.8 3.5 24.7 7.5 19.5 3.7 1.4 2.0]\n",
      " ['Switzerland' 13.1 10.1 3.1 23.8 2.3 25.6 2.8 2.4 4.9]\n",
      " ['UK' 17.4 5.7 4.7 20.6 4.3 24.3 4.7 3.4 3.3]\n",
      " ['USSR' 9.3 4.6 2.1 16.6 3.0 43.6 6.4 3.4 2.9]\n",
      " ['West Germnay' 11.4 12.5 4.1 18.8 3.4 18.6 5.2 1.5 3.8]\n",
      " ['Yugoslavia' 4.4 5.0 1.2 9.5 0.6 55.9 3.0 5.7 3.2]]\n"
     ]
    }
   ],
   "source": [
    "#np.array(df.to_array()) could use this potentially to covnvert df to array\n",
    "CP_data_array=CP_data.values\n",
    "CP_data_frame = pd.DataFrame(CP_data_array[:,1:9],index = CP_data_array[:,0])\n",
    "print(CP_data_frame)\n",
    "print('\\nDescriptive statistics for Country Protein data ---------------')\n",
    "print(CP_data.describe())\n",
    "print(CP_data_array)"
   ]
  },
  {
   "cell_type": "code",
   "execution_count": 4,
   "metadata": {},
   "outputs": [
    {
     "name": "stdout",
     "output_type": "stream",
     "text": [
      "\n",
      "Contents of Initial Data  ---------------\n",
      "\n",
      "Number of Respondents = 25\n",
      "[[ 0.083 -1.795 -2.225 -1.18  -1.225  0.935 -2.296  1.248]\n",
      " [-0.283  1.686  1.246  0.4   -0.655 -0.395 -0.422 -0.911]\n",
      " [ 1.12   0.388  1.063  0.056  0.065 -0.525  0.889 -0.5  ]\n",
      " [-0.618 -0.524 -1.22  -1.266 -0.925  2.274 -1.984  0.323]\n",
      " [-0.039  0.968 -0.124 -0.662 -0.685  0.191  0.452 -1.014]\n",
      " [ 0.235  0.802  0.698  1.133  1.685 -0.962  0.327 -1.219]\n",
      " [-0.435  1.023  0.698 -0.864  0.335 -0.711  1.389 -1.168]\n",
      " [-0.1   -0.828 -0.216  2.383  0.455 -0.553  0.515 -1.065]\n",
      " [ 2.492  0.554  0.332  0.343  0.425 -0.386  0.327 -0.345]\n",
      " [ 0.113 -1.353 -0.124  0.07   0.485  0.879 -1.297  2.43 ]\n",
      " [-1.381  1.244 -0.033 -1.065 -1.195  0.73  -0.172  1.197]\n",
      " [ 1.242  0.581  1.611  1.248 -0.625 -0.767  1.202 -0.757]\n",
      " [-0.252 -0.772 -0.033 -0.49  -0.265  0.423 -1.359  0.631]\n",
      " [-0.1    1.576  0.606  0.903 -0.535 -0.916 -0.047 -0.654]\n",
      " [-0.131 -0.883 -0.216  0.889  1.625 -0.86   0.202 -0.757]\n",
      " [-0.893  0.637 -0.216  0.314 -0.385  0.358  1.014 -0.551]\n",
      " [-1.106 -1.159 -1.677 -1.754  2.974 -0.488  1.014  0.837]\n",
      " [-1.106 -0.441 -1.311 -0.864 -0.985  1.614 -0.735  1.145]\n",
      " [-0.832 -1.242  0.15  -1.223  0.815 -0.283  0.889  1.454]\n",
      " [ 0.022 -0.027  0.515  1.09   0.965 -1.186 -0.36  -0.859]\n",
      " [ 0.998  0.609  0.15   0.961 -0.595 -0.618 -0.922 -0.345]\n",
      " [ 2.309 -0.607  1.611  0.501  0.005 -0.739  0.265  0.169]\n",
      " [-0.161 -0.911 -0.763 -0.074 -0.385  1.056  1.327  0.169]\n",
      " [ 0.479  1.272  1.063  0.242 -0.265 -1.269  0.577 -0.808]\n",
      " [-1.655 -0.8   -1.585 -1.093 -1.105  2.2   -0.797  1.351]]\n"
     ]
    }
   ],
   "source": [
    "# examine the structure of the DataFrame object\n",
    "print('\\nContents of Initial Data  ---------------')\n",
    "\n",
    "# could use len() or first index of shape() to get number of rows/observations\n",
    "print('\\nNumber of Respondents =', len(CP_data)) \n",
    "length = len(CP_data)\n",
    "CP_data_for_cluster=CP_data_frame\n",
    "CP_data_for_cluster = scale(CP_data_for_cluster)\n",
    "print(CP_data_for_cluster)\n",
    "\n",
    "\n"
   ]
  },
  {
   "cell_type": "markdown",
   "metadata": {},
   "source": [
    "## Fixing number of clusters at 3"
   ]
  },
  {
   "cell_type": "code",
   "execution_count": 5,
   "metadata": {},
   "outputs": [],
   "source": [
    "k=3"
   ]
  },
  {
   "cell_type": "markdown",
   "metadata": {},
   "source": [
    "## This is where K-means clustering is executed"
   ]
  },
  {
   "cell_type": "code",
   "execution_count": 6,
   "metadata": {},
   "outputs": [],
   "source": [
    "x=KMeans(n_clusters=k, n_init=100, max_iter=300, tol=0.0001, verbose=0,random_state = 13511).fit(CP_data_for_cluster)\n",
    "x.fit_predict(CP_data_for_cluster)\n",
    "\n",
    "centroids = x.cluster_centers_\n",
    "labels = x.labels_"
   ]
  },
  {
   "cell_type": "markdown",
   "metadata": {},
   "source": [
    "## Printing the cluster centers and cluster indicators"
   ]
  },
  {
   "cell_type": "code",
   "execution_count": 8,
   "metadata": {},
   "outputs": [
    {
     "name": "stdout",
     "output_type": "stream",
     "text": [
      "\n",
      "Centers for the clusters are: \n",
      "[[-0.688  0.461 -0.7  ]\n",
      " [-0.634  0.517 -1.104]\n",
      " [-0.933  0.588 -0.763]\n",
      " [-0.841  0.596 -1.017]\n",
      " [-0.745  0.121  1.135]\n",
      " [ 1.294 -0.623  0.095]\n",
      " [-1.234  0.361  1.077]\n",
      " [ 1.189 -0.719  0.82 ]]\n",
      "\n",
      "Cluster Indicators for each data row are:\n",
      "[0 1 1 0 1 1 1 1 1 0 0 1 0 1 1 1 2 0 2 1 1 1 2 1 0]\n"
     ]
    }
   ],
   "source": [
    "print('\\nCenters for the clusters are: ') \n",
    "print(centroids.T)\n",
    "print('\\nCluster Indicators for each data row are:') \n",
    "print(labels)"
   ]
  },
  {
   "cell_type": "markdown",
   "metadata": {},
   "source": [
    "## Computing cluster sizes - absolute values and proportions"
   ]
  },
  {
   "cell_type": "code",
   "execution_count": 9,
   "metadata": {},
   "outputs": [
    {
     "name": "stdout",
     "output_type": "stream",
     "text": [
      "[[-0.688 -0.634 -0.933 -0.841 -0.745  1.294 -1.234  1.189]\n",
      " [ 0.461  0.517  0.588  0.596  0.121 -0.623  0.361 -0.719]\n",
      " [-0.7   -1.104 -0.763 -1.017  1.135  0.095  1.077  0.82 ]]\n",
      "\n",
      "The cluster sizes are [ 7 15  3]\n",
      "\n",
      "The cluster proportions are [0.28 0.6  0.12]\n"
     ]
    }
   ],
   "source": [
    "centroids_dataframe = pd.DataFrame(data=centroids)\n",
    "centroids_matrix = centroids_dataframe.values\n",
    "#centroids_matrix = centroids_matrix.transpose()\n",
    "print(centroids_matrix)\n",
    "print(\"\\nThe cluster sizes are\", np.bincount(labels))\n",
    "print(\"\\nThe cluster proportions are\", np.bincount(labels)/len(labels))"
   ]
  },
  {
   "cell_type": "markdown",
   "metadata": {},
   "source": [
    "## Computing R-square for the solution"
   ]
  },
  {
   "cell_type": "code",
   "execution_count": 10,
   "metadata": {},
   "outputs": [
    {
     "name": "stdout",
     "output_type": "stream",
     "text": [
      "\n",
      "The R-Square for 3 clusters is 0.5306949175785118\n"
     ]
    }
   ],
   "source": [
    "shap = (len(CP_data_for_cluster),k)\n",
    "cluster_matrix = np.zeros(shap)\n",
    "\n",
    "for i in range(k):     \n",
    "    cluster_matrix[x.labels_ == i,i]=1.0\n",
    "\n",
    "predicted_data= np.dot(cluster_matrix,centroids_matrix)\n",
    "shap2 = (len(CP_data_for_cluster)*3,1)\n",
    "\n",
    "print (\"\\nThe R-Square for\", k, \"clusters is\", (np.corrcoef(predicted_data.ravel(), CP_data_for_cluster.ravel())[0,1])**2)"
   ]
  },
  {
   "cell_type": "markdown",
   "metadata": {},
   "source": [
    "## Generating scatter plots."
   ]
  },
  {
   "cell_type": "code",
   "execution_count": 11,
   "metadata": {},
   "outputs": [
    {
     "data": {
      "image/png": "[encoded data removed]",
      "text/plain": [
       "<Figure size 432x288 with 1 Axes>"
      ]
     },
     "metadata": {
      "needs_background": "light"
     },
     "output_type": "display_data"
    },
    {
     "data": {
      "image/png": "[encoded data removed]",
      "text/plain": [
       "<Figure size 432x288 with 1 Axes>"
      ]
     },
     "metadata": {
      "needs_background": "light"
     },
     "output_type": "display_data"
    }
   ],
   "source": [
    "plt.scatter(CP_data_for_cluster[:, 0], CP_data_for_cluster[:, 1], c=labels, s=100, cmap='viridis')\n",
    "plt.show()\n",
    "\n",
    "colors = [\"g.\",\"r.\",\"c.\",\"y.\"]\n",
    "plt.scatter(CP_data_for_cluster[:, 0], CP_data_for_cluster[:, 1], marker=\"*\", c=labels, s=100, cmap='viridis')\n",
    "for i, country in enumerate(CP_data_frame.index.values):\n",
    "    plt.annotate(CP_data_frame.index.values[i], \n",
    "       xy = (CP_data_for_cluster[i, 0], CP_data_for_cluster[i, 1]),\n",
    "       horizontalalignment='center',\n",
    "       verticalalignment='center',\n",
    "       size=12, weight='regular',\n",
    "        ) \n",
    "plt.show()"
   ]
  },
  {
   "cell_type": "markdown",
   "metadata": {},
   "source": [
    "## add labels"
   ]
  },
  {
   "cell_type": "code",
   "execution_count": 12,
   "metadata": {},
   "outputs": [
    {
     "data": {
      "image/png": "[encoded data removed]",
      "text/plain": [
       "<Figure size 432x288 with 1 Axes>"
      ]
     },
     "metadata": {
      "needs_background": "light"
     },
     "output_type": "display_data"
    }
   ],
   "source": [
    "plt.scatter(CP_data_for_cluster[:, 0], CP_data_for_cluster[:, 1], c=labels, s=50, cmap='viridis')\n",
    "for i, country in enumerate(CP_data_frame.index.values):\n",
    "    \n",
    "    plt.annotate(country, \n",
    "       xy = (CP_data_for_cluster[i, 0], CP_data_for_cluster[i, 1]),\n",
    "       horizontalalignment='center',\n",
    "       verticalalignment='center',\n",
    "       size=12, weight='regular',\n",
    "        ) \n",
    "plt.show()"
   ]
  },
  {
   "cell_type": "markdown",
   "metadata": {},
   "source": [
    "# This is where Gaussian Mixture models are used for clustering"
   ]
  },
  {
   "cell_type": "code",
   "execution_count": 13,
   "metadata": {},
   "outputs": [
    {
     "name": "stdout",
     "output_type": "stream",
     "text": [
      "[[-0.875 -0.286 -0.508 -0.76   0.365  0.275  0.814  0.621]\n",
      " [ 0.558  0.508  0.646  0.616  0.157 -0.693  0.314 -0.731]\n",
      " [-0.573 -0.947 -1.083 -0.804 -0.67   1.387 -1.411  1.188]]\n",
      "<bound method GaussianMixture.aic of GaussianMixture(covariance_type='full', init_params='kmeans', max_iter=100,\n",
      "        means_init=None, n_components=3, n_init=50, precisions_init=None,\n",
      "        random_state=13511, reg_covar=1e-06, tol=0.001, verbose=0,\n",
      "        verbose_interval=10, warm_start=False, weights_init=None)>\n",
      "<bound method GaussianMixture.bic of GaussianMixture(covariance_type='full', init_params='kmeans', max_iter=100,\n",
      "        means_init=None, n_components=3, n_init=50, precisions_init=None,\n",
      "        random_state=13511, reg_covar=1e-06, tol=0.001, verbose=0,\n",
      "        verbose_interval=10, warm_start=False, weights_init=None)>\n",
      "[2 1 1 2 1 1 1 1 1 2 0 1 2 1 1 0 0 2 0 1 1 1 0 1 2]\n",
      "[[0.000e+000 6.804e-043 1.000e+000]\n",
      " [0.000e+000 1.000e+000 0.000e+000]\n",
      " [0.000e+000 1.000e+000 0.000e+000]\n",
      " [0.000e+000 1.335e-046 1.000e+000]\n",
      " [0.000e+000 1.000e+000 0.000e+000]\n",
      " [0.000e+000 1.000e+000 0.000e+000]\n",
      " [0.000e+000 1.000e+000 0.000e+000]\n",
      " [0.000e+000 1.000e+000 0.000e+000]\n",
      " [0.000e+000 1.000e+000 0.000e+000]\n",
      " [0.000e+000 1.046e-167 1.000e+000]\n",
      " [1.000e+000 2.950e-116 0.000e+000]\n",
      " [0.000e+000 1.000e+000 0.000e+000]\n",
      " [0.000e+000 2.088e-031 1.000e+000]\n",
      " [0.000e+000 1.000e+000 0.000e+000]\n",
      " [0.000e+000 1.000e+000 0.000e+000]\n",
      " [1.000e+000 4.405e-027 0.000e+000]\n",
      " [1.000e+000 9.596e-100 0.000e+000]\n",
      " [0.000e+000 4.080e-097 1.000e+000]\n",
      " [1.000e+000 2.497e-107 0.000e+000]\n",
      " [0.000e+000 1.000e+000 0.000e+000]\n",
      " [0.000e+000 1.000e+000 0.000e+000]\n",
      " [0.000e+000 1.000e+000 0.000e+000]\n",
      " [1.000e+000 1.623e-046 0.000e+000]\n",
      " [0.000e+000 1.000e+000 0.000e+000]\n",
      " [0.000e+000 1.664e-133 1.000e+000]]\n",
      "110.72819357372839\n",
      "274.05755410606724\n"
     ]
    }
   ],
   "source": [
    "from sklearn.mixture import GaussianMixture\n",
    "\n",
    "mymixture = GaussianMixture(n_components=3,n_init=50,random_state=13511)\n",
    "mixresults=mymixture.fit(CP_data_for_cluster)\n",
    "print(mixresults.means_)\n",
    "print(mixresults.aic)\n",
    "print(mixresults.bic)\n",
    "print(mymixture.predict(CP_data_for_cluster))\n",
    "labels = mymixture.predict(CP_data_for_cluster)\n",
    "print(mymixture.predict_proba(CP_data_for_cluster))\n",
    "print(mymixture.aic(CP_data_for_cluster))\n",
    "print(mymixture.bic(CP_data_for_cluster))"
   ]
  }
 ],
 "metadata": {
  "kernelspec": {
   "display_name": "Python 3",
   "language": "python",
   "name": "python3"
  },
  "language_info": {
   "codemirror_mode": {
    "name": "ipython",
    "version": 3
   },
   "file_extension": ".py",
   "mimetype": "text/x-python",
   "name": "python",
   "nbconvert_exporter": "python",
   "pygments_lexer": "ipython3",
   "version": "3.7.4"
  }
 },
 "nbformat": 4,
 "nbformat_minor": 2
}
