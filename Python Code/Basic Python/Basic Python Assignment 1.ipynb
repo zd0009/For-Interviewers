{
 "cells": [
  {
   "cell_type": "markdown",
   "metadata": {},
   "source": [
    "# Assignment 3 - Pandas DataFrame\n",
    "## Student : Duo Zhou\n",
    "## Part 1 (75 Points evenly distributed to first three questions)\n",
    "\n",
    "The following code loads the olympics dataset (olympics.csv), which was derived from the Wikipedia entry on [All Time Olympic Games Medals](https://en.wikipedia.org/wiki/All-time_Olympic_Games_medal_table), and does some basic data cleaning. \n",
    "\n",
    "The columns are organized as # of Summer games, Summer medals, # of Winter games, Winter medals, total # number of games, total # of medals. Use this dataset to answer the questions below."
   ]
  },
  {
   "cell_type": "code",
   "execution_count": 15,
   "metadata": {},
   "outputs": [
    {
     "data": {
      "text/html": [
       "<div>\n",
       "<style scoped>\n",
       "    .dataframe tbody tr th:only-of-type {\n",
       "        vertical-align: middle;\n",
       "    }\n",
       "\n",
       "    .dataframe tbody tr th {\n",
       "        vertical-align: top;\n",
       "    }\n",
       "\n",
       "    .dataframe thead th {\n",
       "        text-align: right;\n",
       "    }\n",
       "</style>\n",
       "<table border=\"1\" class=\"dataframe\">\n",
       "  <thead>\n",
       "    <tr style=\"text-align: right;\">\n",
       "      <th></th>\n",
       "      <th># Summer</th>\n",
       "      <th>Gold</th>\n",
       "      <th>Silver</th>\n",
       "      <th>Bronze</th>\n",
       "      <th>Total</th>\n",
       "      <th># Winter</th>\n",
       "      <th>Gold.1</th>\n",
       "      <th>Silver.1</th>\n",
       "      <th>Bronze.1</th>\n",
       "      <th>Total.1</th>\n",
       "      <th># Games</th>\n",
       "      <th>Gold.2</th>\n",
       "      <th>Silver.2</th>\n",
       "      <th>Bronze.2</th>\n",
       "      <th>Combined total</th>\n",
       "      <th>ID</th>\n",
       "    </tr>\n",
       "  </thead>\n",
       "  <tbody>\n",
       "    <tr>\n",
       "      <td>Afghanistan</td>\n",
       "      <td>13</td>\n",
       "      <td>0</td>\n",
       "      <td>0</td>\n",
       "      <td>2</td>\n",
       "      <td>2</td>\n",
       "      <td>0</td>\n",
       "      <td>0</td>\n",
       "      <td>0</td>\n",
       "      <td>0</td>\n",
       "      <td>0</td>\n",
       "      <td>13</td>\n",
       "      <td>0</td>\n",
       "      <td>0</td>\n",
       "      <td>2</td>\n",
       "      <td>2</td>\n",
       "      <td>AFG</td>\n",
       "    </tr>\n",
       "    <tr>\n",
       "      <td>Algeria</td>\n",
       "      <td>12</td>\n",
       "      <td>5</td>\n",
       "      <td>2</td>\n",
       "      <td>8</td>\n",
       "      <td>15</td>\n",
       "      <td>3</td>\n",
       "      <td>0</td>\n",
       "      <td>0</td>\n",
       "      <td>0</td>\n",
       "      <td>0</td>\n",
       "      <td>15</td>\n",
       "      <td>5</td>\n",
       "      <td>2</td>\n",
       "      <td>8</td>\n",
       "      <td>15</td>\n",
       "      <td>ALG</td>\n",
       "    </tr>\n",
       "    <tr>\n",
       "      <td>Argentina</td>\n",
       "      <td>23</td>\n",
       "      <td>18</td>\n",
       "      <td>24</td>\n",
       "      <td>28</td>\n",
       "      <td>70</td>\n",
       "      <td>18</td>\n",
       "      <td>0</td>\n",
       "      <td>0</td>\n",
       "      <td>0</td>\n",
       "      <td>0</td>\n",
       "      <td>41</td>\n",
       "      <td>18</td>\n",
       "      <td>24</td>\n",
       "      <td>28</td>\n",
       "      <td>70</td>\n",
       "      <td>ARG</td>\n",
       "    </tr>\n",
       "    <tr>\n",
       "      <td>Armenia</td>\n",
       "      <td>5</td>\n",
       "      <td>1</td>\n",
       "      <td>2</td>\n",
       "      <td>9</td>\n",
       "      <td>12</td>\n",
       "      <td>6</td>\n",
       "      <td>0</td>\n",
       "      <td>0</td>\n",
       "      <td>0</td>\n",
       "      <td>0</td>\n",
       "      <td>11</td>\n",
       "      <td>1</td>\n",
       "      <td>2</td>\n",
       "      <td>9</td>\n",
       "      <td>12</td>\n",
       "      <td>ARM</td>\n",
       "    </tr>\n",
       "    <tr>\n",
       "      <td>Australasia</td>\n",
       "      <td>2</td>\n",
       "      <td>3</td>\n",
       "      <td>4</td>\n",
       "      <td>5</td>\n",
       "      <td>12</td>\n",
       "      <td>0</td>\n",
       "      <td>0</td>\n",
       "      <td>0</td>\n",
       "      <td>0</td>\n",
       "      <td>0</td>\n",
       "      <td>2</td>\n",
       "      <td>3</td>\n",
       "      <td>4</td>\n",
       "      <td>5</td>\n",
       "      <td>12</td>\n",
       "      <td>ANZ</td>\n",
       "    </tr>\n",
       "  </tbody>\n",
       "</table>\n",
       "</div>"
      ],
      "text/plain": [
       "             # Summer  Gold  Silver  Bronze  Total  # Winter  Gold.1  \\\n",
       "Afghanistan        13     0       0       2      2         0       0   \n",
       "Algeria            12     5       2       8     15         3       0   \n",
       "Argentina          23    18      24      28     70        18       0   \n",
       "Armenia             5     1       2       9     12         6       0   \n",
       "Australasia         2     3       4       5     12         0       0   \n",
       "\n",
       "             Silver.1  Bronze.1  Total.1  # Games  Gold.2  Silver.2  Bronze.2  \\\n",
       "Afghanistan         0         0        0       13       0         0         2   \n",
       "Algeria             0         0        0       15       5         2         8   \n",
       "Argentina           0         0        0       41      18        24        28   \n",
       "Armenia             0         0        0       11       1         2         9   \n",
       "Australasia         0         0        0        2       3         4         5   \n",
       "\n",
       "             Combined total   ID  \n",
       "Afghanistan               2  AFG  \n",
       "Algeria                  15  ALG  \n",
       "Argentina                70  ARG  \n",
       "Armenia                  12  ARM  \n",
       "Australasia              12  ANZ  "
      ]
     },
     "execution_count": 15,
     "metadata": {},
     "output_type": "execute_result"
    }
   ],
   "source": [
    "import pandas as pd\n",
    "\n",
    "df = pd.read_csv('olympics.csv', index_col=0, skiprows=1)\n",
    "\n",
    "for col in df.columns:\n",
    "    if col[:2]=='01':\n",
    "        df.rename(columns={col:'Gold'+col[4:]}, inplace=True)\n",
    "    if col[:2]=='02':\n",
    "        df.rename(columns={col:'Silver'+col[4:]}, inplace=True)\n",
    "    if col[:2]=='03':\n",
    "        df.rename(columns={col:'Bronze'+col[4:]}, inplace=True)\n",
    "    if col[:1]=='№':\n",
    "        df.rename(columns={col:'#'+col[1:]}, inplace=True)\n",
    "\n",
    "names_ids = df.index.str.split('\\s\\(') # split the index by '('\n",
    "\n",
    "df.index = names_ids.str[0] # the [0] element is the country name (new index) \n",
    "df['ID'] = names_ids.str[1].str[:3] # the [1] element is the abbreviation or ID (take first 3 characters from that)\n",
    "\n",
    "#df = df.drop('Totals')\n",
    "\n",
    "df.head()"
   ]
  },
  {
   "cell_type": "markdown",
   "metadata": {},
   "source": [
    "### Question 1 \n",
    "\n",
    "What is the first country in df?\n",
    "\n",
    "*This function should return a Series.*"
   ]
  },
  {
   "cell_type": "code",
   "execution_count": 17,
   "metadata": {},
   "outputs": [
    {
     "name": "stdout",
     "output_type": "stream",
     "text": [
      "# Summer           13\n",
      "Gold                0\n",
      "Silver              0\n",
      "Bronze              2\n",
      "Total               2\n",
      "# Winter            0\n",
      "Gold.1              0\n",
      "Silver.1            0\n",
      "Bronze.1            0\n",
      "Total.1             0\n",
      "# Games            13\n",
      "Gold.2              0\n",
      "Silver.2            0\n",
      "Bronze.2            2\n",
      "Combined total      2\n",
      "ID                AFG\n",
      "Name: Afghanistan, dtype: object \n",
      " <class 'pandas.core.series.Series'>\n"
     ]
    }
   ],
   "source": [
    "# You should write your whole answer within the function provided. \n",
    "def answer_zero(data):\n",
    "    # This function should return the row for the first country, which is a Series object.\n",
    "    return print(pd.Series(data.iloc[0, :]), '\\n',type(pd.Series(data.loc['Afghanistan', :])))\n",
    "\n",
    "# You can examine what your function returns by calling it in the cell. \n",
    "answer_zero(df) "
   ]
  },
  {
   "cell_type": "markdown",
   "metadata": {},
   "source": [
    "### Question 2\n",
    "In summer games, which nation has won the most gold medals?\n",
    "\n",
    "\n",
    "*This function should return a single string value.*\n"
   ]
  },
  {
   "cell_type": "code",
   "execution_count": 76,
   "metadata": {},
   "outputs": [
    {
     "data": {
      "text/plain": [
       "['United States']"
      ]
     },
     "execution_count": 76,
     "metadata": {},
     "output_type": "execute_result"
    }
   ],
   "source": [
    "def answer_one(data,column):\n",
    "    \n",
    "    return [i for i in data.index if data.loc[i,column]==max(df.loc[:,column])]\n",
    "\n",
    "answer_one(df,\"Gold\")"
   ]
  },
  {
   "cell_type": "markdown",
   "metadata": {},
   "source": [
    "### Question 3\n",
    "Which nation had the biggest difference on gold medal counts? (between their summer and winter) \n",
    "\n",
    "*This function should return a single string value.*"
   ]
  },
  {
   "cell_type": "code",
   "execution_count": 81,
   "metadata": {},
   "outputs": [
    {
     "data": {
      "text/plain": [
       "['United States']"
      ]
     },
     "execution_count": 81,
     "metadata": {},
     "output_type": "execute_result"
    }
   ],
   "source": [
    "def answer_two(data):\n",
    "    diff = abs(data.loc[:,'Gold']-data.loc[:,'Gold.1'])\n",
    "    return [i for i in data.index if diff[i] == max(diff)]\n",
    "\n",
    "answer_two(df)"
   ]
  },
  {
   "cell_type": "markdown",
   "metadata": {},
   "source": [
    "# PART 2\n",
    "## Question 4 (25 Points for first two questions + 25 Points Bonus for last two questions)"
   ]
  },
  {
   "cell_type": "markdown",
   "metadata": {},
   "source": [
    "We will look at the publicly available airline data in this question similar to flights.csv that we covered in class practices. However, in this assignment, you are given 6 months of seperate data along with lookup tables for carriers and airports. Please apply data exploration and pre-procesing techniques and provide your answers for the following questions.\n",
    "\n",
    "\n",
    "\n",
    "Questions: \n",
    "\n",
    "    1. What carrier has flown the 1st most number of flights? How many?  \n",
    "    2. Which airport has the 3rd most delays? \n",
    "    3. What is the most popular day of the week to travel?\n",
    "    4. What is the 1st and 5th most flown route? \n",
    "\n",
    "Hints:\n",
    "\n",
    "1- pd.concat(list)\n",
    "list=[A,B,C...] e.g. A= pd.read_csv(\"1.csv\",encoding='utf-8')\n",
    "\n",
    "2-please leverage from pandas dataframe features including \n",
    "groupby(...).size()...\n",
    "groupby(...).sum().sort_values(....)\n",
    "\n",
    "3- Dont forget to consider cancelled flights\n",
    "\n",
    "4- Try to create a new column for \"route\"\n",
    "\n",
    "Dataset Details: \n",
    "Dataset name: On-Time Performance,\n",
    "Lookup Table: Carrier Lookup,\n",
    "Lookup Table: Airport Lookup\n"
   ]
  },
  {
   "cell_type": "code",
   "execution_count": 22,
   "metadata": {},
   "outputs": [],
   "source": [
    "import pandas as pd\n",
    "A= pd.read_csv(\"1.csv\",encoding='utf-8')\n",
    "B= pd.read_csv(\"2.csv\",encoding='utf-8')\n",
    "C= pd.read_csv(\"3.csv\",encoding='utf-8')\n",
    "D= pd.read_csv(\"4.csv\",encoding='utf-8')\n",
    "E= pd.read_csv(\"5.csv\",encoding='utf-8')\n",
    "F= pd.read_csv(\"6.csv\",encoding='utf-8')\n",
    "\n",
    "list=[A,B,C,D,E,F]\n",
    "df=pd.concat(list)\n",
    "\n"
   ]
  },
  {
   "cell_type": "code",
   "execution_count": 19,
   "metadata": {},
   "outputs": [
    {
     "data": {
      "text/plain": [
       "Index(['FL_DATE', 'UNIQUE_CARRIER', 'AIRLINE_ID', 'CARRIER', 'TAIL_NUM',\n",
       "       'FL_NUM', 'ORIGIN_AIRPORT_ID', 'ORIGIN_AIRPORT_SEQ_ID',\n",
       "       'ORIGIN_CITY_MARKET_ID', 'ORIGIN', 'ORIGIN_CITY_NAME',\n",
       "       'ORIGIN_STATE_ABR', 'ORIGIN_STATE_FIPS', 'ORIGIN_STATE_NM',\n",
       "       'ORIGIN_WAC', 'DEST_AIRPORT_ID', 'DEST_AIRPORT_SEQ_ID',\n",
       "       'DEST_CITY_MARKET_ID', 'DEST', 'DEST_CITY_NAME', 'DEST_STATE_ABR',\n",
       "       'DEST_STATE_FIPS', 'DEST_STATE_NM', 'DEST_WAC', 'CRS_DEP_TIME',\n",
       "       'DEP_TIME', 'DEP_DELAY', 'DEP_DELAY_NEW', 'DEP_DEL15',\n",
       "       'DEP_DELAY_GROUP', 'DEP_TIME_BLK', 'TAXI_OUT', 'WHEELS_OFF',\n",
       "       'WHEELS_ON', 'TAXI_IN', 'CRS_ARR_TIME', 'ARR_TIME', 'ARR_DELAY',\n",
       "       'ARR_DELAY_NEW', 'ARR_DEL15', 'ARR_DELAY_GROUP', 'ARR_TIME_BLK',\n",
       "       'CANCELLED', 'DIVERTED', 'CRS_ELAPSED_TIME', 'ACTUAL_ELAPSED_TIME',\n",
       "       'AIR_TIME', 'FLIGHTS', 'DISTANCE', 'DISTANCE_GROUP', 'Unnamed: 50'],\n",
       "      dtype='object')"
      ]
     },
     "execution_count": 19,
     "metadata": {},
     "output_type": "execute_result"
    }
   ],
   "source": [
    "df.columns"
   ]
  },
  {
   "cell_type": "code",
   "execution_count": 73,
   "metadata": {},
   "outputs": [
    {
     "name": "stdout",
     "output_type": "stream",
     "text": [
      "WN has flown the most numer of flght\n"
     ]
    },
    {
     "data": {
      "text/plain": [
       "UNIQUE_CARRIER\n",
       "WN    568904\n",
       "DL    377686\n",
       "EV    323664\n",
       "OO    294873\n",
       "AA    261647\n",
       "UA    237869\n",
       "US    202758\n",
       "MQ    189375\n",
       "B6    118709\n",
       "AS     76299\n",
       "FL     48403\n",
       "F9     37615\n",
       "HA     35980\n",
       "VX     28294\n",
       "Name: FL_NUM, dtype: int64"
      ]
     },
     "execution_count": 73,
     "metadata": {},
     "output_type": "execute_result"
    }
   ],
   "source": [
    "#1. What carrier has flown the 1st most number of flights? How many?  \n",
    "# filter the cancelled flights by setting CANCELLED = 0\n",
    "df1 = df.loc[(df.CANCELLED==0),['UNIQUE_CARRIER','FL_NUM']]\n",
    "\n",
    "num_Fl=df1.FL_NUM.groupby(df1['UNIQUE_CARRIER']).count().sort_values(ascending = False)\n",
    "\n",
    "print(num_Fl.index[0],'has flown the most numer of flght')\n",
    "\n",
    "num_Fl"
   ]
  },
  {
   "cell_type": "code",
   "execution_count": 21,
   "metadata": {},
   "outputs": [
    {
     "name": "stdout",
     "output_type": "stream",
     "text": [
      "DFW has the 3rd most delays.\n"
     ]
    },
    {
     "data": {
      "text/plain": [
       "ATL    107157.0\n",
       "ORD    101505.0\n",
       "DFW     82519.0\n",
       "DEN     82339.0\n",
       "LAX     68890.0\n",
       "         ...   \n",
       "WYS        15.0\n",
       "AKN        13.0\n",
       "DVL        13.0\n",
       "CIU         8.0\n",
       "HYA         NaN\n",
       "Length: 319, dtype: float64"
      ]
     },
     "execution_count": 21,
     "metadata": {},
     "output_type": "execute_result"
    }
   ],
   "source": [
    "# 2. Which airport has the 3rd most delays? \n",
    "\n",
    "# filter the no delay and early flight by setting DEP_DELAY>0 and ARR_DELAY>0\n",
    "df2 = df.loc[(df.DEP_DELAY>0) & (df.ARR_DELAY >0),['ORIGIN','DEP_DELAY','DEST','ARR_DELAY']]\n",
    "# Total Deplays is the sum of dept delays and arr delays\n",
    "Num_Del=df2.DEP_DELAY.groupby(df2['ORIGIN']).count()+\\\n",
    "                    df2.ARR_DELAY.groupby(df2['DEST']).count()\n",
    "\n",
    "print(Num_Del.sort_values(ascending = False).index[2],'has the 3rd most delays.')\n",
    "\n",
    "Num_Del.sort_values(ascending = False)"
   ]
  },
  {
   "cell_type": "code",
   "execution_count": 26,
   "metadata": {},
   "outputs": [
    {
     "data": {
      "text/plain": [
       "ORIGIN\n",
       "ATL    59693\n",
       "ORD    56388\n",
       "DFW    46680\n",
       "DEN    45498\n",
       "LAX    34167\n",
       "       ...  \n",
       "MVY       10\n",
       "WYS        8\n",
       "CIU        5\n",
       "AKN        4\n",
       "DVL        3\n",
       "Name: DEP_DELAY, Length: 318, dtype: int64"
      ]
     },
     "execution_count": 26,
     "metadata": {},
     "output_type": "execute_result"
    }
   ],
   "source": [
    "df2.DEP_DELAY.groupby(df2['ORIGIN']).count().sort_values(ascending = False)"
   ]
  },
  {
   "cell_type": "code",
   "execution_count": 25,
   "metadata": {},
   "outputs": [
    {
     "data": {
      "text/plain": [
       "DEST\n",
       "ATL    47464\n",
       "ORD    45117\n",
       "DEN    36841\n",
       "DFW    35839\n",
       "LAX    34723\n",
       "       ...  \n",
       "AKN        9\n",
       "ADK        8\n",
       "WYS        7\n",
       "CIU        3\n",
       "HYA        1\n",
       "Name: ARR_DELAY, Length: 319, dtype: int64"
      ]
     },
     "execution_count": 25,
     "metadata": {},
     "output_type": "execute_result"
    }
   ],
   "source": [
    " df2.ARR_DELAY.groupby(df2['DEST']).count().sort_values(ascending = False)"
   ]
  },
  {
   "cell_type": "code",
   "execution_count": 33,
   "metadata": {},
   "outputs": [
    {
     "name": "stdout",
     "output_type": "stream",
     "text": [
      "Weekday 4 is the most popular day of the week to travel\n"
     ]
    },
    {
     "data": {
      "text/plain": [
       "weekday\n",
       "4    426313\n",
       "3    420180\n",
       "0    419314\n",
       "2    407688\n",
       "6    395983\n",
       "1    388533\n",
       "5    344065\n",
       "Name: FL_NUM, dtype: int64"
      ]
     },
     "execution_count": 33,
     "metadata": {},
     "output_type": "execute_result"
    }
   ],
   "source": [
    "#3. What is the most popular day of the week to travel?\n",
    "#creating a new column week day\n",
    "df['FL_DATE']=pd.to_datetime(df['FL_DATE'])\n",
    "df['weekday'] =df['FL_DATE'].dt.dayofweek\n",
    "# filter the cancelled flights by setting CANCELLED = 0\n",
    "df3 = df.loc[(df.CANCELLED==0),['weekday','FL_NUM']]\n",
    "most_p=df3.FL_NUM.groupby(df3['weekday']).count().sort_values(ascending = False)\n",
    "print('Weekday',most_p.index[0],'is the most popular day of the week to travel')\n",
    "most_p"
   ]
  },
  {
   "cell_type": "code",
   "execution_count": 109,
   "metadata": {},
   "outputs": [
    {
     "name": "stdout",
     "output_type": "stream",
     "text": [
      "SFO to LAX is the 1st most flown route\n",
      "JFK to LAX is the 5th most flown route\n"
     ]
    },
    {
     "data": {
      "text/plain": [
       "route\n",
       "SFO to LAX    6460\n",
       "LAX to SFO    6422\n",
       "LAS to LAX    5928\n",
       "LAX to LAS    5792\n",
       "JFK to LAX    5696\n",
       "LAX to JFK    5689\n",
       "HNL to OGG    4798\n",
       "OGG to HNL    4793\n",
       "PHX to LAX    4723\n",
       "LAX to PHX    4708\n",
       "Name: FL_NUM, dtype: int64"
      ]
     },
     "execution_count": 109,
     "metadata": {},
     "output_type": "execute_result"
    }
   ],
   "source": [
    "# 4. What is the 1st and 5th most flown route?\n",
    "#creating a new column route each route is \n",
    "df['route']=df['ORIGIN']+' to '+df['DEST']\n",
    "# filter the cancelled flights by setting CANCELLED = 0\n",
    "df4 = df.loc[(df.CANCELLED==0),['route','FL_NUM']]\n",
    "\n",
    "p_route=df4.FL_NUM.groupby(df4['route']).count().sort_values(ascending = False)\n",
    "print(p_route.index[0],'is the 1st most flown route')\n",
    "print(p_route.index[4],'is the 5th most flown route')\n",
    "p_route[:10]"
   ]
  },
  {
   "cell_type": "code",
   "execution_count": null,
   "metadata": {},
   "outputs": [],
   "source": []
  }
 ],
 "metadata": {
  "kernelspec": {
   "display_name": "Python 3",
   "language": "python",
   "name": "python3"
  },
  "language_info": {
   "codemirror_mode": {
    "name": "ipython",
    "version": 3
   },
   "file_extension": ".py",
   "mimetype": "text/x-python",
   "name": "python",
   "nbconvert_exporter": "python",
   "pygments_lexer": "ipython3",
   "version": "3.7.4"
  }
 },
 "nbformat": 4,
 "nbformat_minor": 2
}
