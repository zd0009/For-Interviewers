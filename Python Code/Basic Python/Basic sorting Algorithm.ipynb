{
 "cells": [
  {
   "cell_type": "markdown",
   "metadata": {},
   "source": [
    "### Big O Notation"
   ]
  },
  {
   "cell_type": "markdown",
   "metadata": {},
   "source": [
    "When trying to characterize an algorithm’s efficiency in terms of execution time, independent of any particular program or computer, it is important to quantify the number of operations or steps that the algorithm will require. If each of these steps is considered to be a basic unit of computation, then the execution time for an algorithm can be expressed as the number of steps required to solve the problem. Deciding on an appropriate basic unit of computation can be a complicated problem and will depend on how the algorithm is implemented.\n",
    "\n",
    "\n",
    "\n",
    "![BigO](constant.png)\n",
    "\n",
    "As anexample, suppose that for some algorithm, the exact number of steps is T(n)=5n^2+27n+1005. When n is small, say 1 or 2, the constant 1005 seems to be the dominant part of the function. However, as n gets larger, the n^2 term becomes the most important. In fact, when n is really large, the other two terms become insignificant in the role that they play in determining the final result. Again, to approximate T(n) as n gets large, we can ignore the other terms and focus on 5n^2. In addition, the coefficient 5 becomes insignificant as n gets large. We would say then that the function T(n) has an order of magnitude f(n)=n^2, or simply that it is O(n^2).\n",
    "\n",
    "\n",
    "\n",
    "\n",
    "![BigO](bigo.png)"
   ]
  },
  {
   "cell_type": "markdown",
   "metadata": {},
   "source": [
    "\n",
    "Big O notation(“O” stands for “order”) is the language we use in Computer Science to describe the performance of an algorithm.\n",
    "\n",
    "How to quantify the performance of an algorithm? We could quantify it by(i)time cost and (ii) space cost. For time cost, Big O notation describes how much runtime an algorithm takes to run as the size n of input data set increases. In other words, Big O notation shows how quickly the runtime of executing an algorithm grows in “worst case”. For space cost, Big O notation describes how large of additional space(relative to the size n of input data set) an algorithm needs."
   ]
  },
  {
   "cell_type": "markdown",
   "metadata": {},
   "source": [
    "Why do we need “Big O” notation? In order to choose the suitable algorithm for the problem we want to solve. For example, if we want to sort a list, and here are different algorithms to accomplish this task(e.g. Merge Sort, Quick Sort, Bubble Sort). In order to compare the efficiency of different algorithms, we use “Big O” notation. Sometimes we will choose an algorithm that occupies less space but more time if additional space is very expensive to the company."
   ]
  },
  {
   "cell_type": "code",
   "execution_count": 1,
   "metadata": {},
   "outputs": [
    {
     "name": "stdout",
     "output_type": "stream",
     "text": [
      "[666]\n"
     ]
    }
   ],
   "source": [
    "#Time Complexity: O(1)\n",
    "#Name: Constant\n",
    "#Example operations: append, get item, set item.\n",
    "\n",
    "# Append an element to a list\n",
    "myList = [ ]\n",
    "myList.append(666)\n",
    "print (myList)"
   ]
  },
  {
   "cell_type": "code",
   "execution_count": 2,
   "metadata": {},
   "outputs": [
    {
     "name": "stdout",
     "output_type": "stream",
     "text": [
      "False\n",
      "True\n"
     ]
    }
   ],
   "source": [
    "#Time Complexity: O(log n)\n",
    "#Name: Logarithmic\n",
    "#Example operations: Finding an element in a sorted array.\n",
    "\n",
    "# Find target 22 in a sorted list\n",
    "# Here we use Binary Search algorithm because its time complexity is O(log n)\n",
    "def binarySearch(alist, item):\n",
    "    first = 0\n",
    "    last = len(alist)-1\n",
    "    found = False\n",
    "\n",
    "    while first<=last and not found:\n",
    "        midpoint = (first + last)//2\n",
    "        if alist[midpoint] == item:\n",
    "            found = True\n",
    "        else:\n",
    "            if item < alist[midpoint]:\n",
    "           \n",
    "                last = midpoint-1\n",
    "            else:\n",
    "                first = midpoint+1\n",
    "\n",
    "    return found\n",
    "\n",
    "testlist = [0, 1, 2, 8, 13, 17, 19, 32, 42]\n",
    "print(binarySearch(testlist, 22))\n",
    "print(binarySearch(testlist, 13))\n",
    "\n",
    "   "
   ]
  },
  {
   "cell_type": "markdown",
   "metadata": {},
   "source": [
    "Time Complexity: O(n)\n",
    "\n",
    "Name: Linear\n",
    "\n",
    "Example operations: copy, insert, delete, iteration."
   ]
  },
  {
   "cell_type": "code",
   "execution_count": 3,
   "metadata": {},
   "outputs": [
    {
     "data": {
      "text/plain": [
       "3"
      ]
     },
     "execution_count": 3,
     "metadata": {},
     "output_type": "execute_result"
    }
   ],
   "source": [
    "# Find target 22 (i.e. return its index)in a sorted list\n",
    "def linearSearch(sortedList, target):\n",
    "    for i in range(len(sortedList)):\n",
    "        if (sortedList[i] == target):\n",
    "            return i\n",
    "# If target is not in the list, return -1\n",
    "    return -1\n",
    "linearSearch([1,3,9,22],22)\n",
    "  "
   ]
  },
  {
   "cell_type": "markdown",
   "metadata": {},
   "source": [
    "Time Complexity: O(nLog n)\n",
    "    \n",
    "Name: Linear-Logarithmic\n",
    "    \n",
    "Example operations: Sort a list, for example, merge sort."
   ]
  },
  {
   "cell_type": "code",
   "execution_count": 26,
   "metadata": {},
   "outputs": [
    {
     "name": "stdout",
     "output_type": "stream",
     "text": [
      "[11, 22, 33, 44, 44, 55, 66, 77, 88]\n"
     ]
    }
   ],
   "source": [
    "# Merge sort\n",
    "#divide and conquer\n",
    "def mergeSort(alist):\n",
    "    if len(alist)>1:\n",
    "        mid = len(alist)//2\n",
    "        leftHalf = alist[:mid]\n",
    "        rightHalf = alist[mid:]\n",
    "        mergeSort(leftHalf)\n",
    "        mergeSort(rightHalf)\n",
    "        i=0\n",
    "        j=0\n",
    "        k=0\n",
    "        while i < len(leftHalf) and j < len(rightHalf):\n",
    "            if leftHalf[i] < rightHalf[j]:\n",
    "                alist[k]= leftHalf[i]\n",
    "                i=i+1\n",
    "            else:\n",
    "                alist[k]=rightHalf[j]\n",
    "                j=j+1\n",
    "            k=k+1\n",
    "        while i < len(leftHalf):\n",
    "            alist[k]=leftHalf[i]\n",
    "            i=i+1\n",
    "            k=k+1\n",
    "        while j < len(rightHalf):\n",
    "            alist[k]=rightHalf[j]\n",
    "            j=j+1\n",
    "            k=k+1\n",
    "alist = [11,22,55,44,77,66,44,33,88]\n",
    "mergeSort(alist)\n",
    "print(alist)"
   ]
  },
  {
   "cell_type": "markdown",
   "metadata": {},
   "source": [
    "Time Complexity: O(n²)\n",
    "    \n",
    "Name: Quadratic\n",
    "    \n",
    "Example operations: Find the shortest path between two nodes in a graph. Nested loops."
   ]
  },
  {
   "cell_type": "code",
   "execution_count": 33,
   "metadata": {},
   "outputs": [],
   "source": [
    "# Nested loops - pseudo code\n",
    "#for alist in list_groups:\n",
    "    #for word in work_list:\n",
    "        #if word == target_word:\n",
    "            #return 1\n",
    "            \n",
    "#return -1"
   ]
  },
  {
   "cell_type": "markdown",
   "metadata": {},
   "source": [
    "Time Complexity: O(n³)\n",
    "    \n",
    "Name: Cubic\n",
    "    \n",
    "Example operations: Matrix multiplication."
   ]
  },
  {
   "cell_type": "code",
   "execution_count": 10,
   "metadata": {},
   "outputs": [
    {
     "ename": "SyntaxError",
     "evalue": "'return' outside function (<ipython-input-10-a9de284e258f>, line 6)",
     "output_type": "error",
     "traceback": [
      "\u001b[0;36m  File \u001b[0;32m\"<ipython-input-10-a9de284e258f>\"\u001b[0;36m, line \u001b[0;32m6\u001b[0m\n\u001b[0;31m    return i\u001b[0m\n\u001b[0m    ^\u001b[0m\n\u001b[0;31mSyntaxError\u001b[0m\u001b[0;31m:\u001b[0m 'return' outside function\n"
     ]
    }
   ],
   "source": [
    "# 3 loops - pseudo code\n",
    "for i in range1:\n",
    "    for j in range2:\n",
    "         for k in range3:\n",
    "            if (aList[k] == target_word):\n",
    "                return i\n",
    "   # return -1\n",
    "#return -1"
   ]
  },
  {
   "cell_type": "markdown",
   "metadata": {},
   "source": [
    "Time Complexity: O(2^n)\n",
    "    \n",
    "Name: Exponential\n",
    "    \n",
    "Example operations: ‘Towers of Hanoi’ problem, backtracking."
   ]
  },
  {
   "cell_type": "code",
   "execution_count": 11,
   "metadata": {},
   "outputs": [],
   "source": [
    "# Recursive calculation of Fibonacci numbers\n",
    "def fibonacci(num):\n",
    "    if (num <= 1):\n",
    "        return num\n",
    "    return fibonacci(number - 2) + fibonacci(number - 1)"
   ]
  },
  {
   "cell_type": "markdown",
   "metadata": {},
   "source": [
    "Write two Python functions to find the minimum number in a list. The first function should compare each number to every other number on the list. O(n2). The second function should be linear O(n)."
   ]
  },
  {
   "cell_type": "code",
   "execution_count": 21,
   "metadata": {},
   "outputs": [
    {
     "name": "stdout",
     "output_type": "stream",
     "text": [
      "2\n"
     ]
    }
   ],
   "source": [
    "# excercise\n",
    "def findMin(alist):\n",
    "    minm=alist[0]\n",
    "    for i in range(len(alist)):\n",
    "        for j in range(len(alist)):\n",
    "            if alist[j] > minm:\n",
    "                minm = \n",
    "    return(minm)\n",
    "            \n",
    "print(findMin([5,4,2,7,6]))"
   ]
  },
  {
   "cell_type": "markdown",
   "metadata": {},
   "source": [
    "O(n^2)?"
   ]
  },
  {
   "cell_type": "code",
   "execution_count": 6,
   "metadata": {},
   "outputs": [
    {
     "name": "stdout",
     "output_type": "stream",
     "text": [
      "117\n",
      "size: 1000 time: 0.038421\n",
      "80\n",
      "size: 2000 time: 0.148418\n",
      "19\n",
      "size: 3000 time: 0.269045\n",
      "47\n",
      "size: 4000 time: 0.461460\n",
      "19\n",
      "size: 5000 time: 0.930695\n",
      "5\n",
      "size: 6000 time: 1.051694\n",
      "45\n",
      "size: 7000 time: 1.339433\n",
      "2\n",
      "size: 8000 time: 1.753583\n",
      "29\n",
      "size: 9000 time: 2.248872\n",
      "27\n",
      "size: 10000 time: 2.856217\n"
     ]
    }
   ],
   "source": [
    "import time\n",
    "from random import randrange\n",
    "\n",
    "\n",
    "for listsize in range(1000,10001,1000):\n",
    "    alist=[randrange(100000) for x in range(listsize)]\n",
    "    start=time.time()\n",
    "    print(findMin(alist))\n",
    "    end=time.time()\n",
    "    print(\"size: %d time: %f\" % (listsize,end-start))"
   ]
  },
  {
   "cell_type": "code",
   "execution_count": 13,
   "metadata": {},
   "outputs": [
    {
     "name": "stdout",
     "output_type": "stream",
     "text": [
      "8\n",
      "size: 1000 time: 0.000085\n",
      "30\n",
      "size: 2000 time: 0.000091\n",
      "78\n",
      "size: 3000 time: 0.000120\n",
      "7\n",
      "size: 4000 time: 0.000154\n",
      "17\n",
      "size: 5000 time: 0.000192\n",
      "16\n",
      "size: 6000 time: 0.000241\n",
      "12\n",
      "size: 7000 time: 0.000275\n",
      "13\n",
      "size: 8000 time: 0.000315\n",
      "6\n",
      "size: 9000 time: 0.000368\n",
      "0\n",
      "size: 10000 time: 0.000354\n"
     ]
    }
   ],
   "source": [
    "for listsize in range(1000,10001,1000):\n",
    "    alist=[randrange(100000) for x in range(listsize)]\n",
    "    start=time.time()\n",
    "    print(findMindd(alist))\n",
    "    end=time.time()\n",
    "    print(\"size: %d time: %f\" % (listsize,end-start))"
   ]
  },
  {
   "cell_type": "code",
   "execution_count": null,
   "metadata": {},
   "outputs": [],
   "source": []
  }
 ],
 "metadata": {
  "kernelspec": {
   "display_name": "Python 3",
   "language": "python",
   "name": "python3"
  },
  "language_info": {
   "codemirror_mode": {
    "name": "ipython",
    "version": 3
   },
   "file_extension": ".py",
   "mimetype": "text/x-python",
   "name": "python",
   "nbconvert_exporter": "python",
   "pygments_lexer": "ipython3",
   "version": "3.7.4"
  }
 },
 "nbformat": 4,
 "nbformat_minor": 2
}
